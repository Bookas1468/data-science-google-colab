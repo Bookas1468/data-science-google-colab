{
  "nbformat": 4,
  "nbformat_minor": 0,
  "metadata": {
    "colab": {
      "provenance": [],
      "include_colab_link": true
    },
    "kernelspec": {
      "name": "python3",
      "display_name": "Python 3"
    },
    "language_info": {
      "name": "python"
    }
  },
  "cells": [
    {
      "cell_type": "markdown",
      "metadata": {
        "id": "view-in-github",
        "colab_type": "text"
      },
      "source": [
        "<a href=\"https://colab.research.google.com/github/Bookas1468/data-science-google-colab/blob/main/Copy_of_Unit1NotesSF.ipynb\" target=\"_parent\"><img src=\"https://colab.research.google.com/assets/colab-badge.svg\" alt=\"Open In Colab\"/></a>"
      ]
    },
    {
      "cell_type": "markdown",
      "source": [
        "# Unit 1: Python Crash Course\n",
        "\n",
        "This is a crash course in the basics of python and data manipulation.\n",
        "\n",
        "Our goal is get vulnerable and exposed to some common ways to manipulate data in python, and learn some practical skills along the way.\n",
        "\n",
        "We will:\n",
        "\n",
        "1. Use variables to do basic operations.\n",
        "2. Explore the built in data structures we'll use: int, float, string, list, and dict\n",
        "3. Create and Manipulate Numpy Arrays\n",
        "4. Import and Manipulate Pandas Dataframes (plus cover bools)\n",
        "5. Use for loops to support Dataframe queries\n",
        "6. Export Data from Colab\n",
        "\n",
        "Will this unit cover all the python you'll need to ace this course?\n",
        "\n",
        "No.\n",
        "\n",
        "Will this feel like way too much information?\n",
        "\n",
        "Probably.\n",
        "\n",
        "But don't worry, you've got this! We'll learn as we go, and as we go you'll see me consisitently type \"how to \\___ in python\" or \"how to \\___ with pandas\" into google. You will learn to do the same.\n",
        "\n",
        "Let this be Lesson 0: **you don't need to know everything, you just need to know enough to ask for what you need**.\n"
      ],
      "metadata": {
        "id": "8NmSIRxdEMOm"
      }
    },
    {
      "cell_type": "markdown",
      "source": [
        "##Arithmetic with ints\n",
        "Let's start your journey into the world of data science with good ole' fashion addition, subtraction, and mutliplication. Let yourself wonder why I'm saving division for later."
      ],
      "metadata": {
        "id": "xlniv8ZUrj4S"
      }
    },
    {
      "cell_type": "code",
      "source": [
        "#Adding in python works inuitively. python automatically prints the result of any operation\n",
        "3 + 2"
      ],
      "metadata": {
        "id": "lA_t51FKsBnR",
        "colab": {
          "base_uri": "https://localhost:8080/"
        },
        "outputId": "8caab5c4-8ad6-4c78-f6d5-0df82b398f9b"
      },
      "execution_count": null,
      "outputs": [
        {
          "output_type": "execute_result",
          "data": {
            "text/plain": [
              "5"
            ]
          },
          "metadata": {},
          "execution_count": 206
        }
      ]
    },
    {
      "cell_type": "code",
      "source": [
        "#same with subtraction\n",
        "3 - 2"
      ],
      "metadata": {
        "id": "ud6x_r7KsMWN",
        "colab": {
          "base_uri": "https://localhost:8080/"
        },
        "outputId": "ce7db58b-2a34-43a3-f5da-0e8613d885d3"
      },
      "execution_count": null,
      "outputs": [
        {
          "output_type": "execute_result",
          "data": {
            "text/plain": [
              "1"
            ]
          },
          "metadata": {},
          "execution_count": 207
        }
      ]
    },
    {
      "cell_type": "code",
      "source": [
        "# multiplication use the astrisk symbol, \"*\"\n",
        "3 * 2"
      ],
      "metadata": {
        "id": "O84xxJdhsYRP",
        "colab": {
          "base_uri": "https://localhost:8080/"
        },
        "outputId": "9dcf9156-3d41-4380-e093-8a096bcd18a1"
      },
      "execution_count": null,
      "outputs": [
        {
          "output_type": "execute_result",
          "data": {
            "text/plain": [
              "6"
            ]
          },
          "metadata": {},
          "execution_count": 208
        }
      ]
    },
    {
      "cell_type": "code",
      "source": [
        "# exponetiation is quick too--just use the multiplication symbol twice\n",
        "3 ** 2"
      ],
      "metadata": {
        "id": "72OwsHmVsnTR",
        "colab": {
          "base_uri": "https://localhost:8080/"
        },
        "outputId": "c7046493-3647-40dd-9167-d5d94629ba2a"
      },
      "execution_count": null,
      "outputs": [
        {
          "output_type": "execute_result",
          "data": {
            "text/plain": [
              "9"
            ]
          },
          "metadata": {},
          "execution_count": 209
        }
      ]
    },
    {
      "cell_type": "markdown",
      "source": [
        "This next code block introduces our first built in function, \"type\". Functions take in an input through parentheses, and then return an output."
      ],
      "metadata": {
        "id": "4X_T6eXCHXTh"
      }
    },
    {
      "cell_type": "code",
      "source": [
        "type(3)"
      ],
      "metadata": {
        "id": "Z2BqqcRZHQTJ",
        "colab": {
          "base_uri": "https://localhost:8080/"
        },
        "outputId": "512524f1-5bbb-40e1-8e24-f1eb35910f81"
      },
      "execution_count": null,
      "outputs": [
        {
          "output_type": "execute_result",
          "data": {
            "text/plain": [
              "int"
            ]
          },
          "metadata": {},
          "execution_count": 210
        }
      ]
    },
    {
      "cell_type": "markdown",
      "source": [
        "For example, the absolute value function is \"abs\" in python, and works exactly like you think it would. Use the dash key \"-\" in front of a number (int or float) to make it negative"
      ],
      "metadata": {
        "id": "ET-zNOKTIMI8"
      }
    },
    {
      "cell_type": "code",
      "source": [
        "abs(- 2)"
      ],
      "metadata": {
        "id": "K9ZORCw-MBR-",
        "colab": {
          "base_uri": "https://localhost:8080/"
        },
        "outputId": "dd58a06c-d68f-4432-9eee-42bd76df1a75"
      },
      "execution_count": null,
      "outputs": [
        {
          "output_type": "execute_result",
          "data": {
            "text/plain": [
              "2"
            ]
          },
          "metadata": {},
          "execution_count": 211
        }
      ]
    },
    {
      "cell_type": "markdown",
      "source": [
        "I can stores these numbers in a variable for later use."
      ],
      "metadata": {
        "id": "2hbre6KZqDgl"
      }
    },
    {
      "cell_type": "code",
      "source": [
        "# I store \"-5\" in the variable x\n",
        "x = -5\n",
        "# I store \"2\" in the variable thing\n",
        "thing = 2\n",
        "\n",
        "#I print the content of the variables x and thing\n",
        "x, thing"
      ],
      "metadata": {
        "id": "tbAT1c2NqAtK",
        "colab": {
          "base_uri": "https://localhost:8080/"
        },
        "outputId": "9eaa9416-c340-4b10-c511-744317bdfa24"
      },
      "execution_count": null,
      "outputs": [
        {
          "output_type": "execute_result",
          "data": {
            "text/plain": [
              "(-5, 2)"
            ]
          },
          "metadata": {},
          "execution_count": 212
        }
      ]
    },
    {
      "cell_type": "markdown",
      "source": [
        "The ```=``` character is how we assign values to a variable. To help you understand this a little better, I'll refer to anther language, R.\n",
        "\n",
        "In python, we write ```x = -5```. In R, we would write ```x <- -5```. The ```<-``` is supposed to look like an arrow. As in, we are putting the value ```-5``` inside the container named ```x```.\n",
        "\n",
        "Again, ```=``` is only for assigning variables."
      ],
      "metadata": {
        "id": "ZESpjuAsisFf"
      }
    },
    {
      "cell_type": "markdown",
      "source": [
        "We can update the content of these variables whenever we want."
      ],
      "metadata": {
        "id": "z-M49yHXqUDI"
      }
    },
    {
      "cell_type": "code",
      "source": [
        "# add \"-5\" to \"2\" using the variables x and thing\n",
        "x = x + thing\n",
        "\n",
        "#print the contents of x\n",
        "x"
      ],
      "metadata": {
        "id": "rTK7DypRsGPD",
        "colab": {
          "base_uri": "https://localhost:8080/"
        },
        "outputId": "91a953b6-4d7f-4f0a-8832-25b78d6c3549"
      },
      "execution_count": null,
      "outputs": [
        {
          "output_type": "execute_result",
          "data": {
            "text/plain": [
              "-3"
            ]
          },
          "metadata": {},
          "execution_count": 213
        }
      ]
    },
    {
      "cell_type": "markdown",
      "source": [
        "Notice that we managed to get our computer to calculate $-5 +2$ without having to write $-5$ or $2$.\n",
        "\n",
        "What happens if we run the same code block?"
      ],
      "metadata": {
        "id": "S2c3KdXxsndl"
      }
    },
    {
      "cell_type": "code",
      "source": [
        "# add the contents x and thing\n",
        "x = x + thing\n",
        "\n",
        "#print the contents of x\n",
        "x"
      ],
      "metadata": {
        "id": "nhtggrhms_mE",
        "colab": {
          "base_uri": "https://localhost:8080/"
        },
        "outputId": "263dc767-9930-4c6a-cf43-9eeece0fb34e"
      },
      "execution_count": null,
      "outputs": [
        {
          "output_type": "execute_result",
          "data": {
            "text/plain": [
              "-1"
            ]
          },
          "metadata": {},
          "execution_count": 214
        }
      ]
    },
    {
      "cell_type": "markdown",
      "source": [
        "**Task1**:\n",
        "\n",
        "Explain why the variable x's value is now -1."
      ],
      "metadata": {
        "id": "7-jJWgbYt9AC"
      }
    },
    {
      "cell_type": "markdown",
      "source": [
        "You don't have to write your answer within the brackets, just with the cell that says '**Answer1**'"
      ],
      "metadata": {
        "id": "jKcYDuKV1bpG"
      }
    },
    {
      "cell_type": "markdown",
      "source": [
        "**Answer1**:\n",
        "\n",
        "you add thing to x again, since x was -3 it goes to -1"
      ],
      "metadata": {
        "id": "6PXkfOytuMY9"
      }
    },
    {
      "cell_type": "markdown",
      "source": [
        "Computers are only ever capable of doing exactly what we tell them to do, and its always possible to tell them to do something we don't underestand. This can be a\n",
        "\n",
        "- feature: a good thing we may or may not have intended to happen.\n",
        "\n",
        "or a\n",
        "\n",
        "- bug: a bad thing we didn't want to happen, but are never the less entirely responsible for."
      ],
      "metadata": {
        "id": "t9gOJClYtfFi"
      }
    },
    {
      "cell_type": "markdown",
      "source": [
        "Every piece of code you'll ever write is either a feature, a bug, or confusing. Keep this in mind as we move through the course."
      ],
      "metadata": {
        "id": "3U7N5dZmulbB"
      }
    },
    {
      "cell_type": "markdown",
      "source": [
        "### Division\n",
        "\n",
        "Let's look at an example of division, the other mathematical operation I left out."
      ],
      "metadata": {
        "id": "MMc63SWHvvgn"
      }
    },
    {
      "cell_type": "code",
      "source": [
        "#use a backslash for division\n",
        "-4 / 2"
      ],
      "metadata": {
        "id": "YGEdLrscv7Ak",
        "colab": {
          "base_uri": "https://localhost:8080/"
        },
        "outputId": "6dd872bf-cb90-4262-bac5-1f6f76e48a30"
      },
      "execution_count": null,
      "outputs": [
        {
          "output_type": "execute_result",
          "data": {
            "text/plain": [
              "-2.0"
            ]
          },
          "metadata": {},
          "execution_count": 215
        }
      ]
    },
    {
      "cell_type": "markdown",
      "source": [
        "That number has a decimal; let's check to see if it's still an int."
      ],
      "metadata": {
        "id": "c9H_FkDGwFep"
      }
    },
    {
      "cell_type": "code",
      "source": [
        "type(-4 / 2)"
      ],
      "metadata": {
        "id": "oEaWL39VwFHC",
        "colab": {
          "base_uri": "https://localhost:8080/"
        },
        "outputId": "240a2c0a-f9f4-4160-96cd-81be3fe78c41"
      },
      "execution_count": null,
      "outputs": [
        {
          "output_type": "execute_result",
          "data": {
            "text/plain": [
              "float"
            ]
          },
          "metadata": {},
          "execution_count": 216
        }
      ]
    },
    {
      "cell_type": "markdown",
      "source": [
        "### Libraries\n",
        "\n",
        "To better deal with this new float thing, I'll call a library of functions called numpy, and nickname it np for short.\n",
        "\n",
        "I need to use numpy for two reasons:\n",
        "\n",
        "- floats, as we'll see, do not behave as nicely as ints, and need to be treated with care. We'll only ever use libraries that show our floats the proper care and attention they need\n",
        "- python doesn't really have any built in math functions; abs() is basically the only one."
      ],
      "metadata": {
        "id": "4IQCcfbL0zuu"
      }
    },
    {
      "cell_type": "code",
      "source": [
        "import numpy as np"
      ],
      "metadata": {
        "id": "GYfyC8nl2Bb7"
      },
      "execution_count": null,
      "outputs": []
    },
    {
      "cell_type": "markdown",
      "source": [
        "With that our of the way, let's learn why we need to be cautious with floats."
      ],
      "metadata": {
        "id": "retVUltb186a"
      }
    },
    {
      "cell_type": "markdown",
      "source": [
        "##Floats, and the perils of infinite math with finite computers\n",
        "\n",
        "We often represent the real numbers, like $\\pi$, $\\sqrt{2}$, and $\\log(0.1)$ using another data type called a float. That's short for floating point number."
      ],
      "metadata": {
        "id": "FRXCeP2PIM-w"
      }
    },
    {
      "cell_type": "markdown",
      "source": [
        "Let's play with that last one, $\\log(0.1)$. We'll need to call numpy to use a log. Note that ```np.log``` is $\\log_e()$ or $\\ln()$"
      ],
      "metadata": {
        "id": "jFRD9ZrE9Ki9"
      }
    },
    {
      "cell_type": "code",
      "source": [
        "#numpy use log base e. Note how it tells its a float\n",
        "np.log(0.1)"
      ],
      "metadata": {
        "colab": {
          "base_uri": "https://localhost:8080/"
        },
        "outputId": "3b4eed98-08da-4ed7-a0e6-a39cbcbd60a6",
        "id": "xUXiaaJ0IVGK"
      },
      "execution_count": null,
      "outputs": [
        {
          "output_type": "execute_result",
          "data": {
            "text/plain": [
              "np.float64(-2.3025850929940455)"
            ]
          },
          "metadata": {},
          "execution_count": 218
        }
      ]
    },
    {
      "cell_type": "markdown",
      "source": [
        "You may notice this is a different typw of float from ```-4/2```. This won't matter that much until Unit 9, when our models will get a little more picky about data types."
      ],
      "metadata": {
        "id": "DV8Zyozi-Y-s"
      }
    },
    {
      "cell_type": "code",
      "source": [
        "#it has a decimal, which in python means its a float--or at least, a type of float\n",
        "type(np.log(0.1)), type(-4/2)"
      ],
      "metadata": {
        "colab": {
          "base_uri": "https://localhost:8080/"
        },
        "outputId": "c53514d4-28e5-4ea3-ac0d-386fca4e9540",
        "id": "Xy1H5tIHIbRc"
      },
      "execution_count": null,
      "outputs": [
        {
          "output_type": "execute_result",
          "data": {
            "text/plain": [
              "(numpy.float64, float)"
            ]
          },
          "metadata": {},
          "execution_count": 219
        }
      ]
    },
    {
      "cell_type": "markdown",
      "source": [
        "Now for the big reveal: our computers can't actually do math.\n",
        "\n",
        "At least, not *all* of math. Comupters are reliable mathematically, if we use them well.\n",
        "\n",
        "Here's an example:"
      ],
      "metadata": {
        "id": "eg5cmfOk_FsT"
      }
    },
    {
      "cell_type": "code",
      "source": [
        "2000 * np.log(0.1)"
      ],
      "metadata": {
        "colab": {
          "base_uri": "https://localhost:8080/"
        },
        "id": "MfFVYm5-8WSr",
        "outputId": "fd34c4f1-37be-42d3-a926-5dbdf560c880"
      },
      "execution_count": null,
      "outputs": [
        {
          "output_type": "execute_result",
          "data": {
            "text/plain": [
              "np.float64(-4605.170185988091)"
            ]
          },
          "metadata": {},
          "execution_count": 220
        }
      ]
    },
    {
      "cell_type": "markdown",
      "source": [
        "This is $2000 \\cdot \\log(0.1)$, and numpy correctly computed an approximation of that as the decimal number ```-4605.170185988091```.\n",
        "\n",
        "Math makes some fun statements about logarithms. Specifically, you may remember the rule that:\n",
        "\n",
        "$2000 \\cdot \\log(0.1) = \\log(0.1^{2000})$\n",
        "\n",
        "That statement is true--you may have even provided it in a previous class, using the defintions of logarithms, exponentiation, and the field axioms.\n",
        "\n",
        "But watch what happens when we try this on our computer."
      ],
      "metadata": {
        "id": "MsY7MF3w_d3M"
      }
    },
    {
      "cell_type": "code",
      "source": [
        "np.log(0.1**(2000))"
      ],
      "metadata": {
        "colab": {
          "base_uri": "https://localhost:8080/"
        },
        "id": "FX6dqgfb8hW1",
        "outputId": "7ea3677e-de49-4ca6-ddae-420228ee058d"
      },
      "execution_count": null,
      "outputs": [
        {
          "output_type": "stream",
          "name": "stderr",
          "text": [
            "/tmp/ipython-input-67815179.py:1: RuntimeWarning: divide by zero encountered in log\n",
            "  np.log(0.1**(2000))\n"
          ]
        },
        {
          "output_type": "execute_result",
          "data": {
            "text/plain": [
              "np.float64(-inf)"
            ]
          },
          "metadata": {},
          "execution_count": 221
        }
      ]
    },
    {
      "cell_type": "markdown",
      "source": [
        "Python is often known as a great language for debugging, or finding errors; you can see that here, in that Python gives us a RuntimeWarning and complains about dividing by zero, before spitting out its answer: negative infinity (or ```-inf```)\n",
        "\n",
        "Before explaining why that happens, I will explain a bit about how computers handle numbers.\n",
        "\n",
        "In order to report a number as an answer, a computer must be able to represent that number--physically. This is a problem, because numbers are infinite, and comupters are very much not.\n",
        "\n",
        "We can get around this problem for integers with some clever application of mathematical rules.\n",
        "\n",
        "But for real numbers like $\\log(0.1)$, our tricks only take us so far. **Extremely long decimal numbers will break our computer's ability to do math.**"
      ],
      "metadata": {
        "id": "jsfQUf0NBE1m"
      }
    },
    {
      "cell_type": "markdown",
      "source": [
        "**Task2**:\n",
        "\n",
        "Assume that $2000 \\cdot \\log(0.1) = \\log(0.1^{2000})$ (or prove it to yourself).\n",
        "\n",
        "Do\n",
        "\n",
        "```2000 * np.log(0.1)```\n",
        "\n",
        "and\n",
        "\n",
        "```np.log(0.1**(2000))```\n",
        "\n",
        "give the same output when run in python? **Why not?**\n",
        "\n",
        "Hint: attempt to write $0.1^{2000}$ all the way out."
      ],
      "metadata": {
        "id": "Tgx3YccxI2tR"
      }
    },
    {
      "cell_type": "markdown",
      "source": [
        "**Answer2**:\n",
        "\n",
        "no, since .1^2000 is so close to 0 that the computer cannot represent it all and deletes it, so you end up attempting to get the log of 0 which is undefined"
      ],
      "metadata": {
        "id": "IFsA_ffFn2V0"
      }
    },
    {
      "cell_type": "code",
      "source": [
        "2000*np.log(.1)"
      ],
      "metadata": {
        "colab": {
          "base_uri": "https://localhost:8080/"
        },
        "id": "2-ZyEztQFMhJ",
        "outputId": "af3691cc-fc8e-4a46-b355-969e6323af2e"
      },
      "execution_count": null,
      "outputs": [
        {
          "output_type": "execute_result",
          "data": {
            "text/plain": [
              "np.float64(-4605.170185988091)"
            ]
          },
          "metadata": {},
          "execution_count": 222
        }
      ]
    },
    {
      "cell_type": "code",
      "source": [
        "np.log(.1**2000)"
      ],
      "metadata": {
        "outputId": "141d5e5a-3f72-476b-a419-34eb79630760",
        "colab": {
          "base_uri": "https://localhost:8080/"
        },
        "id": "Ta1mViOBFRbo"
      },
      "execution_count": null,
      "outputs": [
        {
          "output_type": "stream",
          "name": "stderr",
          "text": [
            "/tmp/ipython-input-1786167602.py:1: RuntimeWarning: divide by zero encountered in log\n",
            "  np.log(.1**2000)\n"
          ]
        },
        {
          "output_type": "execute_result",
          "data": {
            "text/plain": [
              "np.float64(-inf)"
            ]
          },
          "metadata": {},
          "execution_count": 223
        }
      ]
    },
    {
      "cell_type": "markdown",
      "source": [
        "##Strings, Lists, and Dicts\n",
        "Before we get more into those libraires like numpy, let's return to base python.\n",
        "Everything in this section can be done without importing a library."
      ],
      "metadata": {
        "id": "vPH20lfw-j4t"
      }
    },
    {
      "cell_type": "markdown",
      "source": [
        "###Strings\n",
        "Let's start with strings. We can define a string by putting ' ' or \" \" around any character, including numbers"
      ],
      "metadata": {
        "id": "g3hNcIF72f05"
      }
    },
    {
      "cell_type": "code",
      "source": [
        "'5', type('5'), 5, type(5)"
      ],
      "metadata": {
        "id": "uBBrfiQr2oa8",
        "colab": {
          "base_uri": "https://localhost:8080/"
        },
        "outputId": "61e5bc03-ad4d-4fa4-a276-3bd11f35be8d"
      },
      "execution_count": null,
      "outputs": [
        {
          "output_type": "execute_result",
          "data": {
            "text/plain": [
              "('5', str, 5, int)"
            ]
          },
          "metadata": {},
          "execution_count": 224
        }
      ]
    },
    {
      "cell_type": "code",
      "source": [
        "'type(5)', type('type(5)')"
      ],
      "metadata": {
        "id": "SH1YJUPE3FI3",
        "colab": {
          "base_uri": "https://localhost:8080/"
        },
        "outputId": "e9d7f184-855d-4c8d-a2b6-023e510c9178"
      },
      "execution_count": null,
      "outputs": [
        {
          "output_type": "execute_result",
          "data": {
            "text/plain": [
              "('type(5)', str)"
            ]
          },
          "metadata": {},
          "execution_count": 225
        }
      ]
    },
    {
      "cell_type": "markdown",
      "source": [
        "We'll use strings to define labels for our models and graphs, and to represent non-numerical data.\n",
        "\n",
        "For right now though, they are our first example of an iterable data type. In other words, python keeps track of the individual characters in a string, their order, and how many characters there are."
      ],
      "metadata": {
        "id": "O0zDg6_P3u8U"
      }
    },
    {
      "cell_type": "code",
      "source": [
        "\"dog\""
      ],
      "metadata": {
        "id": "5Q4UeShB5Nix",
        "colab": {
          "base_uri": "https://localhost:8080/",
          "height": 35
        },
        "outputId": "e6aba99f-f24f-4cf8-f106-52ffdf6b2676"
      },
      "execution_count": null,
      "outputs": [
        {
          "output_type": "execute_result",
          "data": {
            "text/plain": [
              "'dog'"
            ],
            "application/vnd.google.colaboratory.intrinsic+json": {
              "type": "string"
            }
          },
          "metadata": {},
          "execution_count": 226
        }
      ]
    },
    {
      "cell_type": "code",
      "source": [
        "#find the length of an iterable object\n",
        "len('dog')"
      ],
      "metadata": {
        "id": "cM8fOMKv4lrL",
        "colab": {
          "base_uri": "https://localhost:8080/"
        },
        "outputId": "c4c029b0-e358-4fbb-9411-c691fe8b4c17"
      },
      "execution_count": null,
      "outputs": [
        {
          "output_type": "execute_result",
          "data": {
            "text/plain": [
              "3"
            ]
          },
          "metadata": {},
          "execution_count": 227
        }
      ]
    },
    {
      "cell_type": "code",
      "source": [
        "#grab the first character in the string 'cat'\n",
        "'dog'[0]"
      ],
      "metadata": {
        "id": "hT3_vg_b4urp",
        "colab": {
          "base_uri": "https://localhost:8080/",
          "height": 35
        },
        "outputId": "92234879-723b-479a-f3ff-116ccc67a45b"
      },
      "execution_count": null,
      "outputs": [
        {
          "output_type": "execute_result",
          "data": {
            "text/plain": [
              "'d'"
            ],
            "application/vnd.google.colaboratory.intrinsic+json": {
              "type": "string"
            }
          },
          "metadata": {},
          "execution_count": 228
        }
      ]
    },
    {
      "cell_type": "markdown",
      "source": [
        "Variables are not strings. We'll get an error if we make that mistake"
      ],
      "metadata": {
        "id": "GehBqP5r47Ak"
      }
    },
    {
      "cell_type": "code",
      "source": [],
      "metadata": {
        "id": "ERSeuNwc4_oQ"
      },
      "execution_count": null,
      "outputs": []
    },
    {
      "cell_type": "markdown",
      "source": [
        "That said, I can assign a string to a variable."
      ],
      "metadata": {
        "id": "KgXEQM7X5bkz"
      }
    },
    {
      "cell_type": "code",
      "source": [
        "#assign the string 'dog' to variable x\n",
        "x = 'dog'\n",
        "#grab the second and third characters of the string\n",
        "x[1:3]"
      ],
      "metadata": {
        "id": "R111JN8r5gjg",
        "colab": {
          "base_uri": "https://localhost:8080/",
          "height": 35
        },
        "outputId": "7ae42fef-abf0-474b-8c48-85025ff3f23c"
      },
      "execution_count": null,
      "outputs": [
        {
          "output_type": "execute_result",
          "data": {
            "text/plain": [
              "'og'"
            ],
            "application/vnd.google.colaboratory.intrinsic+json": {
              "type": "string"
            }
          },
          "metadata": {},
          "execution_count": 229
        }
      ]
    },
    {
      "cell_type": "markdown",
      "source": [
        "Using the [ ] directly behind an iterable object, or directly behind a varable that points to an iterable object, splices the object according to some built in rules. Let's practice to see how it works."
      ],
      "metadata": {
        "id": "VAE-zDld52Dv"
      }
    },
    {
      "cell_type": "markdown",
      "source": [
        "**Task3**:\n",
        "\n",
        "Splice the string 'Hippopotomonstrosesquippedaliophobia' to output 'monstro' using a single line of code.\n",
        "\n",
        "Note: with data science, its not important to get it right on the first try. Just try stuff and see what happens."
      ],
      "metadata": {
        "id": "jRtb8JwP6ecc"
      }
    },
    {
      "cell_type": "code",
      "source": [
        "#ANSWER3\n",
        "'Hippopotomonstrosesquippedaliophobia'[9:16]\n",
        "#[*write your answer here*]"
      ],
      "metadata": {
        "id": "hdzJ-sST7idE",
        "colab": {
          "base_uri": "https://localhost:8080/",
          "height": 35
        },
        "outputId": "17350738-4579-42b2-e687-2b299fb3e53f"
      },
      "execution_count": null,
      "outputs": [
        {
          "output_type": "execute_result",
          "data": {
            "text/plain": [
              "'monstro'"
            ],
            "application/vnd.google.colaboratory.intrinsic+json": {
              "type": "string"
            }
          },
          "metadata": {},
          "execution_count": 230
        }
      ]
    },
    {
      "cell_type": "markdown",
      "source": [
        "There's one more thing about strings you must know: strings are immutable, unchangeable. Anytime it looks like you're changing a string, you're actaully creating a new string based off the old, still extant, string.\n",
        "\n",
        "This means that we, as data scientists, will rarely, if ever, store our data in strings. They're also really hard to look at when they get larger, as Task3 showed."
      ],
      "metadata": {
        "id": "BFxALqJ_8__R"
      }
    },
    {
      "cell_type": "markdown",
      "source": [
        "###Lists\n",
        "\n",
        "This brings us to our next data type, lists. They are iterable like strings, but they are mutable (changable), and can hold all types of data, not just characters."
      ],
      "metadata": {
        "id": "HkkqnEof-HK-"
      }
    },
    {
      "cell_type": "code",
      "source": [
        "#define my list with brackets\n",
        "my_list = [\"dog\", x, 5]\n",
        "#print my list\n",
        "my_list"
      ],
      "metadata": {
        "id": "0LnTNA_b-k0A",
        "colab": {
          "base_uri": "https://localhost:8080/"
        },
        "outputId": "de1a258c-3c38-4e34-c42e-8995c51c17ce"
      },
      "execution_count": null,
      "outputs": [
        {
          "output_type": "execute_result",
          "data": {
            "text/plain": [
              "['dog', 'dog', 5]"
            ]
          },
          "metadata": {},
          "execution_count": 231
        }
      ]
    },
    {
      "cell_type": "markdown",
      "source": [
        "Notice that when I put a variable in my list, the list reports the contents of the variable. Let's see how that works"
      ],
      "metadata": {
        "id": "KBAs9WwF-_5-"
      }
    },
    {
      "cell_type": "code",
      "source": [
        "b_list = ['Hippopotomonstrosesquippedaliophobia'[9:16], 4/2 , len(my_list), my_list]\n",
        "\n",
        "b_list"
      ],
      "metadata": {
        "id": "3m0hddna_f_Q",
        "colab": {
          "base_uri": "https://localhost:8080/"
        },
        "outputId": "b02eeb22-4e2f-4052-d335-aa74ca226d81"
      },
      "execution_count": null,
      "outputs": [
        {
          "output_type": "execute_result",
          "data": {
            "text/plain": [
              "['monstro', 2.0, 3, ['dog', 'dog', 5]]"
            ]
          },
          "metadata": {},
          "execution_count": 232
        }
      ]
    },
    {
      "cell_type": "code",
      "source": [
        "#add another item to the end of my list\n",
        "my_list.append(np.log(0.1))\n",
        "#print the list\n",
        "my_list"
      ],
      "metadata": {
        "id": "HNz2Yei7_7Ln",
        "colab": {
          "base_uri": "https://localhost:8080/"
        },
        "outputId": "4c7512bd-782e-4434-f9cd-0a2cf5139249"
      },
      "execution_count": null,
      "outputs": [
        {
          "output_type": "execute_result",
          "data": {
            "text/plain": [
              "['dog', 'dog', 5, np.float64(-2.3025850929940455)]"
            ]
          },
          "metadata": {},
          "execution_count": 233
        }
      ]
    },
    {
      "cell_type": "code",
      "source": [
        "b_list"
      ],
      "metadata": {
        "id": "4IIAegX7AICW",
        "colab": {
          "base_uri": "https://localhost:8080/"
        },
        "outputId": "707e5531-a62f-45e9-867d-d8fac31d35f4"
      },
      "execution_count": null,
      "outputs": [
        {
          "output_type": "execute_result",
          "data": {
            "text/plain": [
              "['monstro', 2.0, 3, ['dog', 'dog', 5, np.float64(-2.3025850929940455)]]"
            ]
          },
          "metadata": {},
          "execution_count": 234
        }
      ]
    },
    {
      "cell_type": "markdown",
      "source": [
        "**Task4**:\n",
        "\n",
        "Explain what happened in the last three code blocks; why is 2580156526864974.5 in b_list now?"
      ],
      "metadata": {
        "id": "n13RCo86AVGZ"
      }
    },
    {
      "cell_type": "markdown",
      "source": [
        "**Answer4**:\n",
        "\n",
        "b_list contains my_list and Python lists are not static so changing my_list's content also changes b_list's content"
      ],
      "metadata": {
        "id": "SjxYvKC3AihR"
      }
    },
    {
      "cell_type": "markdown",
      "source": [
        "Let's practice splicing once more before moving on."
      ],
      "metadata": {
        "id": "fvLSQQt9BNor"
      }
    },
    {
      "cell_type": "markdown",
      "source": [
        "**Task5**:\n",
        "\n",
        "Using one line of code, grab the last three entries of my_list without writing my_list anywhere in your code.\n",
        "\n",
        "This task is a little harder than the others, so make sure you're working together. Don't be shy about googling 'how to splice lists in python' either."
      ],
      "metadata": {
        "id": "iftRvhTLBRZL"
      }
    },
    {
      "cell_type": "code",
      "source": [
        "#ANSWER5\n",
        "\n",
        "b_list[3][1:4]"
      ],
      "metadata": {
        "id": "TWu4b5eVBljg",
        "colab": {
          "base_uri": "https://localhost:8080/"
        },
        "outputId": "5a204369-0432-4b5b-8441-f802b21ba0f2"
      },
      "execution_count": null,
      "outputs": [
        {
          "output_type": "execute_result",
          "data": {
            "text/plain": [
              "['dog', 5, np.float64(-2.3025850929940455)]"
            ]
          },
          "metadata": {},
          "execution_count": 235
        }
      ]
    },
    {
      "cell_type": "markdown",
      "source": [
        "###Dicts\n",
        "\n",
        "Like lists, dicts can hold any and all types of data. What differentiaties them from lists is that data in a dict is stored as a key/value pair called an item."
      ],
      "metadata": {
        "id": "mCVql9lfCXmv"
      }
    },
    {
      "cell_type": "code",
      "source": [
        "#make my dict\n",
        "my_dict = {'one':4/2, 2:my_list, '3':b_list[0]}\n",
        "my_dict"
      ],
      "metadata": {
        "id": "fmksWP1hJ4F2",
        "colab": {
          "base_uri": "https://localhost:8080/"
        },
        "outputId": "cde6722f-ea19-4501-9628-ee073b813a11"
      },
      "execution_count": null,
      "outputs": [
        {
          "output_type": "execute_result",
          "data": {
            "text/plain": [
              "{'one': 2.0,\n",
              " 2: ['dog', 'dog', 5, np.float64(-2.3025850929940455)],\n",
              " '3': 'monstro'}"
            ]
          },
          "metadata": {},
          "execution_count": 236
        }
      ]
    },
    {
      "cell_type": "markdown",
      "source": [
        "Dicts aren't entirely iterable."
      ],
      "metadata": {
        "id": "BLYdbXSpKkF4"
      }
    },
    {
      "cell_type": "code",
      "source": [
        "#my_dict[0]"
      ],
      "metadata": {
        "id": "3ipy3XswKavQ"
      },
      "execution_count": null,
      "outputs": []
    },
    {
      "cell_type": "markdown",
      "source": [
        "Instead of splicing, we acces the values of a dict using its keys."
      ],
      "metadata": {
        "id": "NSm5uTbSKprj"
      }
    },
    {
      "cell_type": "code",
      "source": [
        "my_dict['one'], my_dict['3'], my_dict[2.]"
      ],
      "metadata": {
        "id": "q7gBFLcgK0wo",
        "colab": {
          "base_uri": "https://localhost:8080/"
        },
        "outputId": "36a726a7-1210-4034-e745-fd818802cb27"
      },
      "execution_count": null,
      "outputs": [
        {
          "output_type": "execute_result",
          "data": {
            "text/plain": [
              "(2.0, 'monstro', ['dog', 'dog', 5, np.float64(-2.3025850929940455)])"
            ]
          },
          "metadata": {},
          "execution_count": 238
        }
      ]
    },
    {
      "cell_type": "code",
      "source": [
        "#dicts can recognize when floats are equivalent to ints\n",
        "my_dict[2]"
      ],
      "metadata": {
        "id": "1wL5QtHkLJqt",
        "colab": {
          "base_uri": "https://localhost:8080/"
        },
        "outputId": "3a2d1825-3119-4687-984c-6b7c35dde164"
      },
      "execution_count": null,
      "outputs": [
        {
          "output_type": "execute_result",
          "data": {
            "text/plain": [
              "['dog', 'dog', 5, np.float64(-2.3025850929940455)]"
            ]
          },
          "metadata": {},
          "execution_count": 239
        }
      ]
    },
    {
      "cell_type": "markdown",
      "source": [
        "If we want to iterate a dict, we need its keys. We can also just grab the values directly"
      ],
      "metadata": {
        "id": "BzcUpk73MFAE"
      }
    },
    {
      "cell_type": "code",
      "source": [
        "my_dict.keys()"
      ],
      "metadata": {
        "id": "4s26s4OMMMK4",
        "colab": {
          "base_uri": "https://localhost:8080/"
        },
        "outputId": "670915ac-b532-451d-9116-fac462b82abb"
      },
      "execution_count": null,
      "outputs": [
        {
          "output_type": "execute_result",
          "data": {
            "text/plain": [
              "dict_keys(['one', 2, '3'])"
            ]
          },
          "metadata": {},
          "execution_count": 240
        }
      ]
    },
    {
      "cell_type": "code",
      "source": [
        "my_dict.values()"
      ],
      "metadata": {
        "id": "FyfaQT4RMTk0",
        "colab": {
          "base_uri": "https://localhost:8080/"
        },
        "outputId": "21d4fce4-ceb6-4146-e8de-326633234626"
      },
      "execution_count": null,
      "outputs": [
        {
          "output_type": "execute_result",
          "data": {
            "text/plain": [
              "dict_values([2.0, ['dog', 'dog', 5, np.float64(-2.3025850929940455)], 'monstro'])"
            ]
          },
          "metadata": {},
          "execution_count": 241
        }
      ]
    },
    {
      "cell_type": "markdown",
      "source": [
        "There are two other basic iterable data types in python: sets and tuples. We don't need to know much about them for this course though, so we'll move on to some data structures that we will use *a lot*."
      ],
      "metadata": {
        "id": "RkArvD60Mvyd"
      }
    },
    {
      "cell_type": "markdown",
      "source": [
        "## Numpy Arrays\n",
        "\n",
        "Nearly all scientific computing and data science in python uses numpy arrays, or something built out of numpy arrays. Numpy arrays are similar to lists, except they are imutable, and only hold one data type at a time"
      ],
      "metadata": {
        "id": "3vUOOe4wNvdR"
      }
    },
    {
      "cell_type": "code",
      "source": [
        "first_array = np.array([x,'dog', 'montro'])\n",
        "first_array"
      ],
      "metadata": {
        "id": "xpS4CyPsN1wE",
        "colab": {
          "base_uri": "https://localhost:8080/"
        },
        "outputId": "62b56d22-a789-4987-a19e-4cf68617a912"
      },
      "execution_count": null,
      "outputs": [
        {
          "output_type": "execute_result",
          "data": {
            "text/plain": [
              "array(['dog', 'dog', 'montro'], dtype='<U6')"
            ]
          },
          "metadata": {},
          "execution_count": 242
        }
      ]
    },
    {
      "cell_type": "code",
      "source": [
        "hoo_array = np.array([np.pi, 11, 2 - 7])\n",
        "hoo_array"
      ],
      "metadata": {
        "id": "3Kfkr0QcPHJ8",
        "colab": {
          "base_uri": "https://localhost:8080/"
        },
        "outputId": "e019caf6-eea0-4e7b-a6fa-fc661d850ea2"
      },
      "execution_count": null,
      "outputs": [
        {
          "output_type": "execute_result",
          "data": {
            "text/plain": [
              "array([ 3.14159265, 11.        , -5.        ])"
            ]
          },
          "metadata": {},
          "execution_count": 243
        }
      ]
    },
    {
      "cell_type": "markdown",
      "source": [
        "hoo_array converted the two ints, 11 and -5, into floats, to ensure that everything is the same data type.\n",
        "\n",
        "A similar thing happens when you try to mix floats and ints with strings."
      ],
      "metadata": {
        "id": "aMJY5Q1RPPGd"
      }
    },
    {
      "cell_type": "markdown",
      "source": [
        "**Task6**:\n",
        "\n",
        "What happens when you make an numpy array with floats, strings, and ints?"
      ],
      "metadata": {
        "id": "36yrr-YlQL0v"
      }
    },
    {
      "cell_type": "code",
      "source": [
        "#ANSWER6\n",
        "a_ray = np.array([1231.1523124,\"cheeze whizz\", 123])\n",
        "a_ray"
      ],
      "metadata": {
        "id": "o2qCieLlPiCw",
        "colab": {
          "base_uri": "https://localhost:8080/"
        },
        "outputId": "9246c85e-3913-412e-8368-6569fad81be4"
      },
      "execution_count": null,
      "outputs": [
        {
          "output_type": "execute_result",
          "data": {
            "text/plain": [
              "array(['1231.1523124', 'cheeze whizz', '123'], dtype='<U32')"
            ]
          },
          "metadata": {},
          "execution_count": 244
        }
      ]
    },
    {
      "cell_type": "markdown",
      "source": [
        "**Answer6 cont.**:\n",
        "\n",
        "it converts all the items into strings since it can only have one data type and most data types can be read to and from strings"
      ],
      "metadata": {
        "id": "OY6nERNPQYjD"
      }
    },
    {
      "cell_type": "markdown",
      "source": [
        "Why make such a big deal out of numpy arrays, if they have this weird behavior?\n",
        "\n",
        "Ensuring that arrays are always of the same data type makes operations with arrays fast, which is essential when dealing with even moderately sized data sets."
      ],
      "metadata": {
        "id": "Ool262SkQqeh"
      }
    },
    {
      "cell_type": "markdown",
      "source": [
        "Actually there's more reasons to love numpy arrays."
      ],
      "metadata": {
        "id": "Pyp-Wt0NRxsU"
      }
    },
    {
      "cell_type": "markdown",
      "source": [
        "Arrays support element wise multiplication, addition, subtraction, and division by constants. Which is just what would happen to vectors, the mathematical object arrays were modeled after."
      ],
      "metadata": {
        "id": "q0OA_dk_SJLR"
      }
    },
    {
      "cell_type": "code",
      "source": [
        "2 * hoo_array + 1"
      ],
      "metadata": {
        "id": "GIYrGdr3SAtW",
        "colab": {
          "base_uri": "https://localhost:8080/"
        },
        "outputId": "54b49c08-0da0-4b36-c605-0e3b4ea478f3"
      },
      "execution_count": null,
      "outputs": [
        {
          "output_type": "execute_result",
          "data": {
            "text/plain": [
              "array([ 7.28318531, 23.        , -9.        ])"
            ]
          },
          "metadata": {},
          "execution_count": 245
        }
      ]
    },
    {
      "cell_type": "markdown",
      "source": [
        "Regular multiplication with arrays executes element wise multiplication"
      ],
      "metadata": {
        "id": "UodMsbZzcLa2"
      }
    },
    {
      "cell_type": "code",
      "source": [
        "hoo_array * hoo_array"
      ],
      "metadata": {
        "id": "TBHNfz31cFVj",
        "colab": {
          "base_uri": "https://localhost:8080/"
        },
        "outputId": "81d54e50-8487-45ad-b4b8-ce2950ca9eae"
      },
      "execution_count": null,
      "outputs": [
        {
          "output_type": "execute_result",
          "data": {
            "text/plain": [
              "array([  9.8696044, 121.       ,  25.       ])"
            ]
          },
          "metadata": {},
          "execution_count": 246
        }
      ]
    },
    {
      "cell_type": "markdown",
      "source": [
        "Numpy arrays also handle matrix multiplication. What's that? Don't worry about it for now, just know that it exists."
      ],
      "metadata": {
        "id": "Yq_6ND-_ctm8"
      }
    },
    {
      "cell_type": "code",
      "source": [
        "# define a new array, with easy to follow numbers\n",
        "pl_array = np.array([1,2,3])"
      ],
      "metadata": {
        "id": "0-9__1ALfkE8"
      },
      "execution_count": null,
      "outputs": []
    },
    {
      "cell_type": "code",
      "source": [
        "#inner product, dot product\n",
        "pl_array @ pl_array"
      ],
      "metadata": {
        "id": "lQ7p1i06c8kt",
        "colab": {
          "base_uri": "https://localhost:8080/"
        },
        "outputId": "6a6dc283-0e07-42a0-cf7b-898489d9e4c6"
      },
      "execution_count": null,
      "outputs": [
        {
          "output_type": "execute_result",
          "data": {
            "text/plain": [
              "np.int64(14)"
            ]
          },
          "metadata": {},
          "execution_count": 248
        }
      ]
    },
    {
      "cell_type": "code",
      "source": [
        "#matmul works as a dot product/ inner product as well\n",
        "np.matmul(pl_array,pl_array)"
      ],
      "metadata": {
        "id": "zhNg5teigA6H",
        "colab": {
          "base_uri": "https://localhost:8080/"
        },
        "outputId": "19942ab4-8a86-4d88-f83f-3eb6908ebbba"
      },
      "execution_count": null,
      "outputs": [
        {
          "output_type": "execute_result",
          "data": {
            "text/plain": [
              "np.int64(14)"
            ]
          },
          "metadata": {},
          "execution_count": 249
        }
      ]
    },
    {
      "cell_type": "code",
      "source": [
        "#use np.outer for outer product\n",
        "first_matrix = np.outer(pl_array,pl_array)\n",
        "first_matrix"
      ],
      "metadata": {
        "id": "8ONBvwbFhEfY",
        "colab": {
          "base_uri": "https://localhost:8080/"
        },
        "outputId": "2172f8dc-1fea-4717-c3ee-b6dda7cf3b05"
      },
      "execution_count": null,
      "outputs": [
        {
          "output_type": "execute_result",
          "data": {
            "text/plain": [
              "array([[1, 2, 3],\n",
              "       [2, 4, 6],\n",
              "       [3, 6, 9]])"
            ]
          },
          "metadata": {},
          "execution_count": 250
        }
      ]
    },
    {
      "cell_type": "markdown",
      "source": [
        "### Array Creation\n",
        "\n",
        "One of the great things about computers is that they can do tedious tasks for me, like make a 100 by 100 matrix."
      ],
      "metadata": {
        "id": "b7ravYUmi59e"
      }
    },
    {
      "cell_type": "code",
      "source": [
        "#feel the power\n",
        "some_ones = np.ones((100,100))\n",
        "some_ones"
      ],
      "metadata": {
        "id": "6GXoMBvUkmfh",
        "colab": {
          "base_uri": "https://localhost:8080/"
        },
        "outputId": "ddd9f72b-b1b4-4b24-f5a0-e7029f380c6f"
      },
      "execution_count": null,
      "outputs": [
        {
          "output_type": "execute_result",
          "data": {
            "text/plain": [
              "array([[1., 1., 1., ..., 1., 1., 1.],\n",
              "       [1., 1., 1., ..., 1., 1., 1.],\n",
              "       [1., 1., 1., ..., 1., 1., 1.],\n",
              "       ...,\n",
              "       [1., 1., 1., ..., 1., 1., 1.],\n",
              "       [1., 1., 1., ..., 1., 1., 1.],\n",
              "       [1., 1., 1., ..., 1., 1., 1.]])"
            ]
          },
          "metadata": {},
          "execution_count": 251
        }
      ]
    },
    {
      "cell_type": "code",
      "source": [
        "#zeros works the same way, except with zeros\n",
        "np.zeros(3)"
      ],
      "metadata": {
        "id": "MaOPiDRQk2ZX",
        "colab": {
          "base_uri": "https://localhost:8080/"
        },
        "outputId": "eb89fb7a-2c8e-4953-a3f2-8488fe1b5fcb"
      },
      "execution_count": null,
      "outputs": [
        {
          "output_type": "execute_result",
          "data": {
            "text/plain": [
              "array([0., 0., 0.])"
            ]
          },
          "metadata": {},
          "execution_count": 252
        }
      ]
    },
    {
      "cell_type": "markdown",
      "source": [
        "Here are examples of other ways to make arrays. You can find even more [here](https://numpy.org/doc/stable/reference/routines.array-creation.html)."
      ],
      "metadata": {
        "id": "vr3rE7ROlWZe"
      }
    },
    {
      "cell_type": "code",
      "source": [
        "#creates an array of 21 values, evenly spaced from -10 to 10, inclusive\n",
        "#notice how it always generates floats\n",
        "np.linspace(-10,10,21)"
      ],
      "metadata": {
        "id": "dR137gollgY8",
        "colab": {
          "base_uri": "https://localhost:8080/"
        },
        "outputId": "646c10a3-09bb-454e-d7a5-8db5f3810c29"
      },
      "execution_count": null,
      "outputs": [
        {
          "output_type": "execute_result",
          "data": {
            "text/plain": [
              "array([-10.,  -9.,  -8.,  -7.,  -6.,  -5.,  -4.,  -3.,  -2.,  -1.,   0.,\n",
              "         1.,   2.,   3.,   4.,   5.,   6.,   7.,   8.,   9.,  10.])"
            ]
          },
          "metadata": {},
          "execution_count": 253
        }
      ]
    },
    {
      "cell_type": "code",
      "source": [
        "#also creates evely spaced values over a specificed range.\n",
        "#similar to linspace, but less stable, and requires less inputs\n",
        "#sometimes it generates floats, sometimes it generates ints\n",
        "x_array = np.arange(10)\n",
        "x_array"
      ],
      "metadata": {
        "id": "MIKaa4nimBBc",
        "colab": {
          "base_uri": "https://localhost:8080/"
        },
        "outputId": "c38326b8-54fe-4fef-dac4-23512c950fa5"
      },
      "execution_count": null,
      "outputs": [
        {
          "output_type": "execute_result",
          "data": {
            "text/plain": [
              "array([0, 1, 2, 3, 4, 5, 6, 7, 8, 9])"
            ]
          },
          "metadata": {},
          "execution_count": 254
        }
      ]
    },
    {
      "cell_type": "code",
      "source": [
        "#makes an array of 15 4s\n",
        "np.repeat(4,15)"
      ],
      "metadata": {
        "id": "PJAWfZ91mZoI",
        "colab": {
          "base_uri": "https://localhost:8080/"
        },
        "outputId": "ded55397-a91b-408e-dde3-6944830ac28c"
      },
      "execution_count": null,
      "outputs": [
        {
          "output_type": "execute_result",
          "data": {
            "text/plain": [
              "array([4, 4, 4, 4, 4, 4, 4, 4, 4, 4, 4, 4, 4, 4, 4])"
            ]
          },
          "metadata": {},
          "execution_count": 255
        }
      ]
    },
    {
      "cell_type": "markdown",
      "source": [
        "**Task7**:\n",
        "\n",
        "Make an array from 87 to 104 (inclusive) with exactly 50 entries."
      ],
      "metadata": {
        "id": "HkRdH9nXVN1e"
      }
    },
    {
      "cell_type": "code",
      "source": [
        "#ANSWER7\n",
        "\n",
        "np.linspace(87,104,50)"
      ],
      "metadata": {
        "id": "wjQQMzlrWx_N",
        "colab": {
          "base_uri": "https://localhost:8080/"
        },
        "outputId": "1a5a9bee-dfcb-45a0-e27f-3fc9aa317d78"
      },
      "execution_count": null,
      "outputs": [
        {
          "output_type": "execute_result",
          "data": {
            "text/plain": [
              "array([ 87.        ,  87.34693878,  87.69387755,  88.04081633,\n",
              "        88.3877551 ,  88.73469388,  89.08163265,  89.42857143,\n",
              "        89.7755102 ,  90.12244898,  90.46938776,  90.81632653,\n",
              "        91.16326531,  91.51020408,  91.85714286,  92.20408163,\n",
              "        92.55102041,  92.89795918,  93.24489796,  93.59183673,\n",
              "        93.93877551,  94.28571429,  94.63265306,  94.97959184,\n",
              "        95.32653061,  95.67346939,  96.02040816,  96.36734694,\n",
              "        96.71428571,  97.06122449,  97.40816327,  97.75510204,\n",
              "        98.10204082,  98.44897959,  98.79591837,  99.14285714,\n",
              "        99.48979592,  99.83673469, 100.18367347, 100.53061224,\n",
              "       100.87755102, 101.2244898 , 101.57142857, 101.91836735,\n",
              "       102.26530612, 102.6122449 , 102.95918367, 103.30612245,\n",
              "       103.65306122, 104.        ])"
            ]
          },
          "metadata": {},
          "execution_count": 256
        }
      ]
    },
    {
      "cell_type": "markdown",
      "source": [
        "Splicing works the same for arrays and lists."
      ],
      "metadata": {
        "id": "D_HYihKoXXDL"
      }
    },
    {
      "cell_type": "markdown",
      "source": [
        "**Task8**:\n",
        "\n",
        "Grab the first through fifth entries of x_array."
      ],
      "metadata": {
        "id": "YopMOoy-Xap9"
      }
    },
    {
      "cell_type": "code",
      "source": [
        "#ANSWER8\n",
        "x_array[1:6]\n"
      ],
      "metadata": {
        "id": "yxCDEKDGXkvw",
        "colab": {
          "base_uri": "https://localhost:8080/"
        },
        "outputId": "0403572d-c4b9-47e9-d09f-059db2159b02"
      },
      "execution_count": null,
      "outputs": [
        {
          "output_type": "execute_result",
          "data": {
            "text/plain": [
              "array([1, 2, 3, 4, 5])"
            ]
          },
          "metadata": {},
          "execution_count": 257
        }
      ]
    },
    {
      "cell_type": "markdown",
      "source": [
        "### Vectorized Operations\n",
        "\n",
        "Numpy arrays come with many built in methods, many of which are vectorized operations. All you need to know about 'vectorized operations' is that: they are usually much faster than any other option, and how to use them.\n",
        "\n",
        "There are two examples below. You can see others [here](https://numpy.org/doc/stable/reference/arrays.ndarray.html#array-methods)."
      ],
      "metadata": {
        "id": "zQgQJUEdjg-7"
      }
    },
    {
      "cell_type": "code",
      "source": [
        "#finds the most positive (largest) value in the array\n",
        "x_array.max()"
      ],
      "metadata": {
        "id": "LRMtaF4Uj-ol",
        "colab": {
          "base_uri": "https://localhost:8080/"
        },
        "outputId": "dd0fafe2-6981-4502-f881-43d86377348e"
      },
      "execution_count": null,
      "outputs": [
        {
          "output_type": "execute_result",
          "data": {
            "text/plain": [
              "np.int64(9)"
            ]
          },
          "metadata": {},
          "execution_count": 258
        }
      ]
    },
    {
      "cell_type": "code",
      "source": [
        "#finds the average of the values in x_array\n",
        "x_array.mean()"
      ],
      "metadata": {
        "id": "Mul5TjVGj3bX",
        "colab": {
          "base_uri": "https://localhost:8080/"
        },
        "outputId": "9afa8c83-5709-4b5b-dcc3-8a91cac0b5b6"
      },
      "execution_count": null,
      "outputs": [
        {
          "output_type": "execute_result",
          "data": {
            "text/plain": [
              "np.float64(4.5)"
            ]
          },
          "metadata": {},
          "execution_count": 259
        }
      ]
    },
    {
      "cell_type": "markdown",
      "source": [
        "## Pandas Dataframes\n",
        "\n",
        "These are the data structure we will most often directly manipulate in this class. Paying special attention to this section will make your life easier later.\n",
        "\n",
        "Like numpy, we need to import pandas, and we often use an abreviation."
      ],
      "metadata": {
        "id": "vkWoeIclXkE3"
      }
    },
    {
      "cell_type": "code",
      "source": [
        "import pandas as pd"
      ],
      "metadata": {
        "id": "vpng4PWJY8dF"
      },
      "execution_count": null,
      "outputs": []
    },
    {
      "cell_type": "markdown",
      "source": [
        "We can make a pandas dataframe from any numpy array."
      ],
      "metadata": {
        "id": "dSkZCWaRY_x0"
      }
    },
    {
      "cell_type": "code",
      "source": [
        "x_df = pd.DataFrame(x_array)\n",
        "x_df"
      ],
      "metadata": {
        "id": "SqwgQYkRZUIt",
        "colab": {
          "base_uri": "https://localhost:8080/",
          "height": 363
        },
        "outputId": "d9bdc2ce-6510-4602-dd9a-4191edda2276"
      },
      "execution_count": null,
      "outputs": [
        {
          "output_type": "execute_result",
          "data": {
            "text/plain": [
              "   0\n",
              "0  0\n",
              "1  1\n",
              "2  2\n",
              "3  3\n",
              "4  4\n",
              "5  5\n",
              "6  6\n",
              "7  7\n",
              "8  8\n",
              "9  9"
            ],
            "text/html": [
              "\n",
              "  <div id=\"df-6b65b0cf-83ef-4b18-89b8-4bb964fb7e1d\" class=\"colab-df-container\">\n",
              "    <div>\n",
              "<style scoped>\n",
              "    .dataframe tbody tr th:only-of-type {\n",
              "        vertical-align: middle;\n",
              "    }\n",
              "\n",
              "    .dataframe tbody tr th {\n",
              "        vertical-align: top;\n",
              "    }\n",
              "\n",
              "    .dataframe thead th {\n",
              "        text-align: right;\n",
              "    }\n",
              "</style>\n",
              "<table border=\"1\" class=\"dataframe\">\n",
              "  <thead>\n",
              "    <tr style=\"text-align: right;\">\n",
              "      <th></th>\n",
              "      <th>0</th>\n",
              "    </tr>\n",
              "  </thead>\n",
              "  <tbody>\n",
              "    <tr>\n",
              "      <th>0</th>\n",
              "      <td>0</td>\n",
              "    </tr>\n",
              "    <tr>\n",
              "      <th>1</th>\n",
              "      <td>1</td>\n",
              "    </tr>\n",
              "    <tr>\n",
              "      <th>2</th>\n",
              "      <td>2</td>\n",
              "    </tr>\n",
              "    <tr>\n",
              "      <th>3</th>\n",
              "      <td>3</td>\n",
              "    </tr>\n",
              "    <tr>\n",
              "      <th>4</th>\n",
              "      <td>4</td>\n",
              "    </tr>\n",
              "    <tr>\n",
              "      <th>5</th>\n",
              "      <td>5</td>\n",
              "    </tr>\n",
              "    <tr>\n",
              "      <th>6</th>\n",
              "      <td>6</td>\n",
              "    </tr>\n",
              "    <tr>\n",
              "      <th>7</th>\n",
              "      <td>7</td>\n",
              "    </tr>\n",
              "    <tr>\n",
              "      <th>8</th>\n",
              "      <td>8</td>\n",
              "    </tr>\n",
              "    <tr>\n",
              "      <th>9</th>\n",
              "      <td>9</td>\n",
              "    </tr>\n",
              "  </tbody>\n",
              "</table>\n",
              "</div>\n",
              "    <div class=\"colab-df-buttons\">\n",
              "\n",
              "  <div class=\"colab-df-container\">\n",
              "    <button class=\"colab-df-convert\" onclick=\"convertToInteractive('df-6b65b0cf-83ef-4b18-89b8-4bb964fb7e1d')\"\n",
              "            title=\"Convert this dataframe to an interactive table.\"\n",
              "            style=\"display:none;\">\n",
              "\n",
              "  <svg xmlns=\"http://www.w3.org/2000/svg\" height=\"24px\" viewBox=\"0 -960 960 960\">\n",
              "    <path d=\"M120-120v-720h720v720H120Zm60-500h600v-160H180v160Zm220 220h160v-160H400v160Zm0 220h160v-160H400v160ZM180-400h160v-160H180v160Zm440 0h160v-160H620v160ZM180-180h160v-160H180v160Zm440 0h160v-160H620v160Z\"/>\n",
              "  </svg>\n",
              "    </button>\n",
              "\n",
              "  <style>\n",
              "    .colab-df-container {\n",
              "      display:flex;\n",
              "      gap: 12px;\n",
              "    }\n",
              "\n",
              "    .colab-df-convert {\n",
              "      background-color: #E8F0FE;\n",
              "      border: none;\n",
              "      border-radius: 50%;\n",
              "      cursor: pointer;\n",
              "      display: none;\n",
              "      fill: #1967D2;\n",
              "      height: 32px;\n",
              "      padding: 0 0 0 0;\n",
              "      width: 32px;\n",
              "    }\n",
              "\n",
              "    .colab-df-convert:hover {\n",
              "      background-color: #E2EBFA;\n",
              "      box-shadow: 0px 1px 2px rgba(60, 64, 67, 0.3), 0px 1px 3px 1px rgba(60, 64, 67, 0.15);\n",
              "      fill: #174EA6;\n",
              "    }\n",
              "\n",
              "    .colab-df-buttons div {\n",
              "      margin-bottom: 4px;\n",
              "    }\n",
              "\n",
              "    [theme=dark] .colab-df-convert {\n",
              "      background-color: #3B4455;\n",
              "      fill: #D2E3FC;\n",
              "    }\n",
              "\n",
              "    [theme=dark] .colab-df-convert:hover {\n",
              "      background-color: #434B5C;\n",
              "      box-shadow: 0px 1px 3px 1px rgba(0, 0, 0, 0.15);\n",
              "      filter: drop-shadow(0px 1px 2px rgba(0, 0, 0, 0.3));\n",
              "      fill: #FFFFFF;\n",
              "    }\n",
              "  </style>\n",
              "\n",
              "    <script>\n",
              "      const buttonEl =\n",
              "        document.querySelector('#df-6b65b0cf-83ef-4b18-89b8-4bb964fb7e1d button.colab-df-convert');\n",
              "      buttonEl.style.display =\n",
              "        google.colab.kernel.accessAllowed ? 'block' : 'none';\n",
              "\n",
              "      async function convertToInteractive(key) {\n",
              "        const element = document.querySelector('#df-6b65b0cf-83ef-4b18-89b8-4bb964fb7e1d');\n",
              "        const dataTable =\n",
              "          await google.colab.kernel.invokeFunction('convertToInteractive',\n",
              "                                                    [key], {});\n",
              "        if (!dataTable) return;\n",
              "\n",
              "        const docLinkHtml = 'Like what you see? Visit the ' +\n",
              "          '<a target=\"_blank\" href=https://colab.research.google.com/notebooks/data_table.ipynb>data table notebook</a>'\n",
              "          + ' to learn more about interactive tables.';\n",
              "        element.innerHTML = '';\n",
              "        dataTable['output_type'] = 'display_data';\n",
              "        await google.colab.output.renderOutput(dataTable, element);\n",
              "        const docLink = document.createElement('div');\n",
              "        docLink.innerHTML = docLinkHtml;\n",
              "        element.appendChild(docLink);\n",
              "      }\n",
              "    </script>\n",
              "  </div>\n",
              "\n",
              "\n",
              "    <div id=\"df-4348a776-da9f-4cf5-b490-41e20abdbc1e\">\n",
              "      <button class=\"colab-df-quickchart\" onclick=\"quickchart('df-4348a776-da9f-4cf5-b490-41e20abdbc1e')\"\n",
              "                title=\"Suggest charts\"\n",
              "                style=\"display:none;\">\n",
              "\n",
              "<svg xmlns=\"http://www.w3.org/2000/svg\" height=\"24px\"viewBox=\"0 0 24 24\"\n",
              "     width=\"24px\">\n",
              "    <g>\n",
              "        <path d=\"M19 3H5c-1.1 0-2 .9-2 2v14c0 1.1.9 2 2 2h14c1.1 0 2-.9 2-2V5c0-1.1-.9-2-2-2zM9 17H7v-7h2v7zm4 0h-2V7h2v10zm4 0h-2v-4h2v4z\"/>\n",
              "    </g>\n",
              "</svg>\n",
              "      </button>\n",
              "\n",
              "<style>\n",
              "  .colab-df-quickchart {\n",
              "      --bg-color: #E8F0FE;\n",
              "      --fill-color: #1967D2;\n",
              "      --hover-bg-color: #E2EBFA;\n",
              "      --hover-fill-color: #174EA6;\n",
              "      --disabled-fill-color: #AAA;\n",
              "      --disabled-bg-color: #DDD;\n",
              "  }\n",
              "\n",
              "  [theme=dark] .colab-df-quickchart {\n",
              "      --bg-color: #3B4455;\n",
              "      --fill-color: #D2E3FC;\n",
              "      --hover-bg-color: #434B5C;\n",
              "      --hover-fill-color: #FFFFFF;\n",
              "      --disabled-bg-color: #3B4455;\n",
              "      --disabled-fill-color: #666;\n",
              "  }\n",
              "\n",
              "  .colab-df-quickchart {\n",
              "    background-color: var(--bg-color);\n",
              "    border: none;\n",
              "    border-radius: 50%;\n",
              "    cursor: pointer;\n",
              "    display: none;\n",
              "    fill: var(--fill-color);\n",
              "    height: 32px;\n",
              "    padding: 0;\n",
              "    width: 32px;\n",
              "  }\n",
              "\n",
              "  .colab-df-quickchart:hover {\n",
              "    background-color: var(--hover-bg-color);\n",
              "    box-shadow: 0 1px 2px rgba(60, 64, 67, 0.3), 0 1px 3px 1px rgba(60, 64, 67, 0.15);\n",
              "    fill: var(--button-hover-fill-color);\n",
              "  }\n",
              "\n",
              "  .colab-df-quickchart-complete:disabled,\n",
              "  .colab-df-quickchart-complete:disabled:hover {\n",
              "    background-color: var(--disabled-bg-color);\n",
              "    fill: var(--disabled-fill-color);\n",
              "    box-shadow: none;\n",
              "  }\n",
              "\n",
              "  .colab-df-spinner {\n",
              "    border: 2px solid var(--fill-color);\n",
              "    border-color: transparent;\n",
              "    border-bottom-color: var(--fill-color);\n",
              "    animation:\n",
              "      spin 1s steps(1) infinite;\n",
              "  }\n",
              "\n",
              "  @keyframes spin {\n",
              "    0% {\n",
              "      border-color: transparent;\n",
              "      border-bottom-color: var(--fill-color);\n",
              "      border-left-color: var(--fill-color);\n",
              "    }\n",
              "    20% {\n",
              "      border-color: transparent;\n",
              "      border-left-color: var(--fill-color);\n",
              "      border-top-color: var(--fill-color);\n",
              "    }\n",
              "    30% {\n",
              "      border-color: transparent;\n",
              "      border-left-color: var(--fill-color);\n",
              "      border-top-color: var(--fill-color);\n",
              "      border-right-color: var(--fill-color);\n",
              "    }\n",
              "    40% {\n",
              "      border-color: transparent;\n",
              "      border-right-color: var(--fill-color);\n",
              "      border-top-color: var(--fill-color);\n",
              "    }\n",
              "    60% {\n",
              "      border-color: transparent;\n",
              "      border-right-color: var(--fill-color);\n",
              "    }\n",
              "    80% {\n",
              "      border-color: transparent;\n",
              "      border-right-color: var(--fill-color);\n",
              "      border-bottom-color: var(--fill-color);\n",
              "    }\n",
              "    90% {\n",
              "      border-color: transparent;\n",
              "      border-bottom-color: var(--fill-color);\n",
              "    }\n",
              "  }\n",
              "</style>\n",
              "\n",
              "      <script>\n",
              "        async function quickchart(key) {\n",
              "          const quickchartButtonEl =\n",
              "            document.querySelector('#' + key + ' button');\n",
              "          quickchartButtonEl.disabled = true;  // To prevent multiple clicks.\n",
              "          quickchartButtonEl.classList.add('colab-df-spinner');\n",
              "          try {\n",
              "            const charts = await google.colab.kernel.invokeFunction(\n",
              "                'suggestCharts', [key], {});\n",
              "          } catch (error) {\n",
              "            console.error('Error during call to suggestCharts:', error);\n",
              "          }\n",
              "          quickchartButtonEl.classList.remove('colab-df-spinner');\n",
              "          quickchartButtonEl.classList.add('colab-df-quickchart-complete');\n",
              "        }\n",
              "        (() => {\n",
              "          let quickchartButtonEl =\n",
              "            document.querySelector('#df-4348a776-da9f-4cf5-b490-41e20abdbc1e button');\n",
              "          quickchartButtonEl.style.display =\n",
              "            google.colab.kernel.accessAllowed ? 'block' : 'none';\n",
              "        })();\n",
              "      </script>\n",
              "    </div>\n",
              "\n",
              "  <div id=\"id_1b13a974-31f3-4196-8d15-e5f23696068d\">\n",
              "    <style>\n",
              "      .colab-df-generate {\n",
              "        background-color: #E8F0FE;\n",
              "        border: none;\n",
              "        border-radius: 50%;\n",
              "        cursor: pointer;\n",
              "        display: none;\n",
              "        fill: #1967D2;\n",
              "        height: 32px;\n",
              "        padding: 0 0 0 0;\n",
              "        width: 32px;\n",
              "      }\n",
              "\n",
              "      .colab-df-generate:hover {\n",
              "        background-color: #E2EBFA;\n",
              "        box-shadow: 0px 1px 2px rgba(60, 64, 67, 0.3), 0px 1px 3px 1px rgba(60, 64, 67, 0.15);\n",
              "        fill: #174EA6;\n",
              "      }\n",
              "\n",
              "      [theme=dark] .colab-df-generate {\n",
              "        background-color: #3B4455;\n",
              "        fill: #D2E3FC;\n",
              "      }\n",
              "\n",
              "      [theme=dark] .colab-df-generate:hover {\n",
              "        background-color: #434B5C;\n",
              "        box-shadow: 0px 1px 3px 1px rgba(0, 0, 0, 0.15);\n",
              "        filter: drop-shadow(0px 1px 2px rgba(0, 0, 0, 0.3));\n",
              "        fill: #FFFFFF;\n",
              "      }\n",
              "    </style>\n",
              "    <button class=\"colab-df-generate\" onclick=\"generateWithVariable('x_df')\"\n",
              "            title=\"Generate code using this dataframe.\"\n",
              "            style=\"display:none;\">\n",
              "\n",
              "  <svg xmlns=\"http://www.w3.org/2000/svg\" height=\"24px\"viewBox=\"0 0 24 24\"\n",
              "       width=\"24px\">\n",
              "    <path d=\"M7,19H8.4L18.45,9,17,7.55,7,17.6ZM5,21V16.75L18.45,3.32a2,2,0,0,1,2.83,0l1.4,1.43a1.91,1.91,0,0,1,.58,1.4,1.91,1.91,0,0,1-.58,1.4L9.25,21ZM18.45,9,17,7.55Zm-12,3A5.31,5.31,0,0,0,4.9,8.1,5.31,5.31,0,0,0,1,6.5,5.31,5.31,0,0,0,4.9,4.9,5.31,5.31,0,0,0,6.5,1,5.31,5.31,0,0,0,8.1,4.9,5.31,5.31,0,0,0,12,6.5,5.46,5.46,0,0,0,6.5,12Z\"/>\n",
              "  </svg>\n",
              "    </button>\n",
              "    <script>\n",
              "      (() => {\n",
              "      const buttonEl =\n",
              "        document.querySelector('#id_1b13a974-31f3-4196-8d15-e5f23696068d button.colab-df-generate');\n",
              "      buttonEl.style.display =\n",
              "        google.colab.kernel.accessAllowed ? 'block' : 'none';\n",
              "\n",
              "      buttonEl.onclick = () => {\n",
              "        google.colab.notebook.generateWithVariable('x_df');\n",
              "      }\n",
              "      })();\n",
              "    </script>\n",
              "  </div>\n",
              "\n",
              "    </div>\n",
              "  </div>\n"
            ],
            "application/vnd.google.colaboratory.intrinsic+json": {
              "type": "dataframe",
              "variable_name": "x_df",
              "summary": "{\n  \"name\": \"x_df\",\n  \"rows\": 10,\n  \"fields\": [\n    {\n      \"column\": 0,\n      \"properties\": {\n        \"dtype\": \"number\",\n        \"std\": 3,\n        \"min\": 0,\n        \"max\": 9,\n        \"num_unique_values\": 10,\n        \"samples\": [\n          8,\n          1,\n          5\n        ],\n        \"semantic_type\": \"\",\n        \"description\": \"\"\n      }\n    }\n  ]\n}"
            }
          },
          "metadata": {},
          "execution_count": 261
        }
      ]
    },
    {
      "source": [
        "# @title 0 vs count()\n",
        "\n",
        "from matplotlib import pyplot as plt\n",
        "import seaborn as sns\n",
        "def _plot_series(series, series_name, series_index=0):\n",
        "  palette = list(sns.palettes.mpl_palette('Dark2'))\n",
        "  counted = (series[0]\n",
        "                .value_counts()\n",
        "              .reset_index(name='counts')\n",
        "              .rename({'index': 0}, axis=1)\n",
        "              .sort_values(0, ascending=True))\n",
        "  xs = counted[0]\n",
        "  ys = counted['counts']\n",
        "  plt.plot(xs, ys, label=series_name, color=palette[series_index % len(palette)])\n",
        "\n",
        "fig, ax = plt.subplots(figsize=(10, 5.2), layout='constrained')\n",
        "df_sorted = x_df.sort_values(0, ascending=True)\n",
        "_plot_series(df_sorted, '')\n",
        "sns.despine(fig=fig, ax=ax)\n",
        "plt.xlabel(0)\n",
        "_ = plt.ylabel('count()')"
      ],
      "cell_type": "code",
      "execution_count": null,
      "outputs": [
        {
          "output_type": "display_data",
          "data": {
            "text/plain": [
              "<Figure size 1000x520 with 1 Axes>"
            ],
            "image/png": "[encoded data removed]"
          },
          "metadata": {}
        }
      ],
      "metadata": {
        "cellView": "form",
        "colab": {
          "base_uri": "https://localhost:8080/",
          "height": 548
        },
        "id": "zB8TKPE4J-oM",
        "outputId": "26e9cee5-7af9-4c40-9a85-4f4448e8b0b2"
      }
    },
    {
      "cell_type": "markdown",
      "source": [
        "Notice how the one dimensional array was turned into a vertical column. Pandas dataframes frame (ahem) data around columns and column labels. There are row labels too, and these are refered to as indicies."
      ],
      "metadata": {
        "id": "ZCcmzU8TZmIU"
      }
    },
    {
      "cell_type": "code",
      "source": [
        "some_ones_df = pd.DataFrame(some_ones)\n",
        "some_ones_df"
      ],
      "metadata": {
        "id": "p8_JoDnIZFMD",
        "colab": {
          "base_uri": "https://localhost:8080/",
          "height": 424
        },
        "outputId": "31212f41-132c-42fa-999e-6eae25bda31a"
      },
      "execution_count": null,
      "outputs": [
        {
          "output_type": "execute_result",
          "data": {
            "text/plain": [
              "     0    1    2    3    4    5    6    7    8    9   ...   90   91   92   93  \\\n",
              "0   1.0  1.0  1.0  1.0  1.0  1.0  1.0  1.0  1.0  1.0  ...  1.0  1.0  1.0  1.0   \n",
              "1   1.0  1.0  1.0  1.0  1.0  1.0  1.0  1.0  1.0  1.0  ...  1.0  1.0  1.0  1.0   \n",
              "2   1.0  1.0  1.0  1.0  1.0  1.0  1.0  1.0  1.0  1.0  ...  1.0  1.0  1.0  1.0   \n",
              "3   1.0  1.0  1.0  1.0  1.0  1.0  1.0  1.0  1.0  1.0  ...  1.0  1.0  1.0  1.0   \n",
              "4   1.0  1.0  1.0  1.0  1.0  1.0  1.0  1.0  1.0  1.0  ...  1.0  1.0  1.0  1.0   \n",
              "..  ...  ...  ...  ...  ...  ...  ...  ...  ...  ...  ...  ...  ...  ...  ...   \n",
              "95  1.0  1.0  1.0  1.0  1.0  1.0  1.0  1.0  1.0  1.0  ...  1.0  1.0  1.0  1.0   \n",
              "96  1.0  1.0  1.0  1.0  1.0  1.0  1.0  1.0  1.0  1.0  ...  1.0  1.0  1.0  1.0   \n",
              "97  1.0  1.0  1.0  1.0  1.0  1.0  1.0  1.0  1.0  1.0  ...  1.0  1.0  1.0  1.0   \n",
              "98  1.0  1.0  1.0  1.0  1.0  1.0  1.0  1.0  1.0  1.0  ...  1.0  1.0  1.0  1.0   \n",
              "99  1.0  1.0  1.0  1.0  1.0  1.0  1.0  1.0  1.0  1.0  ...  1.0  1.0  1.0  1.0   \n",
              "\n",
              "     94   95   96   97   98   99  \n",
              "0   1.0  1.0  1.0  1.0  1.0  1.0  \n",
              "1   1.0  1.0  1.0  1.0  1.0  1.0  \n",
              "2   1.0  1.0  1.0  1.0  1.0  1.0  \n",
              "3   1.0  1.0  1.0  1.0  1.0  1.0  \n",
              "4   1.0  1.0  1.0  1.0  1.0  1.0  \n",
              "..  ...  ...  ...  ...  ...  ...  \n",
              "95  1.0  1.0  1.0  1.0  1.0  1.0  \n",
              "96  1.0  1.0  1.0  1.0  1.0  1.0  \n",
              "97  1.0  1.0  1.0  1.0  1.0  1.0  \n",
              "98  1.0  1.0  1.0  1.0  1.0  1.0  \n",
              "99  1.0  1.0  1.0  1.0  1.0  1.0  \n",
              "\n",
              "[100 rows x 100 columns]"
            ],
            "text/html": [
              "\n",
              "  <div id=\"df-b5d7e186-2320-4ae0-8193-534ad5e7278d\" class=\"colab-df-container\">\n",
              "    <div>\n",
              "<style scoped>\n",
              "    .dataframe tbody tr th:only-of-type {\n",
              "        vertical-align: middle;\n",
              "    }\n",
              "\n",
              "    .dataframe tbody tr th {\n",
              "        vertical-align: top;\n",
              "    }\n",
              "\n",
              "    .dataframe thead th {\n",
              "        text-align: right;\n",
              "    }\n",
              "</style>\n",
              "<table border=\"1\" class=\"dataframe\">\n",
              "  <thead>\n",
              "    <tr style=\"text-align: right;\">\n",
              "      <th></th>\n",
              "      <th>0</th>\n",
              "      <th>1</th>\n",
              "      <th>2</th>\n",
              "      <th>3</th>\n",
              "      <th>4</th>\n",
              "      <th>5</th>\n",
              "      <th>6</th>\n",
              "      <th>7</th>\n",
              "      <th>8</th>\n",
              "      <th>9</th>\n",
              "      <th>...</th>\n",
              "      <th>90</th>\n",
              "      <th>91</th>\n",
              "      <th>92</th>\n",
              "      <th>93</th>\n",
              "      <th>94</th>\n",
              "      <th>95</th>\n",
              "      <th>96</th>\n",
              "      <th>97</th>\n",
              "      <th>98</th>\n",
              "      <th>99</th>\n",
              "    </tr>\n",
              "  </thead>\n",
              "  <tbody>\n",
              "    <tr>\n",
              "      <th>0</th>\n",
              "      <td>1.0</td>\n",
              "      <td>1.0</td>\n",
              "      <td>1.0</td>\n",
              "      <td>1.0</td>\n",
              "      <td>1.0</td>\n",
              "      <td>1.0</td>\n",
              "      <td>1.0</td>\n",
              "      <td>1.0</td>\n",
              "      <td>1.0</td>\n",
              "      <td>1.0</td>\n",
              "      <td>...</td>\n",
              "      <td>1.0</td>\n",
              "      <td>1.0</td>\n",
              "      <td>1.0</td>\n",
              "      <td>1.0</td>\n",
              "      <td>1.0</td>\n",
              "      <td>1.0</td>\n",
              "      <td>1.0</td>\n",
              "      <td>1.0</td>\n",
              "      <td>1.0</td>\n",
              "      <td>1.0</td>\n",
              "    </tr>\n",
              "    <tr>\n",
              "      <th>1</th>\n",
              "      <td>1.0</td>\n",
              "      <td>1.0</td>\n",
              "      <td>1.0</td>\n",
              "      <td>1.0</td>\n",
              "      <td>1.0</td>\n",
              "      <td>1.0</td>\n",
              "      <td>1.0</td>\n",
              "      <td>1.0</td>\n",
              "      <td>1.0</td>\n",
              "      <td>1.0</td>\n",
              "      <td>...</td>\n",
              "      <td>1.0</td>\n",
              "      <td>1.0</td>\n",
              "      <td>1.0</td>\n",
              "      <td>1.0</td>\n",
              "      <td>1.0</td>\n",
              "      <td>1.0</td>\n",
              "      <td>1.0</td>\n",
              "      <td>1.0</td>\n",
              "      <td>1.0</td>\n",
              "      <td>1.0</td>\n",
              "    </tr>\n",
              "    <tr>\n",
              "      <th>2</th>\n",
              "      <td>1.0</td>\n",
              "      <td>1.0</td>\n",
              "      <td>1.0</td>\n",
              "      <td>1.0</td>\n",
              "      <td>1.0</td>\n",
              "      <td>1.0</td>\n",
              "      <td>1.0</td>\n",
              "      <td>1.0</td>\n",
              "      <td>1.0</td>\n",
              "      <td>1.0</td>\n",
              "      <td>...</td>\n",
              "      <td>1.0</td>\n",
              "      <td>1.0</td>\n",
              "      <td>1.0</td>\n",
              "      <td>1.0</td>\n",
              "      <td>1.0</td>\n",
              "      <td>1.0</td>\n",
              "      <td>1.0</td>\n",
              "      <td>1.0</td>\n",
              "      <td>1.0</td>\n",
              "      <td>1.0</td>\n",
              "    </tr>\n",
              "    <tr>\n",
              "      <th>3</th>\n",
              "      <td>1.0</td>\n",
              "      <td>1.0</td>\n",
              "      <td>1.0</td>\n",
              "      <td>1.0</td>\n",
              "      <td>1.0</td>\n",
              "      <td>1.0</td>\n",
              "      <td>1.0</td>\n",
              "      <td>1.0</td>\n",
              "      <td>1.0</td>\n",
              "      <td>1.0</td>\n",
              "      <td>...</td>\n",
              "      <td>1.0</td>\n",
              "      <td>1.0</td>\n",
              "      <td>1.0</td>\n",
              "      <td>1.0</td>\n",
              "      <td>1.0</td>\n",
              "      <td>1.0</td>\n",
              "      <td>1.0</td>\n",
              "      <td>1.0</td>\n",
              "      <td>1.0</td>\n",
              "      <td>1.0</td>\n",
              "    </tr>\n",
              "    <tr>\n",
              "      <th>4</th>\n",
              "      <td>1.0</td>\n",
              "      <td>1.0</td>\n",
              "      <td>1.0</td>\n",
              "      <td>1.0</td>\n",
              "      <td>1.0</td>\n",
              "      <td>1.0</td>\n",
              "      <td>1.0</td>\n",
              "      <td>1.0</td>\n",
              "      <td>1.0</td>\n",
              "      <td>1.0</td>\n",
              "      <td>...</td>\n",
              "      <td>1.0</td>\n",
              "      <td>1.0</td>\n",
              "      <td>1.0</td>\n",
              "      <td>1.0</td>\n",
              "      <td>1.0</td>\n",
              "      <td>1.0</td>\n",
              "      <td>1.0</td>\n",
              "      <td>1.0</td>\n",
              "      <td>1.0</td>\n",
              "      <td>1.0</td>\n",
              "    </tr>\n",
              "    <tr>\n",
              "      <th>...</th>\n",
              "      <td>...</td>\n",
              "      <td>...</td>\n",
              "      <td>...</td>\n",
              "      <td>...</td>\n",
              "      <td>...</td>\n",
              "      <td>...</td>\n",
              "      <td>...</td>\n",
              "      <td>...</td>\n",
              "      <td>...</td>\n",
              "      <td>...</td>\n",
              "      <td>...</td>\n",
              "      <td>...</td>\n",
              "      <td>...</td>\n",
              "      <td>...</td>\n",
              "      <td>...</td>\n",
              "      <td>...</td>\n",
              "      <td>...</td>\n",
              "      <td>...</td>\n",
              "      <td>...</td>\n",
              "      <td>...</td>\n",
              "      <td>...</td>\n",
              "    </tr>\n",
              "    <tr>\n",
              "      <th>95</th>\n",
              "      <td>1.0</td>\n",
              "      <td>1.0</td>\n",
              "      <td>1.0</td>\n",
              "      <td>1.0</td>\n",
              "      <td>1.0</td>\n",
              "      <td>1.0</td>\n",
              "      <td>1.0</td>\n",
              "      <td>1.0</td>\n",
              "      <td>1.0</td>\n",
              "      <td>1.0</td>\n",
              "      <td>...</td>\n",
              "      <td>1.0</td>\n",
              "      <td>1.0</td>\n",
              "      <td>1.0</td>\n",
              "      <td>1.0</td>\n",
              "      <td>1.0</td>\n",
              "      <td>1.0</td>\n",
              "      <td>1.0</td>\n",
              "      <td>1.0</td>\n",
              "      <td>1.0</td>\n",
              "      <td>1.0</td>\n",
              "    </tr>\n",
              "    <tr>\n",
              "      <th>96</th>\n",
              "      <td>1.0</td>\n",
              "      <td>1.0</td>\n",
              "      <td>1.0</td>\n",
              "      <td>1.0</td>\n",
              "      <td>1.0</td>\n",
              "      <td>1.0</td>\n",
              "      <td>1.0</td>\n",
              "      <td>1.0</td>\n",
              "      <td>1.0</td>\n",
              "      <td>1.0</td>\n",
              "      <td>...</td>\n",
              "      <td>1.0</td>\n",
              "      <td>1.0</td>\n",
              "      <td>1.0</td>\n",
              "      <td>1.0</td>\n",
              "      <td>1.0</td>\n",
              "      <td>1.0</td>\n",
              "      <td>1.0</td>\n",
              "      <td>1.0</td>\n",
              "      <td>1.0</td>\n",
              "      <td>1.0</td>\n",
              "    </tr>\n",
              "    <tr>\n",
              "      <th>97</th>\n",
              "      <td>1.0</td>\n",
              "      <td>1.0</td>\n",
              "      <td>1.0</td>\n",
              "      <td>1.0</td>\n",
              "      <td>1.0</td>\n",
              "      <td>1.0</td>\n",
              "      <td>1.0</td>\n",
              "      <td>1.0</td>\n",
              "      <td>1.0</td>\n",
              "      <td>1.0</td>\n",
              "      <td>...</td>\n",
              "      <td>1.0</td>\n",
              "      <td>1.0</td>\n",
              "      <td>1.0</td>\n",
              "      <td>1.0</td>\n",
              "      <td>1.0</td>\n",
              "      <td>1.0</td>\n",
              "      <td>1.0</td>\n",
              "      <td>1.0</td>\n",
              "      <td>1.0</td>\n",
              "      <td>1.0</td>\n",
              "    </tr>\n",
              "    <tr>\n",
              "      <th>98</th>\n",
              "      <td>1.0</td>\n",
              "      <td>1.0</td>\n",
              "      <td>1.0</td>\n",
              "      <td>1.0</td>\n",
              "      <td>1.0</td>\n",
              "      <td>1.0</td>\n",
              "      <td>1.0</td>\n",
              "      <td>1.0</td>\n",
              "      <td>1.0</td>\n",
              "      <td>1.0</td>\n",
              "      <td>...</td>\n",
              "      <td>1.0</td>\n",
              "      <td>1.0</td>\n",
              "      <td>1.0</td>\n",
              "      <td>1.0</td>\n",
              "      <td>1.0</td>\n",
              "      <td>1.0</td>\n",
              "      <td>1.0</td>\n",
              "      <td>1.0</td>\n",
              "      <td>1.0</td>\n",
              "      <td>1.0</td>\n",
              "    </tr>\n",
              "    <tr>\n",
              "      <th>99</th>\n",
              "      <td>1.0</td>\n",
              "      <td>1.0</td>\n",
              "      <td>1.0</td>\n",
              "      <td>1.0</td>\n",
              "      <td>1.0</td>\n",
              "      <td>1.0</td>\n",
              "      <td>1.0</td>\n",
              "      <td>1.0</td>\n",
              "      <td>1.0</td>\n",
              "      <td>1.0</td>\n",
              "      <td>...</td>\n",
              "      <td>1.0</td>\n",
              "      <td>1.0</td>\n",
              "      <td>1.0</td>\n",
              "      <td>1.0</td>\n",
              "      <td>1.0</td>\n",
              "      <td>1.0</td>\n",
              "      <td>1.0</td>\n",
              "      <td>1.0</td>\n",
              "      <td>1.0</td>\n",
              "      <td>1.0</td>\n",
              "    </tr>\n",
              "  </tbody>\n",
              "</table>\n",
              "<p>100 rows × 100 columns</p>\n",
              "</div>\n",
              "    <div class=\"colab-df-buttons\">\n",
              "\n",
              "  <div class=\"colab-df-container\">\n",
              "    <button class=\"colab-df-convert\" onclick=\"convertToInteractive('df-b5d7e186-2320-4ae0-8193-534ad5e7278d')\"\n",
              "            title=\"Convert this dataframe to an interactive table.\"\n",
              "            style=\"display:none;\">\n",
              "\n",
              "  <svg xmlns=\"http://www.w3.org/2000/svg\" height=\"24px\" viewBox=\"0 -960 960 960\">\n",
              "    <path d=\"M120-120v-720h720v720H120Zm60-500h600v-160H180v160Zm220 220h160v-160H400v160Zm0 220h160v-160H400v160ZM180-400h160v-160H180v160Zm440 0h160v-160H620v160ZM180-180h160v-160H180v160Zm440 0h160v-160H620v160Z\"/>\n",
              "  </svg>\n",
              "    </button>\n",
              "\n",
              "  <style>\n",
              "    .colab-df-container {\n",
              "      display:flex;\n",
              "      gap: 12px;\n",
              "    }\n",
              "\n",
              "    .colab-df-convert {\n",
              "      background-color: #E8F0FE;\n",
              "      border: none;\n",
              "      border-radius: 50%;\n",
              "      cursor: pointer;\n",
              "      display: none;\n",
              "      fill: #1967D2;\n",
              "      height: 32px;\n",
              "      padding: 0 0 0 0;\n",
              "      width: 32px;\n",
              "    }\n",
              "\n",
              "    .colab-df-convert:hover {\n",
              "      background-color: #E2EBFA;\n",
              "      box-shadow: 0px 1px 2px rgba(60, 64, 67, 0.3), 0px 1px 3px 1px rgba(60, 64, 67, 0.15);\n",
              "      fill: #174EA6;\n",
              "    }\n",
              "\n",
              "    .colab-df-buttons div {\n",
              "      margin-bottom: 4px;\n",
              "    }\n",
              "\n",
              "    [theme=dark] .colab-df-convert {\n",
              "      background-color: #3B4455;\n",
              "      fill: #D2E3FC;\n",
              "    }\n",
              "\n",
              "    [theme=dark] .colab-df-convert:hover {\n",
              "      background-color: #434B5C;\n",
              "      box-shadow: 0px 1px 3px 1px rgba(0, 0, 0, 0.15);\n",
              "      filter: drop-shadow(0px 1px 2px rgba(0, 0, 0, 0.3));\n",
              "      fill: #FFFFFF;\n",
              "    }\n",
              "  </style>\n",
              "\n",
              "    <script>\n",
              "      const buttonEl =\n",
              "        document.querySelector('#df-b5d7e186-2320-4ae0-8193-534ad5e7278d button.colab-df-convert');\n",
              "      buttonEl.style.display =\n",
              "        google.colab.kernel.accessAllowed ? 'block' : 'none';\n",
              "\n",
              "      async function convertToInteractive(key) {\n",
              "        const element = document.querySelector('#df-b5d7e186-2320-4ae0-8193-534ad5e7278d');\n",
              "        const dataTable =\n",
              "          await google.colab.kernel.invokeFunction('convertToInteractive',\n",
              "                                                    [key], {});\n",
              "        if (!dataTable) return;\n",
              "\n",
              "        const docLinkHtml = 'Like what you see? Visit the ' +\n",
              "          '<a target=\"_blank\" href=https://colab.research.google.com/notebooks/data_table.ipynb>data table notebook</a>'\n",
              "          + ' to learn more about interactive tables.';\n",
              "        element.innerHTML = '';\n",
              "        dataTable['output_type'] = 'display_data';\n",
              "        await google.colab.output.renderOutput(dataTable, element);\n",
              "        const docLink = document.createElement('div');\n",
              "        docLink.innerHTML = docLinkHtml;\n",
              "        element.appendChild(docLink);\n",
              "      }\n",
              "    </script>\n",
              "  </div>\n",
              "\n",
              "\n",
              "    <div id=\"df-ab09725f-80dc-4bf5-b23c-becfbcb11fc4\">\n",
              "      <button class=\"colab-df-quickchart\" onclick=\"quickchart('df-ab09725f-80dc-4bf5-b23c-becfbcb11fc4')\"\n",
              "                title=\"Suggest charts\"\n",
              "                style=\"display:none;\">\n",
              "\n",
              "<svg xmlns=\"http://www.w3.org/2000/svg\" height=\"24px\"viewBox=\"0 0 24 24\"\n",
              "     width=\"24px\">\n",
              "    <g>\n",
              "        <path d=\"M19 3H5c-1.1 0-2 .9-2 2v14c0 1.1.9 2 2 2h14c1.1 0 2-.9 2-2V5c0-1.1-.9-2-2-2zM9 17H7v-7h2v7zm4 0h-2V7h2v10zm4 0h-2v-4h2v4z\"/>\n",
              "    </g>\n",
              "</svg>\n",
              "      </button>\n",
              "\n",
              "<style>\n",
              "  .colab-df-quickchart {\n",
              "      --bg-color: #E8F0FE;\n",
              "      --fill-color: #1967D2;\n",
              "      --hover-bg-color: #E2EBFA;\n",
              "      --hover-fill-color: #174EA6;\n",
              "      --disabled-fill-color: #AAA;\n",
              "      --disabled-bg-color: #DDD;\n",
              "  }\n",
              "\n",
              "  [theme=dark] .colab-df-quickchart {\n",
              "      --bg-color: #3B4455;\n",
              "      --fill-color: #D2E3FC;\n",
              "      --hover-bg-color: #434B5C;\n",
              "      --hover-fill-color: #FFFFFF;\n",
              "      --disabled-bg-color: #3B4455;\n",
              "      --disabled-fill-color: #666;\n",
              "  }\n",
              "\n",
              "  .colab-df-quickchart {\n",
              "    background-color: var(--bg-color);\n",
              "    border: none;\n",
              "    border-radius: 50%;\n",
              "    cursor: pointer;\n",
              "    display: none;\n",
              "    fill: var(--fill-color);\n",
              "    height: 32px;\n",
              "    padding: 0;\n",
              "    width: 32px;\n",
              "  }\n",
              "\n",
              "  .colab-df-quickchart:hover {\n",
              "    background-color: var(--hover-bg-color);\n",
              "    box-shadow: 0 1px 2px rgba(60, 64, 67, 0.3), 0 1px 3px 1px rgba(60, 64, 67, 0.15);\n",
              "    fill: var(--button-hover-fill-color);\n",
              "  }\n",
              "\n",
              "  .colab-df-quickchart-complete:disabled,\n",
              "  .colab-df-quickchart-complete:disabled:hover {\n",
              "    background-color: var(--disabled-bg-color);\n",
              "    fill: var(--disabled-fill-color);\n",
              "    box-shadow: none;\n",
              "  }\n",
              "\n",
              "  .colab-df-spinner {\n",
              "    border: 2px solid var(--fill-color);\n",
              "    border-color: transparent;\n",
              "    border-bottom-color: var(--fill-color);\n",
              "    animation:\n",
              "      spin 1s steps(1) infinite;\n",
              "  }\n",
              "\n",
              "  @keyframes spin {\n",
              "    0% {\n",
              "      border-color: transparent;\n",
              "      border-bottom-color: var(--fill-color);\n",
              "      border-left-color: var(--fill-color);\n",
              "    }\n",
              "    20% {\n",
              "      border-color: transparent;\n",
              "      border-left-color: var(--fill-color);\n",
              "      border-top-color: var(--fill-color);\n",
              "    }\n",
              "    30% {\n",
              "      border-color: transparent;\n",
              "      border-left-color: var(--fill-color);\n",
              "      border-top-color: var(--fill-color);\n",
              "      border-right-color: var(--fill-color);\n",
              "    }\n",
              "    40% {\n",
              "      border-color: transparent;\n",
              "      border-right-color: var(--fill-color);\n",
              "      border-top-color: var(--fill-color);\n",
              "    }\n",
              "    60% {\n",
              "      border-color: transparent;\n",
              "      border-right-color: var(--fill-color);\n",
              "    }\n",
              "    80% {\n",
              "      border-color: transparent;\n",
              "      border-right-color: var(--fill-color);\n",
              "      border-bottom-color: var(--fill-color);\n",
              "    }\n",
              "    90% {\n",
              "      border-color: transparent;\n",
              "      border-bottom-color: var(--fill-color);\n",
              "    }\n",
              "  }\n",
              "</style>\n",
              "\n",
              "      <script>\n",
              "        async function quickchart(key) {\n",
              "          const quickchartButtonEl =\n",
              "            document.querySelector('#' + key + ' button');\n",
              "          quickchartButtonEl.disabled = true;  // To prevent multiple clicks.\n",
              "          quickchartButtonEl.classList.add('colab-df-spinner');\n",
              "          try {\n",
              "            const charts = await google.colab.kernel.invokeFunction(\n",
              "                'suggestCharts', [key], {});\n",
              "          } catch (error) {\n",
              "            console.error('Error during call to suggestCharts:', error);\n",
              "          }\n",
              "          quickchartButtonEl.classList.remove('colab-df-spinner');\n",
              "          quickchartButtonEl.classList.add('colab-df-quickchart-complete');\n",
              "        }\n",
              "        (() => {\n",
              "          let quickchartButtonEl =\n",
              "            document.querySelector('#df-ab09725f-80dc-4bf5-b23c-becfbcb11fc4 button');\n",
              "          quickchartButtonEl.style.display =\n",
              "            google.colab.kernel.accessAllowed ? 'block' : 'none';\n",
              "        })();\n",
              "      </script>\n",
              "    </div>\n",
              "\n",
              "  <div id=\"id_ff7b41b1-0e5e-4a7f-9109-65f003ebec4c\">\n",
              "    <style>\n",
              "      .colab-df-generate {\n",
              "        background-color: #E8F0FE;\n",
              "        border: none;\n",
              "        border-radius: 50%;\n",
              "        cursor: pointer;\n",
              "        display: none;\n",
              "        fill: #1967D2;\n",
              "        height: 32px;\n",
              "        padding: 0 0 0 0;\n",
              "        width: 32px;\n",
              "      }\n",
              "\n",
              "      .colab-df-generate:hover {\n",
              "        background-color: #E2EBFA;\n",
              "        box-shadow: 0px 1px 2px rgba(60, 64, 67, 0.3), 0px 1px 3px 1px rgba(60, 64, 67, 0.15);\n",
              "        fill: #174EA6;\n",
              "      }\n",
              "\n",
              "      [theme=dark] .colab-df-generate {\n",
              "        background-color: #3B4455;\n",
              "        fill: #D2E3FC;\n",
              "      }\n",
              "\n",
              "      [theme=dark] .colab-df-generate:hover {\n",
              "        background-color: #434B5C;\n",
              "        box-shadow: 0px 1px 3px 1px rgba(0, 0, 0, 0.15);\n",
              "        filter: drop-shadow(0px 1px 2px rgba(0, 0, 0, 0.3));\n",
              "        fill: #FFFFFF;\n",
              "      }\n",
              "    </style>\n",
              "    <button class=\"colab-df-generate\" onclick=\"generateWithVariable('some_ones_df')\"\n",
              "            title=\"Generate code using this dataframe.\"\n",
              "            style=\"display:none;\">\n",
              "\n",
              "  <svg xmlns=\"http://www.w3.org/2000/svg\" height=\"24px\"viewBox=\"0 0 24 24\"\n",
              "       width=\"24px\">\n",
              "    <path d=\"M7,19H8.4L18.45,9,17,7.55,7,17.6ZM5,21V16.75L18.45,3.32a2,2,0,0,1,2.83,0l1.4,1.43a1.91,1.91,0,0,1,.58,1.4,1.91,1.91,0,0,1-.58,1.4L9.25,21ZM18.45,9,17,7.55Zm-12,3A5.31,5.31,0,0,0,4.9,8.1,5.31,5.31,0,0,0,1,6.5,5.31,5.31,0,0,0,4.9,4.9,5.31,5.31,0,0,0,6.5,1,5.31,5.31,0,0,0,8.1,4.9,5.31,5.31,0,0,0,12,6.5,5.46,5.46,0,0,0,6.5,12Z\"/>\n",
              "  </svg>\n",
              "    </button>\n",
              "    <script>\n",
              "      (() => {\n",
              "      const buttonEl =\n",
              "        document.querySelector('#id_ff7b41b1-0e5e-4a7f-9109-65f003ebec4c button.colab-df-generate');\n",
              "      buttonEl.style.display =\n",
              "        google.colab.kernel.accessAllowed ? 'block' : 'none';\n",
              "\n",
              "      buttonEl.onclick = () => {\n",
              "        google.colab.notebook.generateWithVariable('some_ones_df');\n",
              "      }\n",
              "      })();\n",
              "    </script>\n",
              "  </div>\n",
              "\n",
              "    </div>\n",
              "  </div>\n"
            ],
            "application/vnd.google.colaboratory.intrinsic+json": {
              "type": "dataframe",
              "variable_name": "some_ones_df"
            }
          },
          "metadata": {},
          "execution_count": 263
        }
      ]
    },
    {
      "source": [
        "from matplotlib import pyplot as plt\n",
        "import seaborn as sns\n",
        "def _plot_series(series, series_name, series_index=0):\n",
        "  palette = list(sns.palettes.mpl_palette('Dark2'))\n",
        "  counted = (series[0]\n",
        "                .value_counts()\n",
        "              .reset_index(name='counts')\n",
        "              .rename({'index': 0}, axis=1)\n",
        "              .sort_values(0, ascending=True))\n",
        "  xs = counted[0]\n",
        "  ys = counted['counts']\n",
        "  plt.plot(xs, ys, label=series_name, color=palette[series_index % len(palette)])\n",
        "\n",
        "fig, ax = plt.subplots(figsize=(10, 5.2), layout='constrained')\n",
        "df_sorted = some_ones_df.sort_values(0, ascending=True)\n",
        "_plot_series(df_sorted, '')\n",
        "sns.despine(fig=fig, ax=ax)\n",
        "plt.xlabel(0)\n",
        "_ = plt.ylabel('count()')"
      ],
      "cell_type": "code",
      "metadata": {
        "colab": {
          "base_uri": "https://localhost:8080/",
          "height": 548
        },
        "id": "z4-qs7HfKagS",
        "outputId": "3d4576f7-83d1-4732-b8be-deaaf896804e"
      },
      "execution_count": null,
      "outputs": [
        {
          "output_type": "display_data",
          "data": {
            "text/plain": [
              "<Figure size 1000x520 with 1 Axes>"
            ],
            "image/png": "[encoded data removed]"
          },
          "metadata": {}
        }
      ]
    },
    {
      "cell_type": "markdown",
      "source": [
        "Pandas dataframes also have lots of methods, many of them vectorized operations, like numpy. This is because pandas was built on top of numpy."
      ],
      "metadata": {
        "id": "FF1gLUtJky6q"
      }
    },
    {
      "cell_type": "code",
      "source": [
        "#finds the largest value in column 0 of x_df\n",
        "x_df.max()"
      ],
      "metadata": {
        "id": "myskG9v1l2Py",
        "colab": {
          "base_uri": "https://localhost:8080/",
          "height": 115
        },
        "outputId": "9be4a430-2c60-46e2-c3cb-22a48db01974"
      },
      "execution_count": null,
      "outputs": [
        {
          "output_type": "execute_result",
          "data": {
            "text/plain": [
              "0    9\n",
              "dtype: int64"
            ],
            "text/html": [
              "<div>\n",
              "<style scoped>\n",
              "    .dataframe tbody tr th:only-of-type {\n",
              "        vertical-align: middle;\n",
              "    }\n",
              "\n",
              "    .dataframe tbody tr th {\n",
              "        vertical-align: top;\n",
              "    }\n",
              "\n",
              "    .dataframe thead th {\n",
              "        text-align: right;\n",
              "    }\n",
              "</style>\n",
              "<table border=\"1\" class=\"dataframe\">\n",
              "  <thead>\n",
              "    <tr style=\"text-align: right;\">\n",
              "      <th></th>\n",
              "      <th>0</th>\n",
              "    </tr>\n",
              "  </thead>\n",
              "  <tbody>\n",
              "    <tr>\n",
              "      <th>0</th>\n",
              "      <td>9</td>\n",
              "    </tr>\n",
              "  </tbody>\n",
              "</table>\n",
              "</div><br><label><b>dtype:</b> int64</label>"
            ]
          },
          "metadata": {},
          "execution_count": 265
        }
      ]
    },
    {
      "cell_type": "code",
      "source": [
        "#sums each row\n",
        "some_ones_df.sum(axis=0)"
      ],
      "metadata": {
        "id": "S1EXGe-PmltN",
        "colab": {
          "base_uri": "https://localhost:8080/",
          "height": 458
        },
        "outputId": "ab1a2b76-f1ea-48de-b673-8e5228e23da0"
      },
      "execution_count": null,
      "outputs": [
        {
          "output_type": "execute_result",
          "data": {
            "text/plain": [
              "0     100.0\n",
              "1     100.0\n",
              "2     100.0\n",
              "3     100.0\n",
              "4     100.0\n",
              "      ...  \n",
              "95    100.0\n",
              "96    100.0\n",
              "97    100.0\n",
              "98    100.0\n",
              "99    100.0\n",
              "Length: 100, dtype: float64"
            ],
            "text/html": [
              "<div>\n",
              "<style scoped>\n",
              "    .dataframe tbody tr th:only-of-type {\n",
              "        vertical-align: middle;\n",
              "    }\n",
              "\n",
              "    .dataframe tbody tr th {\n",
              "        vertical-align: top;\n",
              "    }\n",
              "\n",
              "    .dataframe thead th {\n",
              "        text-align: right;\n",
              "    }\n",
              "</style>\n",
              "<table border=\"1\" class=\"dataframe\">\n",
              "  <thead>\n",
              "    <tr style=\"text-align: right;\">\n",
              "      <th></th>\n",
              "      <th>0</th>\n",
              "    </tr>\n",
              "  </thead>\n",
              "  <tbody>\n",
              "    <tr>\n",
              "      <th>0</th>\n",
              "      <td>100.0</td>\n",
              "    </tr>\n",
              "    <tr>\n",
              "      <th>1</th>\n",
              "      <td>100.0</td>\n",
              "    </tr>\n",
              "    <tr>\n",
              "      <th>2</th>\n",
              "      <td>100.0</td>\n",
              "    </tr>\n",
              "    <tr>\n",
              "      <th>3</th>\n",
              "      <td>100.0</td>\n",
              "    </tr>\n",
              "    <tr>\n",
              "      <th>4</th>\n",
              "      <td>100.0</td>\n",
              "    </tr>\n",
              "    <tr>\n",
              "      <th>...</th>\n",
              "      <td>...</td>\n",
              "    </tr>\n",
              "    <tr>\n",
              "      <th>95</th>\n",
              "      <td>100.0</td>\n",
              "    </tr>\n",
              "    <tr>\n",
              "      <th>96</th>\n",
              "      <td>100.0</td>\n",
              "    </tr>\n",
              "    <tr>\n",
              "      <th>97</th>\n",
              "      <td>100.0</td>\n",
              "    </tr>\n",
              "    <tr>\n",
              "      <th>98</th>\n",
              "      <td>100.0</td>\n",
              "    </tr>\n",
              "    <tr>\n",
              "      <th>99</th>\n",
              "      <td>100.0</td>\n",
              "    </tr>\n",
              "  </tbody>\n",
              "</table>\n",
              "<p>100 rows × 1 columns</p>\n",
              "</div><br><label><b>dtype:</b> float64</label>"
            ]
          },
          "metadata": {},
          "execution_count": 266
        }
      ]
    },
    {
      "cell_type": "markdown",
      "source": [
        "### Slicing Dataframes\n",
        "\n",
        "For the next part, we're going to need a more interesting example than some_ones_df.\n",
        "\n",
        "To get a more interesting dataframe, I'm going to pull one from my github using pd.read_csv. This is the most common way you'll get data in this course, but pandas offers more versatile options. You can view them [here](https://pandas.pydata.org/docs/reference/io.html)."
      ],
      "metadata": {
        "id": "zVJ78NjVbVQx"
      }
    },
    {
      "cell_type": "code",
      "source": [
        "#make a string of the webpage where my data lives\n",
        "url_basketball = 'https://raw.githubusercontent.com/thedarredondo/data-science-fundamentals/main/Data/basketball2324.csv'\n",
        "#feed that string into the pandas read csv function\n",
        "basketball = pd.read_csv(url_basketball)"
      ],
      "metadata": {
        "id": "5HhlGXKYbJBc"
      },
      "execution_count": null,
      "outputs": []
    },
    {
      "cell_type": "code",
      "source": [
        "basketball"
      ],
      "metadata": {
        "id": "l-IuScDRc-o6",
        "colab": {
          "base_uri": "https://localhost:8080/",
          "height": 424
        },
        "outputId": "d5a9e795-69cc-4ec8-de23-16f19652a132"
      },
      "execution_count": null,
      "outputs": [
        {
          "output_type": "execute_result",
          "data": {
            "text/plain": [
              "                       Player   Pos  Age   Tm   G  GS    MP   FG   FGA    FG%  \\\n",
              "0            Precious Achiuwa  PF-C   24  TOT  74  18  1624  235   469  0.501   \n",
              "1                 Bam Adebayo     C   26  MIA  71  71  2416  530  1017  0.521   \n",
              "2                Ochai Agbaji    SG   23  TOT  78  28  1641  178   433  0.411   \n",
              "3                Santi Aldama    PF   23  MEM  61  35  1618  247   568  0.435   \n",
              "4    Nickeil Alexander-Walker    SG   25  MIN  82  20  1921  236   538  0.439   \n",
              "..                        ...   ...  ...  ...  ..  ..   ...  ...   ...    ...   \n",
              "567            Thaddeus Young    PF   35  TOT  33   6   439   65   108  0.602   \n",
              "568                Trae Young    PG   25  ATL  54  54  1942  433  1008  0.430   \n",
              "569            Omer Yurtseven     C   25  UTA  48  12   545   99   184  0.538   \n",
              "570               Cody Zeller     C   31  NOP  43   0   320   26    62  0.419   \n",
              "571               Ivica Zubac     C   26  LAC  68  68  1794  337   519  0.649   \n",
              "\n",
              "     ...  ORB  DRB  TRB  AST  STL  BLK  TOV   PF   PTS  Player-additional  \n",
              "0    ...  191  296  487   97   46   68   83  143   565          achiupr01  \n",
              "1    ...  159  578  737  278   81   66  162  159  1367          adebaba01  \n",
              "2    ...   74  142  216   83   47   44   64  117   455          agbajoc01  \n",
              "3    ...   72  280  352  138   43   54   69   89   654          aldamsa01  \n",
              "4    ...   35  132  167  204   64   42   76  143   655          alexani01  \n",
              "..   ...  ...  ...  ...  ...  ...  ...  ...  ...   ...                ...  \n",
              "567  ...   46   57  103   57   23    5   15   49   137          youngth01  \n",
              "568  ...   23  126  149  583   72   11  235  109  1389          youngtr01  \n",
              "569  ...   72  136  208   29    8   18   37   52   222          yurtsom01  \n",
              "570  ...   48   64  112   39    9    5   16   45    76          zelleco01  \n",
              "571  ...  196  430  626   93   22   83   79  180   794          zubaciv01  \n",
              "\n",
              "[572 rows x 30 columns]"
            ],
            "text/html": [
              "\n",
              "  <div id=\"df-75f06db6-bc56-40c2-ae94-a38972ffcc19\" class=\"colab-df-container\">\n",
              "    <div>\n",
              "<style scoped>\n",
              "    .dataframe tbody tr th:only-of-type {\n",
              "        vertical-align: middle;\n",
              "    }\n",
              "\n",
              "    .dataframe tbody tr th {\n",
              "        vertical-align: top;\n",
              "    }\n",
              "\n",
              "    .dataframe thead th {\n",
              "        text-align: right;\n",
              "    }\n",
              "</style>\n",
              "<table border=\"1\" class=\"dataframe\">\n",
              "  <thead>\n",
              "    <tr style=\"text-align: right;\">\n",
              "      <th></th>\n",
              "      <th>Player</th>\n",
              "      <th>Pos</th>\n",
              "      <th>Age</th>\n",
              "      <th>Tm</th>\n",
              "      <th>G</th>\n",
              "      <th>GS</th>\n",
              "      <th>MP</th>\n",
              "      <th>FG</th>\n",
              "      <th>FGA</th>\n",
              "      <th>FG%</th>\n",
              "      <th>...</th>\n",
              "      <th>ORB</th>\n",
              "      <th>DRB</th>\n",
              "      <th>TRB</th>\n",
              "      <th>AST</th>\n",
              "      <th>STL</th>\n",
              "      <th>BLK</th>\n",
              "      <th>TOV</th>\n",
              "      <th>PF</th>\n",
              "      <th>PTS</th>\n",
              "      <th>Player-additional</th>\n",
              "    </tr>\n",
              "  </thead>\n",
              "  <tbody>\n",
              "    <tr>\n",
              "      <th>0</th>\n",
              "      <td>Precious Achiuwa</td>\n",
              "      <td>PF-C</td>\n",
              "      <td>24</td>\n",
              "      <td>TOT</td>\n",
              "      <td>74</td>\n",
              "      <td>18</td>\n",
              "      <td>1624</td>\n",
              "      <td>235</td>\n",
              "      <td>469</td>\n",
              "      <td>0.501</td>\n",
              "      <td>...</td>\n",
              "      <td>191</td>\n",
              "      <td>296</td>\n",
              "      <td>487</td>\n",
              "      <td>97</td>\n",
              "      <td>46</td>\n",
              "      <td>68</td>\n",
              "      <td>83</td>\n",
              "      <td>143</td>\n",
              "      <td>565</td>\n",
              "      <td>achiupr01</td>\n",
              "    </tr>\n",
              "    <tr>\n",
              "      <th>1</th>\n",
              "      <td>Bam Adebayo</td>\n",
              "      <td>C</td>\n",
              "      <td>26</td>\n",
              "      <td>MIA</td>\n",
              "      <td>71</td>\n",
              "      <td>71</td>\n",
              "      <td>2416</td>\n",
              "      <td>530</td>\n",
              "      <td>1017</td>\n",
              "      <td>0.521</td>\n",
              "      <td>...</td>\n",
              "      <td>159</td>\n",
              "      <td>578</td>\n",
              "      <td>737</td>\n",
              "      <td>278</td>\n",
              "      <td>81</td>\n",
              "      <td>66</td>\n",
              "      <td>162</td>\n",
              "      <td>159</td>\n",
              "      <td>1367</td>\n",
              "      <td>adebaba01</td>\n",
              "    </tr>\n",
              "    <tr>\n",
              "      <th>2</th>\n",
              "      <td>Ochai Agbaji</td>\n",
              "      <td>SG</td>\n",
              "      <td>23</td>\n",
              "      <td>TOT</td>\n",
              "      <td>78</td>\n",
              "      <td>28</td>\n",
              "      <td>1641</td>\n",
              "      <td>178</td>\n",
              "      <td>433</td>\n",
              "      <td>0.411</td>\n",
              "      <td>...</td>\n",
              "      <td>74</td>\n",
              "      <td>142</td>\n",
              "      <td>216</td>\n",
              "      <td>83</td>\n",
              "      <td>47</td>\n",
              "      <td>44</td>\n",
              "      <td>64</td>\n",
              "      <td>117</td>\n",
              "      <td>455</td>\n",
              "      <td>agbajoc01</td>\n",
              "    </tr>\n",
              "    <tr>\n",
              "      <th>3</th>\n",
              "      <td>Santi Aldama</td>\n",
              "      <td>PF</td>\n",
              "      <td>23</td>\n",
              "      <td>MEM</td>\n",
              "      <td>61</td>\n",
              "      <td>35</td>\n",
              "      <td>1618</td>\n",
              "      <td>247</td>\n",
              "      <td>568</td>\n",
              "      <td>0.435</td>\n",
              "      <td>...</td>\n",
              "      <td>72</td>\n",
              "      <td>280</td>\n",
              "      <td>352</td>\n",
              "      <td>138</td>\n",
              "      <td>43</td>\n",
              "      <td>54</td>\n",
              "      <td>69</td>\n",
              "      <td>89</td>\n",
              "      <td>654</td>\n",
              "      <td>aldamsa01</td>\n",
              "    </tr>\n",
              "    <tr>\n",
              "      <th>4</th>\n",
              "      <td>Nickeil Alexander-Walker</td>\n",
              "      <td>SG</td>\n",
              "      <td>25</td>\n",
              "      <td>MIN</td>\n",
              "      <td>82</td>\n",
              "      <td>20</td>\n",
              "      <td>1921</td>\n",
              "      <td>236</td>\n",
              "      <td>538</td>\n",
              "      <td>0.439</td>\n",
              "      <td>...</td>\n",
              "      <td>35</td>\n",
              "      <td>132</td>\n",
              "      <td>167</td>\n",
              "      <td>204</td>\n",
              "      <td>64</td>\n",
              "      <td>42</td>\n",
              "      <td>76</td>\n",
              "      <td>143</td>\n",
              "      <td>655</td>\n",
              "      <td>alexani01</td>\n",
              "    </tr>\n",
              "    <tr>\n",
              "      <th>...</th>\n",
              "      <td>...</td>\n",
              "      <td>...</td>\n",
              "      <td>...</td>\n",
              "      <td>...</td>\n",
              "      <td>...</td>\n",
              "      <td>...</td>\n",
              "      <td>...</td>\n",
              "      <td>...</td>\n",
              "      <td>...</td>\n",
              "      <td>...</td>\n",
              "      <td>...</td>\n",
              "      <td>...</td>\n",
              "      <td>...</td>\n",
              "      <td>...</td>\n",
              "      <td>...</td>\n",
              "      <td>...</td>\n",
              "      <td>...</td>\n",
              "      <td>...</td>\n",
              "      <td>...</td>\n",
              "      <td>...</td>\n",
              "      <td>...</td>\n",
              "    </tr>\n",
              "    <tr>\n",
              "      <th>567</th>\n",
              "      <td>Thaddeus Young</td>\n",
              "      <td>PF</td>\n",
              "      <td>35</td>\n",
              "      <td>TOT</td>\n",
              "      <td>33</td>\n",
              "      <td>6</td>\n",
              "      <td>439</td>\n",
              "      <td>65</td>\n",
              "      <td>108</td>\n",
              "      <td>0.602</td>\n",
              "      <td>...</td>\n",
              "      <td>46</td>\n",
              "      <td>57</td>\n",
              "      <td>103</td>\n",
              "      <td>57</td>\n",
              "      <td>23</td>\n",
              "      <td>5</td>\n",
              "      <td>15</td>\n",
              "      <td>49</td>\n",
              "      <td>137</td>\n",
              "      <td>youngth01</td>\n",
              "    </tr>\n",
              "    <tr>\n",
              "      <th>568</th>\n",
              "      <td>Trae Young</td>\n",
              "      <td>PG</td>\n",
              "      <td>25</td>\n",
              "      <td>ATL</td>\n",
              "      <td>54</td>\n",
              "      <td>54</td>\n",
              "      <td>1942</td>\n",
              "      <td>433</td>\n",
              "      <td>1008</td>\n",
              "      <td>0.430</td>\n",
              "      <td>...</td>\n",
              "      <td>23</td>\n",
              "      <td>126</td>\n",
              "      <td>149</td>\n",
              "      <td>583</td>\n",
              "      <td>72</td>\n",
              "      <td>11</td>\n",
              "      <td>235</td>\n",
              "      <td>109</td>\n",
              "      <td>1389</td>\n",
              "      <td>youngtr01</td>\n",
              "    </tr>\n",
              "    <tr>\n",
              "      <th>569</th>\n",
              "      <td>Omer Yurtseven</td>\n",
              "      <td>C</td>\n",
              "      <td>25</td>\n",
              "      <td>UTA</td>\n",
              "      <td>48</td>\n",
              "      <td>12</td>\n",
              "      <td>545</td>\n",
              "      <td>99</td>\n",
              "      <td>184</td>\n",
              "      <td>0.538</td>\n",
              "      <td>...</td>\n",
              "      <td>72</td>\n",
              "      <td>136</td>\n",
              "      <td>208</td>\n",
              "      <td>29</td>\n",
              "      <td>8</td>\n",
              "      <td>18</td>\n",
              "      <td>37</td>\n",
              "      <td>52</td>\n",
              "      <td>222</td>\n",
              "      <td>yurtsom01</td>\n",
              "    </tr>\n",
              "    <tr>\n",
              "      <th>570</th>\n",
              "      <td>Cody Zeller</td>\n",
              "      <td>C</td>\n",
              "      <td>31</td>\n",
              "      <td>NOP</td>\n",
              "      <td>43</td>\n",
              "      <td>0</td>\n",
              "      <td>320</td>\n",
              "      <td>26</td>\n",
              "      <td>62</td>\n",
              "      <td>0.419</td>\n",
              "      <td>...</td>\n",
              "      <td>48</td>\n",
              "      <td>64</td>\n",
              "      <td>112</td>\n",
              "      <td>39</td>\n",
              "      <td>9</td>\n",
              "      <td>5</td>\n",
              "      <td>16</td>\n",
              "      <td>45</td>\n",
              "      <td>76</td>\n",
              "      <td>zelleco01</td>\n",
              "    </tr>\n",
              "    <tr>\n",
              "      <th>571</th>\n",
              "      <td>Ivica Zubac</td>\n",
              "      <td>C</td>\n",
              "      <td>26</td>\n",
              "      <td>LAC</td>\n",
              "      <td>68</td>\n",
              "      <td>68</td>\n",
              "      <td>1794</td>\n",
              "      <td>337</td>\n",
              "      <td>519</td>\n",
              "      <td>0.649</td>\n",
              "      <td>...</td>\n",
              "      <td>196</td>\n",
              "      <td>430</td>\n",
              "      <td>626</td>\n",
              "      <td>93</td>\n",
              "      <td>22</td>\n",
              "      <td>83</td>\n",
              "      <td>79</td>\n",
              "      <td>180</td>\n",
              "      <td>794</td>\n",
              "      <td>zubaciv01</td>\n",
              "    </tr>\n",
              "  </tbody>\n",
              "</table>\n",
              "<p>572 rows × 30 columns</p>\n",
              "</div>\n",
              "    <div class=\"colab-df-buttons\">\n",
              "\n",
              "  <div class=\"colab-df-container\">\n",
              "    <button class=\"colab-df-convert\" onclick=\"convertToInteractive('df-75f06db6-bc56-40c2-ae94-a38972ffcc19')\"\n",
              "            title=\"Convert this dataframe to an interactive table.\"\n",
              "            style=\"display:none;\">\n",
              "\n",
              "  <svg xmlns=\"http://www.w3.org/2000/svg\" height=\"24px\" viewBox=\"0 -960 960 960\">\n",
              "    <path d=\"M120-120v-720h720v720H120Zm60-500h600v-160H180v160Zm220 220h160v-160H400v160Zm0 220h160v-160H400v160ZM180-400h160v-160H180v160Zm440 0h160v-160H620v160ZM180-180h160v-160H180v160Zm440 0h160v-160H620v160Z\"/>\n",
              "  </svg>\n",
              "    </button>\n",
              "\n",
              "  <style>\n",
              "    .colab-df-container {\n",
              "      display:flex;\n",
              "      gap: 12px;\n",
              "    }\n",
              "\n",
              "    .colab-df-convert {\n",
              "      background-color: #E8F0FE;\n",
              "      border: none;\n",
              "      border-radius: 50%;\n",
              "      cursor: pointer;\n",
              "      display: none;\n",
              "      fill: #1967D2;\n",
              "      height: 32px;\n",
              "      padding: 0 0 0 0;\n",
              "      width: 32px;\n",
              "    }\n",
              "\n",
              "    .colab-df-convert:hover {\n",
              "      background-color: #E2EBFA;\n",
              "      box-shadow: 0px 1px 2px rgba(60, 64, 67, 0.3), 0px 1px 3px 1px rgba(60, 64, 67, 0.15);\n",
              "      fill: #174EA6;\n",
              "    }\n",
              "\n",
              "    .colab-df-buttons div {\n",
              "      margin-bottom: 4px;\n",
              "    }\n",
              "\n",
              "    [theme=dark] .colab-df-convert {\n",
              "      background-color: #3B4455;\n",
              "      fill: #D2E3FC;\n",
              "    }\n",
              "\n",
              "    [theme=dark] .colab-df-convert:hover {\n",
              "      background-color: #434B5C;\n",
              "      box-shadow: 0px 1px 3px 1px rgba(0, 0, 0, 0.15);\n",
              "      filter: drop-shadow(0px 1px 2px rgba(0, 0, 0, 0.3));\n",
              "      fill: #FFFFFF;\n",
              "    }\n",
              "  </style>\n",
              "\n",
              "    <script>\n",
              "      const buttonEl =\n",
              "        document.querySelector('#df-75f06db6-bc56-40c2-ae94-a38972ffcc19 button.colab-df-convert');\n",
              "      buttonEl.style.display =\n",
              "        google.colab.kernel.accessAllowed ? 'block' : 'none';\n",
              "\n",
              "      async function convertToInteractive(key) {\n",
              "        const element = document.querySelector('#df-75f06db6-bc56-40c2-ae94-a38972ffcc19');\n",
              "        const dataTable =\n",
              "          await google.colab.kernel.invokeFunction('convertToInteractive',\n",
              "                                                    [key], {});\n",
              "        if (!dataTable) return;\n",
              "\n",
              "        const docLinkHtml = 'Like what you see? Visit the ' +\n",
              "          '<a target=\"_blank\" href=https://colab.research.google.com/notebooks/data_table.ipynb>data table notebook</a>'\n",
              "          + ' to learn more about interactive tables.';\n",
              "        element.innerHTML = '';\n",
              "        dataTable['output_type'] = 'display_data';\n",
              "        await google.colab.output.renderOutput(dataTable, element);\n",
              "        const docLink = document.createElement('div');\n",
              "        docLink.innerHTML = docLinkHtml;\n",
              "        element.appendChild(docLink);\n",
              "      }\n",
              "    </script>\n",
              "  </div>\n",
              "\n",
              "\n",
              "    <div id=\"df-5187d989-37c5-4465-a92f-0ef208b17814\">\n",
              "      <button class=\"colab-df-quickchart\" onclick=\"quickchart('df-5187d989-37c5-4465-a92f-0ef208b17814')\"\n",
              "                title=\"Suggest charts\"\n",
              "                style=\"display:none;\">\n",
              "\n",
              "<svg xmlns=\"http://www.w3.org/2000/svg\" height=\"24px\"viewBox=\"0 0 24 24\"\n",
              "     width=\"24px\">\n",
              "    <g>\n",
              "        <path d=\"M19 3H5c-1.1 0-2 .9-2 2v14c0 1.1.9 2 2 2h14c1.1 0 2-.9 2-2V5c0-1.1-.9-2-2-2zM9 17H7v-7h2v7zm4 0h-2V7h2v10zm4 0h-2v-4h2v4z\"/>\n",
              "    </g>\n",
              "</svg>\n",
              "      </button>\n",
              "\n",
              "<style>\n",
              "  .colab-df-quickchart {\n",
              "      --bg-color: #E8F0FE;\n",
              "      --fill-color: #1967D2;\n",
              "      --hover-bg-color: #E2EBFA;\n",
              "      --hover-fill-color: #174EA6;\n",
              "      --disabled-fill-color: #AAA;\n",
              "      --disabled-bg-color: #DDD;\n",
              "  }\n",
              "\n",
              "  [theme=dark] .colab-df-quickchart {\n",
              "      --bg-color: #3B4455;\n",
              "      --fill-color: #D2E3FC;\n",
              "      --hover-bg-color: #434B5C;\n",
              "      --hover-fill-color: #FFFFFF;\n",
              "      --disabled-bg-color: #3B4455;\n",
              "      --disabled-fill-color: #666;\n",
              "  }\n",
              "\n",
              "  .colab-df-quickchart {\n",
              "    background-color: var(--bg-color);\n",
              "    border: none;\n",
              "    border-radius: 50%;\n",
              "    cursor: pointer;\n",
              "    display: none;\n",
              "    fill: var(--fill-color);\n",
              "    height: 32px;\n",
              "    padding: 0;\n",
              "    width: 32px;\n",
              "  }\n",
              "\n",
              "  .colab-df-quickchart:hover {\n",
              "    background-color: var(--hover-bg-color);\n",
              "    box-shadow: 0 1px 2px rgba(60, 64, 67, 0.3), 0 1px 3px 1px rgba(60, 64, 67, 0.15);\n",
              "    fill: var(--button-hover-fill-color);\n",
              "  }\n",
              "\n",
              "  .colab-df-quickchart-complete:disabled,\n",
              "  .colab-df-quickchart-complete:disabled:hover {\n",
              "    background-color: var(--disabled-bg-color);\n",
              "    fill: var(--disabled-fill-color);\n",
              "    box-shadow: none;\n",
              "  }\n",
              "\n",
              "  .colab-df-spinner {\n",
              "    border: 2px solid var(--fill-color);\n",
              "    border-color: transparent;\n",
              "    border-bottom-color: var(--fill-color);\n",
              "    animation:\n",
              "      spin 1s steps(1) infinite;\n",
              "  }\n",
              "\n",
              "  @keyframes spin {\n",
              "    0% {\n",
              "      border-color: transparent;\n",
              "      border-bottom-color: var(--fill-color);\n",
              "      border-left-color: var(--fill-color);\n",
              "    }\n",
              "    20% {\n",
              "      border-color: transparent;\n",
              "      border-left-color: var(--fill-color);\n",
              "      border-top-color: var(--fill-color);\n",
              "    }\n",
              "    30% {\n",
              "      border-color: transparent;\n",
              "      border-left-color: var(--fill-color);\n",
              "      border-top-color: var(--fill-color);\n",
              "      border-right-color: var(--fill-color);\n",
              "    }\n",
              "    40% {\n",
              "      border-color: transparent;\n",
              "      border-right-color: var(--fill-color);\n",
              "      border-top-color: var(--fill-color);\n",
              "    }\n",
              "    60% {\n",
              "      border-color: transparent;\n",
              "      border-right-color: var(--fill-color);\n",
              "    }\n",
              "    80% {\n",
              "      border-color: transparent;\n",
              "      border-right-color: var(--fill-color);\n",
              "      border-bottom-color: var(--fill-color);\n",
              "    }\n",
              "    90% {\n",
              "      border-color: transparent;\n",
              "      border-bottom-color: var(--fill-color);\n",
              "    }\n",
              "  }\n",
              "</style>\n",
              "\n",
              "      <script>\n",
              "        async function quickchart(key) {\n",
              "          const quickchartButtonEl =\n",
              "            document.querySelector('#' + key + ' button');\n",
              "          quickchartButtonEl.disabled = true;  // To prevent multiple clicks.\n",
              "          quickchartButtonEl.classList.add('colab-df-spinner');\n",
              "          try {\n",
              "            const charts = await google.colab.kernel.invokeFunction(\n",
              "                'suggestCharts', [key], {});\n",
              "          } catch (error) {\n",
              "            console.error('Error during call to suggestCharts:', error);\n",
              "          }\n",
              "          quickchartButtonEl.classList.remove('colab-df-spinner');\n",
              "          quickchartButtonEl.classList.add('colab-df-quickchart-complete');\n",
              "        }\n",
              "        (() => {\n",
              "          let quickchartButtonEl =\n",
              "            document.querySelector('#df-5187d989-37c5-4465-a92f-0ef208b17814 button');\n",
              "          quickchartButtonEl.style.display =\n",
              "            google.colab.kernel.accessAllowed ? 'block' : 'none';\n",
              "        })();\n",
              "      </script>\n",
              "    </div>\n",
              "\n",
              "  <div id=\"id_69df6f7d-e128-425a-b71a-ac4ac75bf667\">\n",
              "    <style>\n",
              "      .colab-df-generate {\n",
              "        background-color: #E8F0FE;\n",
              "        border: none;\n",
              "        border-radius: 50%;\n",
              "        cursor: pointer;\n",
              "        display: none;\n",
              "        fill: #1967D2;\n",
              "        height: 32px;\n",
              "        padding: 0 0 0 0;\n",
              "        width: 32px;\n",
              "      }\n",
              "\n",
              "      .colab-df-generate:hover {\n",
              "        background-color: #E2EBFA;\n",
              "        box-shadow: 0px 1px 2px rgba(60, 64, 67, 0.3), 0px 1px 3px 1px rgba(60, 64, 67, 0.15);\n",
              "        fill: #174EA6;\n",
              "      }\n",
              "\n",
              "      [theme=dark] .colab-df-generate {\n",
              "        background-color: #3B4455;\n",
              "        fill: #D2E3FC;\n",
              "      }\n",
              "\n",
              "      [theme=dark] .colab-df-generate:hover {\n",
              "        background-color: #434B5C;\n",
              "        box-shadow: 0px 1px 3px 1px rgba(0, 0, 0, 0.15);\n",
              "        filter: drop-shadow(0px 1px 2px rgba(0, 0, 0, 0.3));\n",
              "        fill: #FFFFFF;\n",
              "      }\n",
              "    </style>\n",
              "    <button class=\"colab-df-generate\" onclick=\"generateWithVariable('basketball')\"\n",
              "            title=\"Generate code using this dataframe.\"\n",
              "            style=\"display:none;\">\n",
              "\n",
              "  <svg xmlns=\"http://www.w3.org/2000/svg\" height=\"24px\"viewBox=\"0 0 24 24\"\n",
              "       width=\"24px\">\n",
              "    <path d=\"M7,19H8.4L18.45,9,17,7.55,7,17.6ZM5,21V16.75L18.45,3.32a2,2,0,0,1,2.83,0l1.4,1.43a1.91,1.91,0,0,1,.58,1.4,1.91,1.91,0,0,1-.58,1.4L9.25,21ZM18.45,9,17,7.55Zm-12,3A5.31,5.31,0,0,0,4.9,8.1,5.31,5.31,0,0,0,1,6.5,5.31,5.31,0,0,0,4.9,4.9,5.31,5.31,0,0,0,6.5,1,5.31,5.31,0,0,0,8.1,4.9,5.31,5.31,0,0,0,12,6.5,5.46,5.46,0,0,0,6.5,12Z\"/>\n",
              "  </svg>\n",
              "    </button>\n",
              "    <script>\n",
              "      (() => {\n",
              "      const buttonEl =\n",
              "        document.querySelector('#id_69df6f7d-e128-425a-b71a-ac4ac75bf667 button.colab-df-generate');\n",
              "      buttonEl.style.display =\n",
              "        google.colab.kernel.accessAllowed ? 'block' : 'none';\n",
              "\n",
              "      buttonEl.onclick = () => {\n",
              "        google.colab.notebook.generateWithVariable('basketball');\n",
              "      }\n",
              "      })();\n",
              "    </script>\n",
              "  </div>\n",
              "\n",
              "    </div>\n",
              "  </div>\n"
            ],
            "application/vnd.google.colaboratory.intrinsic+json": {
              "type": "dataframe",
              "variable_name": "basketball"
            }
          },
          "metadata": {},
          "execution_count": 268
        }
      ]
    },
    {
      "source": [
        "from matplotlib import pyplot as plt\n",
        "basketball['Age'].plot(kind='hist', bins=20, title='Age')\n",
        "plt.gca().spines[['top', 'right',]].set_visible(False)"
      ],
      "cell_type": "code",
      "metadata": {
        "colab": {
          "base_uri": "https://localhost:8080/",
          "height": 452
        },
        "id": "Q7RdFoy-KkxZ",
        "outputId": "6cebf3cd-d30a-469f-8184-05031aae0047"
      },
      "execution_count": null,
      "outputs": [
        {
          "output_type": "display_data",
          "data": {
            "text/plain": [
              "<Figure size 640x480 with 1 Axes>"
            ],
            "image/png": "[encoded data removed]"
          },
          "metadata": {}
        }
      ]
    },
    {
      "cell_type": "markdown",
      "source": [
        "Its easy to call the column names and rows. You can also call the shape, but note that printing the dataframe also tells you the shape."
      ],
      "metadata": {
        "id": "ObYxzjtxdELR"
      }
    },
    {
      "cell_type": "code",
      "source": [
        "basketball.columns"
      ],
      "metadata": {
        "id": "_366zzNydTgG",
        "colab": {
          "base_uri": "https://localhost:8080/"
        },
        "outputId": "42e2fbe3-52eb-4598-a90c-0f6814bd0014"
      },
      "execution_count": null,
      "outputs": [
        {
          "output_type": "execute_result",
          "data": {
            "text/plain": [
              "Index(['Player', 'Pos', 'Age', 'Tm', 'G', 'GS', 'MP', 'FG', 'FGA', 'FG%', '3P',\n",
              "       '3PA', '3P%', '2P', '2PA', '2P%', 'eFG%', 'FT', 'FTA', 'FT%', 'ORB',\n",
              "       'DRB', 'TRB', 'AST', 'STL', 'BLK', 'TOV', 'PF', 'PTS',\n",
              "       'Player-additional'],\n",
              "      dtype='object')"
            ]
          },
          "metadata": {},
          "execution_count": 270
        }
      ]
    },
    {
      "cell_type": "code",
      "source": [
        "basketball.index"
      ],
      "metadata": {
        "id": "nYX_wKbIdXB-",
        "colab": {
          "base_uri": "https://localhost:8080/"
        },
        "outputId": "cc60ce6d-9771-4ada-b839-3a4f735779cb"
      },
      "execution_count": null,
      "outputs": [
        {
          "output_type": "execute_result",
          "data": {
            "text/plain": [
              "RangeIndex(start=0, stop=572, step=1)"
            ]
          },
          "metadata": {},
          "execution_count": 271
        }
      ]
    },
    {
      "cell_type": "code",
      "source": [
        "basketball.shape"
      ],
      "metadata": {
        "id": "E-5l-VS0dZj3",
        "colab": {
          "base_uri": "https://localhost:8080/"
        },
        "outputId": "58cd6862-65b6-47bc-dca3-21c5308ff3cc"
      },
      "execution_count": null,
      "outputs": [
        {
          "output_type": "execute_result",
          "data": {
            "text/plain": [
              "(572, 30)"
            ]
          },
          "metadata": {},
          "execution_count": 272
        }
      ]
    },
    {
      "cell_type": "markdown",
      "source": [
        "We call columns by name."
      ],
      "metadata": {
        "id": "D9yJ4uQOdmog"
      }
    },
    {
      "cell_type": "code",
      "source": [
        "basketball.Player"
      ],
      "metadata": {
        "id": "KtFz8lZRdtBF",
        "colab": {
          "base_uri": "https://localhost:8080/",
          "height": 458
        },
        "outputId": "dc6a647f-e70f-4d9a-bab1-52bc15c1f2ac"
      },
      "execution_count": null,
      "outputs": [
        {
          "output_type": "execute_result",
          "data": {
            "text/plain": [
              "0              Precious Achiuwa\n",
              "1                   Bam Adebayo\n",
              "2                  Ochai Agbaji\n",
              "3                  Santi Aldama\n",
              "4      Nickeil Alexander-Walker\n",
              "                 ...           \n",
              "567              Thaddeus Young\n",
              "568                  Trae Young\n",
              "569              Omer Yurtseven\n",
              "570                 Cody Zeller\n",
              "571                 Ivica Zubac\n",
              "Name: Player, Length: 572, dtype: object"
            ],
            "text/html": [
              "<div>\n",
              "<style scoped>\n",
              "    .dataframe tbody tr th:only-of-type {\n",
              "        vertical-align: middle;\n",
              "    }\n",
              "\n",
              "    .dataframe tbody tr th {\n",
              "        vertical-align: top;\n",
              "    }\n",
              "\n",
              "    .dataframe thead th {\n",
              "        text-align: right;\n",
              "    }\n",
              "</style>\n",
              "<table border=\"1\" class=\"dataframe\">\n",
              "  <thead>\n",
              "    <tr style=\"text-align: right;\">\n",
              "      <th></th>\n",
              "      <th>Player</th>\n",
              "    </tr>\n",
              "  </thead>\n",
              "  <tbody>\n",
              "    <tr>\n",
              "      <th>0</th>\n",
              "      <td>Precious Achiuwa</td>\n",
              "    </tr>\n",
              "    <tr>\n",
              "      <th>1</th>\n",
              "      <td>Bam Adebayo</td>\n",
              "    </tr>\n",
              "    <tr>\n",
              "      <th>2</th>\n",
              "      <td>Ochai Agbaji</td>\n",
              "    </tr>\n",
              "    <tr>\n",
              "      <th>3</th>\n",
              "      <td>Santi Aldama</td>\n",
              "    </tr>\n",
              "    <tr>\n",
              "      <th>4</th>\n",
              "      <td>Nickeil Alexander-Walker</td>\n",
              "    </tr>\n",
              "    <tr>\n",
              "      <th>...</th>\n",
              "      <td>...</td>\n",
              "    </tr>\n",
              "    <tr>\n",
              "      <th>567</th>\n",
              "      <td>Thaddeus Young</td>\n",
              "    </tr>\n",
              "    <tr>\n",
              "      <th>568</th>\n",
              "      <td>Trae Young</td>\n",
              "    </tr>\n",
              "    <tr>\n",
              "      <th>569</th>\n",
              "      <td>Omer Yurtseven</td>\n",
              "    </tr>\n",
              "    <tr>\n",
              "      <th>570</th>\n",
              "      <td>Cody Zeller</td>\n",
              "    </tr>\n",
              "    <tr>\n",
              "      <th>571</th>\n",
              "      <td>Ivica Zubac</td>\n",
              "    </tr>\n",
              "  </tbody>\n",
              "</table>\n",
              "<p>572 rows × 1 columns</p>\n",
              "</div><br><label><b>dtype:</b> object</label>"
            ]
          },
          "metadata": {},
          "execution_count": 273
        }
      ]
    },
    {
      "cell_type": "code",
      "source": [
        "basketball['Player']"
      ],
      "metadata": {
        "id": "M37m1kgUh38F",
        "colab": {
          "base_uri": "https://localhost:8080/",
          "height": 458
        },
        "outputId": "8019532e-c961-40fc-d232-3bc81c224df3"
      },
      "execution_count": null,
      "outputs": [
        {
          "output_type": "execute_result",
          "data": {
            "text/plain": [
              "0              Precious Achiuwa\n",
              "1                   Bam Adebayo\n",
              "2                  Ochai Agbaji\n",
              "3                  Santi Aldama\n",
              "4      Nickeil Alexander-Walker\n",
              "                 ...           \n",
              "567              Thaddeus Young\n",
              "568                  Trae Young\n",
              "569              Omer Yurtseven\n",
              "570                 Cody Zeller\n",
              "571                 Ivica Zubac\n",
              "Name: Player, Length: 572, dtype: object"
            ],
            "text/html": [
              "<div>\n",
              "<style scoped>\n",
              "    .dataframe tbody tr th:only-of-type {\n",
              "        vertical-align: middle;\n",
              "    }\n",
              "\n",
              "    .dataframe tbody tr th {\n",
              "        vertical-align: top;\n",
              "    }\n",
              "\n",
              "    .dataframe thead th {\n",
              "        text-align: right;\n",
              "    }\n",
              "</style>\n",
              "<table border=\"1\" class=\"dataframe\">\n",
              "  <thead>\n",
              "    <tr style=\"text-align: right;\">\n",
              "      <th></th>\n",
              "      <th>Player</th>\n",
              "    </tr>\n",
              "  </thead>\n",
              "  <tbody>\n",
              "    <tr>\n",
              "      <th>0</th>\n",
              "      <td>Precious Achiuwa</td>\n",
              "    </tr>\n",
              "    <tr>\n",
              "      <th>1</th>\n",
              "      <td>Bam Adebayo</td>\n",
              "    </tr>\n",
              "    <tr>\n",
              "      <th>2</th>\n",
              "      <td>Ochai Agbaji</td>\n",
              "    </tr>\n",
              "    <tr>\n",
              "      <th>3</th>\n",
              "      <td>Santi Aldama</td>\n",
              "    </tr>\n",
              "    <tr>\n",
              "      <th>4</th>\n",
              "      <td>Nickeil Alexander-Walker</td>\n",
              "    </tr>\n",
              "    <tr>\n",
              "      <th>...</th>\n",
              "      <td>...</td>\n",
              "    </tr>\n",
              "    <tr>\n",
              "      <th>567</th>\n",
              "      <td>Thaddeus Young</td>\n",
              "    </tr>\n",
              "    <tr>\n",
              "      <th>568</th>\n",
              "      <td>Trae Young</td>\n",
              "    </tr>\n",
              "    <tr>\n",
              "      <th>569</th>\n",
              "      <td>Omer Yurtseven</td>\n",
              "    </tr>\n",
              "    <tr>\n",
              "      <th>570</th>\n",
              "      <td>Cody Zeller</td>\n",
              "    </tr>\n",
              "    <tr>\n",
              "      <th>571</th>\n",
              "      <td>Ivica Zubac</td>\n",
              "    </tr>\n",
              "  </tbody>\n",
              "</table>\n",
              "<p>572 rows × 1 columns</p>\n",
              "</div><br><label><b>dtype:</b> object</label>"
            ]
          },
          "metadata": {},
          "execution_count": 274
        }
      ]
    },
    {
      "cell_type": "code",
      "source": [
        "#the double brackets returns a data frame\n",
        "basketball[['Player']]"
      ],
      "metadata": {
        "id": "fPkCewXndys2",
        "colab": {
          "base_uri": "https://localhost:8080/",
          "height": 424
        },
        "outputId": "3f5c119b-865f-4705-d098-b2976f79d65a"
      },
      "execution_count": null,
      "outputs": [
        {
          "output_type": "execute_result",
          "data": {
            "text/plain": [
              "                       Player\n",
              "0            Precious Achiuwa\n",
              "1                 Bam Adebayo\n",
              "2                Ochai Agbaji\n",
              "3                Santi Aldama\n",
              "4    Nickeil Alexander-Walker\n",
              "..                        ...\n",
              "567            Thaddeus Young\n",
              "568                Trae Young\n",
              "569            Omer Yurtseven\n",
              "570               Cody Zeller\n",
              "571               Ivica Zubac\n",
              "\n",
              "[572 rows x 1 columns]"
            ],
            "text/html": [
              "\n",
              "  <div id=\"df-f04f9820-ea76-4ae0-933b-65dc4aae8ac6\" class=\"colab-df-container\">\n",
              "    <div>\n",
              "<style scoped>\n",
              "    .dataframe tbody tr th:only-of-type {\n",
              "        vertical-align: middle;\n",
              "    }\n",
              "\n",
              "    .dataframe tbody tr th {\n",
              "        vertical-align: top;\n",
              "    }\n",
              "\n",
              "    .dataframe thead th {\n",
              "        text-align: right;\n",
              "    }\n",
              "</style>\n",
              "<table border=\"1\" class=\"dataframe\">\n",
              "  <thead>\n",
              "    <tr style=\"text-align: right;\">\n",
              "      <th></th>\n",
              "      <th>Player</th>\n",
              "    </tr>\n",
              "  </thead>\n",
              "  <tbody>\n",
              "    <tr>\n",
              "      <th>0</th>\n",
              "      <td>Precious Achiuwa</td>\n",
              "    </tr>\n",
              "    <tr>\n",
              "      <th>1</th>\n",
              "      <td>Bam Adebayo</td>\n",
              "    </tr>\n",
              "    <tr>\n",
              "      <th>2</th>\n",
              "      <td>Ochai Agbaji</td>\n",
              "    </tr>\n",
              "    <tr>\n",
              "      <th>3</th>\n",
              "      <td>Santi Aldama</td>\n",
              "    </tr>\n",
              "    <tr>\n",
              "      <th>4</th>\n",
              "      <td>Nickeil Alexander-Walker</td>\n",
              "    </tr>\n",
              "    <tr>\n",
              "      <th>...</th>\n",
              "      <td>...</td>\n",
              "    </tr>\n",
              "    <tr>\n",
              "      <th>567</th>\n",
              "      <td>Thaddeus Young</td>\n",
              "    </tr>\n",
              "    <tr>\n",
              "      <th>568</th>\n",
              "      <td>Trae Young</td>\n",
              "    </tr>\n",
              "    <tr>\n",
              "      <th>569</th>\n",
              "      <td>Omer Yurtseven</td>\n",
              "    </tr>\n",
              "    <tr>\n",
              "      <th>570</th>\n",
              "      <td>Cody Zeller</td>\n",
              "    </tr>\n",
              "    <tr>\n",
              "      <th>571</th>\n",
              "      <td>Ivica Zubac</td>\n",
              "    </tr>\n",
              "  </tbody>\n",
              "</table>\n",
              "<p>572 rows × 1 columns</p>\n",
              "</div>\n",
              "    <div class=\"colab-df-buttons\">\n",
              "\n",
              "  <div class=\"colab-df-container\">\n",
              "    <button class=\"colab-df-convert\" onclick=\"convertToInteractive('df-f04f9820-ea76-4ae0-933b-65dc4aae8ac6')\"\n",
              "            title=\"Convert this dataframe to an interactive table.\"\n",
              "            style=\"display:none;\">\n",
              "\n",
              "  <svg xmlns=\"http://www.w3.org/2000/svg\" height=\"24px\" viewBox=\"0 -960 960 960\">\n",
              "    <path d=\"M120-120v-720h720v720H120Zm60-500h600v-160H180v160Zm220 220h160v-160H400v160Zm0 220h160v-160H400v160ZM180-400h160v-160H180v160Zm440 0h160v-160H620v160ZM180-180h160v-160H180v160Zm440 0h160v-160H620v160Z\"/>\n",
              "  </svg>\n",
              "    </button>\n",
              "\n",
              "  <style>\n",
              "    .colab-df-container {\n",
              "      display:flex;\n",
              "      gap: 12px;\n",
              "    }\n",
              "\n",
              "    .colab-df-convert {\n",
              "      background-color: #E8F0FE;\n",
              "      border: none;\n",
              "      border-radius: 50%;\n",
              "      cursor: pointer;\n",
              "      display: none;\n",
              "      fill: #1967D2;\n",
              "      height: 32px;\n",
              "      padding: 0 0 0 0;\n",
              "      width: 32px;\n",
              "    }\n",
              "\n",
              "    .colab-df-convert:hover {\n",
              "      background-color: #E2EBFA;\n",
              "      box-shadow: 0px 1px 2px rgba(60, 64, 67, 0.3), 0px 1px 3px 1px rgba(60, 64, 67, 0.15);\n",
              "      fill: #174EA6;\n",
              "    }\n",
              "\n",
              "    .colab-df-buttons div {\n",
              "      margin-bottom: 4px;\n",
              "    }\n",
              "\n",
              "    [theme=dark] .colab-df-convert {\n",
              "      background-color: #3B4455;\n",
              "      fill: #D2E3FC;\n",
              "    }\n",
              "\n",
              "    [theme=dark] .colab-df-convert:hover {\n",
              "      background-color: #434B5C;\n",
              "      box-shadow: 0px 1px 3px 1px rgba(0, 0, 0, 0.15);\n",
              "      filter: drop-shadow(0px 1px 2px rgba(0, 0, 0, 0.3));\n",
              "      fill: #FFFFFF;\n",
              "    }\n",
              "  </style>\n",
              "\n",
              "    <script>\n",
              "      const buttonEl =\n",
              "        document.querySelector('#df-f04f9820-ea76-4ae0-933b-65dc4aae8ac6 button.colab-df-convert');\n",
              "      buttonEl.style.display =\n",
              "        google.colab.kernel.accessAllowed ? 'block' : 'none';\n",
              "\n",
              "      async function convertToInteractive(key) {\n",
              "        const element = document.querySelector('#df-f04f9820-ea76-4ae0-933b-65dc4aae8ac6');\n",
              "        const dataTable =\n",
              "          await google.colab.kernel.invokeFunction('convertToInteractive',\n",
              "                                                    [key], {});\n",
              "        if (!dataTable) return;\n",
              "\n",
              "        const docLinkHtml = 'Like what you see? Visit the ' +\n",
              "          '<a target=\"_blank\" href=https://colab.research.google.com/notebooks/data_table.ipynb>data table notebook</a>'\n",
              "          + ' to learn more about interactive tables.';\n",
              "        element.innerHTML = '';\n",
              "        dataTable['output_type'] = 'display_data';\n",
              "        await google.colab.output.renderOutput(dataTable, element);\n",
              "        const docLink = document.createElement('div');\n",
              "        docLink.innerHTML = docLinkHtml;\n",
              "        element.appendChild(docLink);\n",
              "      }\n",
              "    </script>\n",
              "  </div>\n",
              "\n",
              "\n",
              "    <div id=\"df-437c2409-1fd5-436d-966b-0875b24c2de8\">\n",
              "      <button class=\"colab-df-quickchart\" onclick=\"quickchart('df-437c2409-1fd5-436d-966b-0875b24c2de8')\"\n",
              "                title=\"Suggest charts\"\n",
              "                style=\"display:none;\">\n",
              "\n",
              "<svg xmlns=\"http://www.w3.org/2000/svg\" height=\"24px\"viewBox=\"0 0 24 24\"\n",
              "     width=\"24px\">\n",
              "    <g>\n",
              "        <path d=\"M19 3H5c-1.1 0-2 .9-2 2v14c0 1.1.9 2 2 2h14c1.1 0 2-.9 2-2V5c0-1.1-.9-2-2-2zM9 17H7v-7h2v7zm4 0h-2V7h2v10zm4 0h-2v-4h2v4z\"/>\n",
              "    </g>\n",
              "</svg>\n",
              "      </button>\n",
              "\n",
              "<style>\n",
              "  .colab-df-quickchart {\n",
              "      --bg-color: #E8F0FE;\n",
              "      --fill-color: #1967D2;\n",
              "      --hover-bg-color: #E2EBFA;\n",
              "      --hover-fill-color: #174EA6;\n",
              "      --disabled-fill-color: #AAA;\n",
              "      --disabled-bg-color: #DDD;\n",
              "  }\n",
              "\n",
              "  [theme=dark] .colab-df-quickchart {\n",
              "      --bg-color: #3B4455;\n",
              "      --fill-color: #D2E3FC;\n",
              "      --hover-bg-color: #434B5C;\n",
              "      --hover-fill-color: #FFFFFF;\n",
              "      --disabled-bg-color: #3B4455;\n",
              "      --disabled-fill-color: #666;\n",
              "  }\n",
              "\n",
              "  .colab-df-quickchart {\n",
              "    background-color: var(--bg-color);\n",
              "    border: none;\n",
              "    border-radius: 50%;\n",
              "    cursor: pointer;\n",
              "    display: none;\n",
              "    fill: var(--fill-color);\n",
              "    height: 32px;\n",
              "    padding: 0;\n",
              "    width: 32px;\n",
              "  }\n",
              "\n",
              "  .colab-df-quickchart:hover {\n",
              "    background-color: var(--hover-bg-color);\n",
              "    box-shadow: 0 1px 2px rgba(60, 64, 67, 0.3), 0 1px 3px 1px rgba(60, 64, 67, 0.15);\n",
              "    fill: var(--button-hover-fill-color);\n",
              "  }\n",
              "\n",
              "  .colab-df-quickchart-complete:disabled,\n",
              "  .colab-df-quickchart-complete:disabled:hover {\n",
              "    background-color: var(--disabled-bg-color);\n",
              "    fill: var(--disabled-fill-color);\n",
              "    box-shadow: none;\n",
              "  }\n",
              "\n",
              "  .colab-df-spinner {\n",
              "    border: 2px solid var(--fill-color);\n",
              "    border-color: transparent;\n",
              "    border-bottom-color: var(--fill-color);\n",
              "    animation:\n",
              "      spin 1s steps(1) infinite;\n",
              "  }\n",
              "\n",
              "  @keyframes spin {\n",
              "    0% {\n",
              "      border-color: transparent;\n",
              "      border-bottom-color: var(--fill-color);\n",
              "      border-left-color: var(--fill-color);\n",
              "    }\n",
              "    20% {\n",
              "      border-color: transparent;\n",
              "      border-left-color: var(--fill-color);\n",
              "      border-top-color: var(--fill-color);\n",
              "    }\n",
              "    30% {\n",
              "      border-color: transparent;\n",
              "      border-left-color: var(--fill-color);\n",
              "      border-top-color: var(--fill-color);\n",
              "      border-right-color: var(--fill-color);\n",
              "    }\n",
              "    40% {\n",
              "      border-color: transparent;\n",
              "      border-right-color: var(--fill-color);\n",
              "      border-top-color: var(--fill-color);\n",
              "    }\n",
              "    60% {\n",
              "      border-color: transparent;\n",
              "      border-right-color: var(--fill-color);\n",
              "    }\n",
              "    80% {\n",
              "      border-color: transparent;\n",
              "      border-right-color: var(--fill-color);\n",
              "      border-bottom-color: var(--fill-color);\n",
              "    }\n",
              "    90% {\n",
              "      border-color: transparent;\n",
              "      border-bottom-color: var(--fill-color);\n",
              "    }\n",
              "  }\n",
              "</style>\n",
              "\n",
              "      <script>\n",
              "        async function quickchart(key) {\n",
              "          const quickchartButtonEl =\n",
              "            document.querySelector('#' + key + ' button');\n",
              "          quickchartButtonEl.disabled = true;  // To prevent multiple clicks.\n",
              "          quickchartButtonEl.classList.add('colab-df-spinner');\n",
              "          try {\n",
              "            const charts = await google.colab.kernel.invokeFunction(\n",
              "                'suggestCharts', [key], {});\n",
              "          } catch (error) {\n",
              "            console.error('Error during call to suggestCharts:', error);\n",
              "          }\n",
              "          quickchartButtonEl.classList.remove('colab-df-spinner');\n",
              "          quickchartButtonEl.classList.add('colab-df-quickchart-complete');\n",
              "        }\n",
              "        (() => {\n",
              "          let quickchartButtonEl =\n",
              "            document.querySelector('#df-437c2409-1fd5-436d-966b-0875b24c2de8 button');\n",
              "          quickchartButtonEl.style.display =\n",
              "            google.colab.kernel.accessAllowed ? 'block' : 'none';\n",
              "        })();\n",
              "      </script>\n",
              "    </div>\n",
              "\n",
              "    </div>\n",
              "  </div>\n"
            ],
            "application/vnd.google.colaboratory.intrinsic+json": {
              "type": "dataframe",
              "summary": "{\n  \"name\": \"basketball[['Player']]\",\n  \"rows\": 572,\n  \"fields\": [\n    {\n      \"column\": \"Player\",\n      \"properties\": {\n        \"dtype\": \"string\",\n        \"num_unique_values\": 572,\n        \"samples\": [\n          \"Jonas Valan\\u010di\\u016bnas\",\n          \"Jaylen Brown\",\n          \"Henri Drell\"\n        ],\n        \"semantic_type\": \"\",\n        \"description\": \"\"\n      }\n    }\n  ]\n}"
            }
          },
          "metadata": {},
          "execution_count": 275
        }
      ]
    },
    {
      "cell_type": "markdown",
      "source": [
        "The second brackets method is required when we want a column with funky characters in its name."
      ],
      "metadata": {
        "id": "6qAg31ujeIgg"
      }
    },
    {
      "cell_type": "markdown",
      "source": [
        "Want to slice multiple columns?"
      ],
      "metadata": {
        "id": "gxR4s5ZdfQGZ"
      }
    },
    {
      "cell_type": "code",
      "source": [
        "basketball[['Player','FG%']]"
      ],
      "metadata": {
        "id": "W32u2GCzeTUS",
        "colab": {
          "base_uri": "https://localhost:8080/",
          "height": 424
        },
        "outputId": "cfd3b879-a59d-467a-d7a8-1bebd8bddbf5"
      },
      "execution_count": null,
      "outputs": [
        {
          "output_type": "execute_result",
          "data": {
            "text/plain": [
              "                       Player    FG%\n",
              "0            Precious Achiuwa  0.501\n",
              "1                 Bam Adebayo  0.521\n",
              "2                Ochai Agbaji  0.411\n",
              "3                Santi Aldama  0.435\n",
              "4    Nickeil Alexander-Walker  0.439\n",
              "..                        ...    ...\n",
              "567            Thaddeus Young  0.602\n",
              "568                Trae Young  0.430\n",
              "569            Omer Yurtseven  0.538\n",
              "570               Cody Zeller  0.419\n",
              "571               Ivica Zubac  0.649\n",
              "\n",
              "[572 rows x 2 columns]"
            ],
            "text/html": [
              "\n",
              "  <div id=\"df-14b94555-4f6b-4332-ab93-7a2321490cc1\" class=\"colab-df-container\">\n",
              "    <div>\n",
              "<style scoped>\n",
              "    .dataframe tbody tr th:only-of-type {\n",
              "        vertical-align: middle;\n",
              "    }\n",
              "\n",
              "    .dataframe tbody tr th {\n",
              "        vertical-align: top;\n",
              "    }\n",
              "\n",
              "    .dataframe thead th {\n",
              "        text-align: right;\n",
              "    }\n",
              "</style>\n",
              "<table border=\"1\" class=\"dataframe\">\n",
              "  <thead>\n",
              "    <tr style=\"text-align: right;\">\n",
              "      <th></th>\n",
              "      <th>Player</th>\n",
              "      <th>FG%</th>\n",
              "    </tr>\n",
              "  </thead>\n",
              "  <tbody>\n",
              "    <tr>\n",
              "      <th>0</th>\n",
              "      <td>Precious Achiuwa</td>\n",
              "      <td>0.501</td>\n",
              "    </tr>\n",
              "    <tr>\n",
              "      <th>1</th>\n",
              "      <td>Bam Adebayo</td>\n",
              "      <td>0.521</td>\n",
              "    </tr>\n",
              "    <tr>\n",
              "      <th>2</th>\n",
              "      <td>Ochai Agbaji</td>\n",
              "      <td>0.411</td>\n",
              "    </tr>\n",
              "    <tr>\n",
              "      <th>3</th>\n",
              "      <td>Santi Aldama</td>\n",
              "      <td>0.435</td>\n",
              "    </tr>\n",
              "    <tr>\n",
              "      <th>4</th>\n",
              "      <td>Nickeil Alexander-Walker</td>\n",
              "      <td>0.439</td>\n",
              "    </tr>\n",
              "    <tr>\n",
              "      <th>...</th>\n",
              "      <td>...</td>\n",
              "      <td>...</td>\n",
              "    </tr>\n",
              "    <tr>\n",
              "      <th>567</th>\n",
              "      <td>Thaddeus Young</td>\n",
              "      <td>0.602</td>\n",
              "    </tr>\n",
              "    <tr>\n",
              "      <th>568</th>\n",
              "      <td>Trae Young</td>\n",
              "      <td>0.430</td>\n",
              "    </tr>\n",
              "    <tr>\n",
              "      <th>569</th>\n",
              "      <td>Omer Yurtseven</td>\n",
              "      <td>0.538</td>\n",
              "    </tr>\n",
              "    <tr>\n",
              "      <th>570</th>\n",
              "      <td>Cody Zeller</td>\n",
              "      <td>0.419</td>\n",
              "    </tr>\n",
              "    <tr>\n",
              "      <th>571</th>\n",
              "      <td>Ivica Zubac</td>\n",
              "      <td>0.649</td>\n",
              "    </tr>\n",
              "  </tbody>\n",
              "</table>\n",
              "<p>572 rows × 2 columns</p>\n",
              "</div>\n",
              "    <div class=\"colab-df-buttons\">\n",
              "\n",
              "  <div class=\"colab-df-container\">\n",
              "    <button class=\"colab-df-convert\" onclick=\"convertToInteractive('df-14b94555-4f6b-4332-ab93-7a2321490cc1')\"\n",
              "            title=\"Convert this dataframe to an interactive table.\"\n",
              "            style=\"display:none;\">\n",
              "\n",
              "  <svg xmlns=\"http://www.w3.org/2000/svg\" height=\"24px\" viewBox=\"0 -960 960 960\">\n",
              "    <path d=\"M120-120v-720h720v720H120Zm60-500h600v-160H180v160Zm220 220h160v-160H400v160Zm0 220h160v-160H400v160ZM180-400h160v-160H180v160Zm440 0h160v-160H620v160ZM180-180h160v-160H180v160Zm440 0h160v-160H620v160Z\"/>\n",
              "  </svg>\n",
              "    </button>\n",
              "\n",
              "  <style>\n",
              "    .colab-df-container {\n",
              "      display:flex;\n",
              "      gap: 12px;\n",
              "    }\n",
              "\n",
              "    .colab-df-convert {\n",
              "      background-color: #E8F0FE;\n",
              "      border: none;\n",
              "      border-radius: 50%;\n",
              "      cursor: pointer;\n",
              "      display: none;\n",
              "      fill: #1967D2;\n",
              "      height: 32px;\n",
              "      padding: 0 0 0 0;\n",
              "      width: 32px;\n",
              "    }\n",
              "\n",
              "    .colab-df-convert:hover {\n",
              "      background-color: #E2EBFA;\n",
              "      box-shadow: 0px 1px 2px rgba(60, 64, 67, 0.3), 0px 1px 3px 1px rgba(60, 64, 67, 0.15);\n",
              "      fill: #174EA6;\n",
              "    }\n",
              "\n",
              "    .colab-df-buttons div {\n",
              "      margin-bottom: 4px;\n",
              "    }\n",
              "\n",
              "    [theme=dark] .colab-df-convert {\n",
              "      background-color: #3B4455;\n",
              "      fill: #D2E3FC;\n",
              "    }\n",
              "\n",
              "    [theme=dark] .colab-df-convert:hover {\n",
              "      background-color: #434B5C;\n",
              "      box-shadow: 0px 1px 3px 1px rgba(0, 0, 0, 0.15);\n",
              "      filter: drop-shadow(0px 1px 2px rgba(0, 0, 0, 0.3));\n",
              "      fill: #FFFFFF;\n",
              "    }\n",
              "  </style>\n",
              "\n",
              "    <script>\n",
              "      const buttonEl =\n",
              "        document.querySelector('#df-14b94555-4f6b-4332-ab93-7a2321490cc1 button.colab-df-convert');\n",
              "      buttonEl.style.display =\n",
              "        google.colab.kernel.accessAllowed ? 'block' : 'none';\n",
              "\n",
              "      async function convertToInteractive(key) {\n",
              "        const element = document.querySelector('#df-14b94555-4f6b-4332-ab93-7a2321490cc1');\n",
              "        const dataTable =\n",
              "          await google.colab.kernel.invokeFunction('convertToInteractive',\n",
              "                                                    [key], {});\n",
              "        if (!dataTable) return;\n",
              "\n",
              "        const docLinkHtml = 'Like what you see? Visit the ' +\n",
              "          '<a target=\"_blank\" href=https://colab.research.google.com/notebooks/data_table.ipynb>data table notebook</a>'\n",
              "          + ' to learn more about interactive tables.';\n",
              "        element.innerHTML = '';\n",
              "        dataTable['output_type'] = 'display_data';\n",
              "        await google.colab.output.renderOutput(dataTable, element);\n",
              "        const docLink = document.createElement('div');\n",
              "        docLink.innerHTML = docLinkHtml;\n",
              "        element.appendChild(docLink);\n",
              "      }\n",
              "    </script>\n",
              "  </div>\n",
              "\n",
              "\n",
              "    <div id=\"df-08dcef46-7818-4c10-8c4f-66f70d285fb0\">\n",
              "      <button class=\"colab-df-quickchart\" onclick=\"quickchart('df-08dcef46-7818-4c10-8c4f-66f70d285fb0')\"\n",
              "                title=\"Suggest charts\"\n",
              "                style=\"display:none;\">\n",
              "\n",
              "<svg xmlns=\"http://www.w3.org/2000/svg\" height=\"24px\"viewBox=\"0 0 24 24\"\n",
              "     width=\"24px\">\n",
              "    <g>\n",
              "        <path d=\"M19 3H5c-1.1 0-2 .9-2 2v14c0 1.1.9 2 2 2h14c1.1 0 2-.9 2-2V5c0-1.1-.9-2-2-2zM9 17H7v-7h2v7zm4 0h-2V7h2v10zm4 0h-2v-4h2v4z\"/>\n",
              "    </g>\n",
              "</svg>\n",
              "      </button>\n",
              "\n",
              "<style>\n",
              "  .colab-df-quickchart {\n",
              "      --bg-color: #E8F0FE;\n",
              "      --fill-color: #1967D2;\n",
              "      --hover-bg-color: #E2EBFA;\n",
              "      --hover-fill-color: #174EA6;\n",
              "      --disabled-fill-color: #AAA;\n",
              "      --disabled-bg-color: #DDD;\n",
              "  }\n",
              "\n",
              "  [theme=dark] .colab-df-quickchart {\n",
              "      --bg-color: #3B4455;\n",
              "      --fill-color: #D2E3FC;\n",
              "      --hover-bg-color: #434B5C;\n",
              "      --hover-fill-color: #FFFFFF;\n",
              "      --disabled-bg-color: #3B4455;\n",
              "      --disabled-fill-color: #666;\n",
              "  }\n",
              "\n",
              "  .colab-df-quickchart {\n",
              "    background-color: var(--bg-color);\n",
              "    border: none;\n",
              "    border-radius: 50%;\n",
              "    cursor: pointer;\n",
              "    display: none;\n",
              "    fill: var(--fill-color);\n",
              "    height: 32px;\n",
              "    padding: 0;\n",
              "    width: 32px;\n",
              "  }\n",
              "\n",
              "  .colab-df-quickchart:hover {\n",
              "    background-color: var(--hover-bg-color);\n",
              "    box-shadow: 0 1px 2px rgba(60, 64, 67, 0.3), 0 1px 3px 1px rgba(60, 64, 67, 0.15);\n",
              "    fill: var(--button-hover-fill-color);\n",
              "  }\n",
              "\n",
              "  .colab-df-quickchart-complete:disabled,\n",
              "  .colab-df-quickchart-complete:disabled:hover {\n",
              "    background-color: var(--disabled-bg-color);\n",
              "    fill: var(--disabled-fill-color);\n",
              "    box-shadow: none;\n",
              "  }\n",
              "\n",
              "  .colab-df-spinner {\n",
              "    border: 2px solid var(--fill-color);\n",
              "    border-color: transparent;\n",
              "    border-bottom-color: var(--fill-color);\n",
              "    animation:\n",
              "      spin 1s steps(1) infinite;\n",
              "  }\n",
              "\n",
              "  @keyframes spin {\n",
              "    0% {\n",
              "      border-color: transparent;\n",
              "      border-bottom-color: var(--fill-color);\n",
              "      border-left-color: var(--fill-color);\n",
              "    }\n",
              "    20% {\n",
              "      border-color: transparent;\n",
              "      border-left-color: var(--fill-color);\n",
              "      border-top-color: var(--fill-color);\n",
              "    }\n",
              "    30% {\n",
              "      border-color: transparent;\n",
              "      border-left-color: var(--fill-color);\n",
              "      border-top-color: var(--fill-color);\n",
              "      border-right-color: var(--fill-color);\n",
              "    }\n",
              "    40% {\n",
              "      border-color: transparent;\n",
              "      border-right-color: var(--fill-color);\n",
              "      border-top-color: var(--fill-color);\n",
              "    }\n",
              "    60% {\n",
              "      border-color: transparent;\n",
              "      border-right-color: var(--fill-color);\n",
              "    }\n",
              "    80% {\n",
              "      border-color: transparent;\n",
              "      border-right-color: var(--fill-color);\n",
              "      border-bottom-color: var(--fill-color);\n",
              "    }\n",
              "    90% {\n",
              "      border-color: transparent;\n",
              "      border-bottom-color: var(--fill-color);\n",
              "    }\n",
              "  }\n",
              "</style>\n",
              "\n",
              "      <script>\n",
              "        async function quickchart(key) {\n",
              "          const quickchartButtonEl =\n",
              "            document.querySelector('#' + key + ' button');\n",
              "          quickchartButtonEl.disabled = true;  // To prevent multiple clicks.\n",
              "          quickchartButtonEl.classList.add('colab-df-spinner');\n",
              "          try {\n",
              "            const charts = await google.colab.kernel.invokeFunction(\n",
              "                'suggestCharts', [key], {});\n",
              "          } catch (error) {\n",
              "            console.error('Error during call to suggestCharts:', error);\n",
              "          }\n",
              "          quickchartButtonEl.classList.remove('colab-df-spinner');\n",
              "          quickchartButtonEl.classList.add('colab-df-quickchart-complete');\n",
              "        }\n",
              "        (() => {\n",
              "          let quickchartButtonEl =\n",
              "            document.querySelector('#df-08dcef46-7818-4c10-8c4f-66f70d285fb0 button');\n",
              "          quickchartButtonEl.style.display =\n",
              "            google.colab.kernel.accessAllowed ? 'block' : 'none';\n",
              "        })();\n",
              "      </script>\n",
              "    </div>\n",
              "\n",
              "    </div>\n",
              "  </div>\n"
            ],
            "application/vnd.google.colaboratory.intrinsic+json": {
              "type": "dataframe",
              "summary": "{\n  \"name\": \"basketball[['Player','FG%']]\",\n  \"rows\": 572,\n  \"fields\": [\n    {\n      \"column\": \"Player\",\n      \"properties\": {\n        \"dtype\": \"string\",\n        \"num_unique_values\": 572,\n        \"samples\": [\n          \"Jonas Valan\\u010di\\u016bnas\",\n          \"Jaylen Brown\",\n          \"Henri Drell\"\n        ],\n        \"semantic_type\": \"\",\n        \"description\": \"\"\n      }\n    },\n    {\n      \"column\": \"FG%\",\n      \"properties\": {\n        \"dtype\": \"number\",\n        \"std\": 0.10725905691831003,\n        \"min\": 0.0,\n        \"max\": 0.747,\n        \"num_unique_values\": 242,\n        \"samples\": [\n          0.464,\n          0.634,\n          0.353\n        ],\n        \"semantic_type\": \"\",\n        \"description\": \"\"\n      }\n    }\n  ]\n}"
            }
          },
          "metadata": {},
          "execution_count": 276
        }
      ]
    },
    {
      "source": [],
      "cell_type": "code",
      "metadata": {
        "id": "q7oRQ1MTK-NZ"
      },
      "execution_count": null,
      "outputs": []
    },
    {
      "cell_type": "markdown",
      "source": [
        "Want to slice multiple rows and multiple columns?"
      ],
      "metadata": {
        "id": "UmEjf6WqiOFO"
      }
    },
    {
      "cell_type": "code",
      "source": [
        "#use loc to grab the zeroth, second, and 207th row.\n",
        "basketball[['Player', 'FG%']].loc[[0,4,207]]"
      ],
      "metadata": {
        "id": "PRJxUIb_fUsg",
        "colab": {
          "base_uri": "https://localhost:8080/",
          "height": 143
        },
        "outputId": "7ad1dab5-0101-4b2e-803e-b465956af10c"
      },
      "execution_count": null,
      "outputs": [
        {
          "output_type": "execute_result",
          "data": {
            "text/plain": [
              "                       Player    FG%\n",
              "0            Precious Achiuwa  0.501\n",
              "4    Nickeil Alexander-Walker  0.439\n",
              "207        Isaiah Hartenstein  0.644"
            ],
            "text/html": [
              "\n",
              "  <div id=\"df-5189bad7-ff2b-4357-bcec-ae265e30da85\" class=\"colab-df-container\">\n",
              "    <div>\n",
              "<style scoped>\n",
              "    .dataframe tbody tr th:only-of-type {\n",
              "        vertical-align: middle;\n",
              "    }\n",
              "\n",
              "    .dataframe tbody tr th {\n",
              "        vertical-align: top;\n",
              "    }\n",
              "\n",
              "    .dataframe thead th {\n",
              "        text-align: right;\n",
              "    }\n",
              "</style>\n",
              "<table border=\"1\" class=\"dataframe\">\n",
              "  <thead>\n",
              "    <tr style=\"text-align: right;\">\n",
              "      <th></th>\n",
              "      <th>Player</th>\n",
              "      <th>FG%</th>\n",
              "    </tr>\n",
              "  </thead>\n",
              "  <tbody>\n",
              "    <tr>\n",
              "      <th>0</th>\n",
              "      <td>Precious Achiuwa</td>\n",
              "      <td>0.501</td>\n",
              "    </tr>\n",
              "    <tr>\n",
              "      <th>4</th>\n",
              "      <td>Nickeil Alexander-Walker</td>\n",
              "      <td>0.439</td>\n",
              "    </tr>\n",
              "    <tr>\n",
              "      <th>207</th>\n",
              "      <td>Isaiah Hartenstein</td>\n",
              "      <td>0.644</td>\n",
              "    </tr>\n",
              "  </tbody>\n",
              "</table>\n",
              "</div>\n",
              "    <div class=\"colab-df-buttons\">\n",
              "\n",
              "  <div class=\"colab-df-container\">\n",
              "    <button class=\"colab-df-convert\" onclick=\"convertToInteractive('df-5189bad7-ff2b-4357-bcec-ae265e30da85')\"\n",
              "            title=\"Convert this dataframe to an interactive table.\"\n",
              "            style=\"display:none;\">\n",
              "\n",
              "  <svg xmlns=\"http://www.w3.org/2000/svg\" height=\"24px\" viewBox=\"0 -960 960 960\">\n",
              "    <path d=\"M120-120v-720h720v720H120Zm60-500h600v-160H180v160Zm220 220h160v-160H400v160Zm0 220h160v-160H400v160ZM180-400h160v-160H180v160Zm440 0h160v-160H620v160ZM180-180h160v-160H180v160Zm440 0h160v-160H620v160Z\"/>\n",
              "  </svg>\n",
              "    </button>\n",
              "\n",
              "  <style>\n",
              "    .colab-df-container {\n",
              "      display:flex;\n",
              "      gap: 12px;\n",
              "    }\n",
              "\n",
              "    .colab-df-convert {\n",
              "      background-color: #E8F0FE;\n",
              "      border: none;\n",
              "      border-radius: 50%;\n",
              "      cursor: pointer;\n",
              "      display: none;\n",
              "      fill: #1967D2;\n",
              "      height: 32px;\n",
              "      padding: 0 0 0 0;\n",
              "      width: 32px;\n",
              "    }\n",
              "\n",
              "    .colab-df-convert:hover {\n",
              "      background-color: #E2EBFA;\n",
              "      box-shadow: 0px 1px 2px rgba(60, 64, 67, 0.3), 0px 1px 3px 1px rgba(60, 64, 67, 0.15);\n",
              "      fill: #174EA6;\n",
              "    }\n",
              "\n",
              "    .colab-df-buttons div {\n",
              "      margin-bottom: 4px;\n",
              "    }\n",
              "\n",
              "    [theme=dark] .colab-df-convert {\n",
              "      background-color: #3B4455;\n",
              "      fill: #D2E3FC;\n",
              "    }\n",
              "\n",
              "    [theme=dark] .colab-df-convert:hover {\n",
              "      background-color: #434B5C;\n",
              "      box-shadow: 0px 1px 3px 1px rgba(0, 0, 0, 0.15);\n",
              "      filter: drop-shadow(0px 1px 2px rgba(0, 0, 0, 0.3));\n",
              "      fill: #FFFFFF;\n",
              "    }\n",
              "  </style>\n",
              "\n",
              "    <script>\n",
              "      const buttonEl =\n",
              "        document.querySelector('#df-5189bad7-ff2b-4357-bcec-ae265e30da85 button.colab-df-convert');\n",
              "      buttonEl.style.display =\n",
              "        google.colab.kernel.accessAllowed ? 'block' : 'none';\n",
              "\n",
              "      async function convertToInteractive(key) {\n",
              "        const element = document.querySelector('#df-5189bad7-ff2b-4357-bcec-ae265e30da85');\n",
              "        const dataTable =\n",
              "          await google.colab.kernel.invokeFunction('convertToInteractive',\n",
              "                                                    [key], {});\n",
              "        if (!dataTable) return;\n",
              "\n",
              "        const docLinkHtml = 'Like what you see? Visit the ' +\n",
              "          '<a target=\"_blank\" href=https://colab.research.google.com/notebooks/data_table.ipynb>data table notebook</a>'\n",
              "          + ' to learn more about interactive tables.';\n",
              "        element.innerHTML = '';\n",
              "        dataTable['output_type'] = 'display_data';\n",
              "        await google.colab.output.renderOutput(dataTable, element);\n",
              "        const docLink = document.createElement('div');\n",
              "        docLink.innerHTML = docLinkHtml;\n",
              "        element.appendChild(docLink);\n",
              "      }\n",
              "    </script>\n",
              "  </div>\n",
              "\n",
              "\n",
              "    <div id=\"df-aca09797-7e8e-437b-a21a-7a08925fe087\">\n",
              "      <button class=\"colab-df-quickchart\" onclick=\"quickchart('df-aca09797-7e8e-437b-a21a-7a08925fe087')\"\n",
              "                title=\"Suggest charts\"\n",
              "                style=\"display:none;\">\n",
              "\n",
              "<svg xmlns=\"http://www.w3.org/2000/svg\" height=\"24px\"viewBox=\"0 0 24 24\"\n",
              "     width=\"24px\">\n",
              "    <g>\n",
              "        <path d=\"M19 3H5c-1.1 0-2 .9-2 2v14c0 1.1.9 2 2 2h14c1.1 0 2-.9 2-2V5c0-1.1-.9-2-2-2zM9 17H7v-7h2v7zm4 0h-2V7h2v10zm4 0h-2v-4h2v4z\"/>\n",
              "    </g>\n",
              "</svg>\n",
              "      </button>\n",
              "\n",
              "<style>\n",
              "  .colab-df-quickchart {\n",
              "      --bg-color: #E8F0FE;\n",
              "      --fill-color: #1967D2;\n",
              "      --hover-bg-color: #E2EBFA;\n",
              "      --hover-fill-color: #174EA6;\n",
              "      --disabled-fill-color: #AAA;\n",
              "      --disabled-bg-color: #DDD;\n",
              "  }\n",
              "\n",
              "  [theme=dark] .colab-df-quickchart {\n",
              "      --bg-color: #3B4455;\n",
              "      --fill-color: #D2E3FC;\n",
              "      --hover-bg-color: #434B5C;\n",
              "      --hover-fill-color: #FFFFFF;\n",
              "      --disabled-bg-color: #3B4455;\n",
              "      --disabled-fill-color: #666;\n",
              "  }\n",
              "\n",
              "  .colab-df-quickchart {\n",
              "    background-color: var(--bg-color);\n",
              "    border: none;\n",
              "    border-radius: 50%;\n",
              "    cursor: pointer;\n",
              "    display: none;\n",
              "    fill: var(--fill-color);\n",
              "    height: 32px;\n",
              "    padding: 0;\n",
              "    width: 32px;\n",
              "  }\n",
              "\n",
              "  .colab-df-quickchart:hover {\n",
              "    background-color: var(--hover-bg-color);\n",
              "    box-shadow: 0 1px 2px rgba(60, 64, 67, 0.3), 0 1px 3px 1px rgba(60, 64, 67, 0.15);\n",
              "    fill: var(--button-hover-fill-color);\n",
              "  }\n",
              "\n",
              "  .colab-df-quickchart-complete:disabled,\n",
              "  .colab-df-quickchart-complete:disabled:hover {\n",
              "    background-color: var(--disabled-bg-color);\n",
              "    fill: var(--disabled-fill-color);\n",
              "    box-shadow: none;\n",
              "  }\n",
              "\n",
              "  .colab-df-spinner {\n",
              "    border: 2px solid var(--fill-color);\n",
              "    border-color: transparent;\n",
              "    border-bottom-color: var(--fill-color);\n",
              "    animation:\n",
              "      spin 1s steps(1) infinite;\n",
              "  }\n",
              "\n",
              "  @keyframes spin {\n",
              "    0% {\n",
              "      border-color: transparent;\n",
              "      border-bottom-color: var(--fill-color);\n",
              "      border-left-color: var(--fill-color);\n",
              "    }\n",
              "    20% {\n",
              "      border-color: transparent;\n",
              "      border-left-color: var(--fill-color);\n",
              "      border-top-color: var(--fill-color);\n",
              "    }\n",
              "    30% {\n",
              "      border-color: transparent;\n",
              "      border-left-color: var(--fill-color);\n",
              "      border-top-color: var(--fill-color);\n",
              "      border-right-color: var(--fill-color);\n",
              "    }\n",
              "    40% {\n",
              "      border-color: transparent;\n",
              "      border-right-color: var(--fill-color);\n",
              "      border-top-color: var(--fill-color);\n",
              "    }\n",
              "    60% {\n",
              "      border-color: transparent;\n",
              "      border-right-color: var(--fill-color);\n",
              "    }\n",
              "    80% {\n",
              "      border-color: transparent;\n",
              "      border-right-color: var(--fill-color);\n",
              "      border-bottom-color: var(--fill-color);\n",
              "    }\n",
              "    90% {\n",
              "      border-color: transparent;\n",
              "      border-bottom-color: var(--fill-color);\n",
              "    }\n",
              "  }\n",
              "</style>\n",
              "\n",
              "      <script>\n",
              "        async function quickchart(key) {\n",
              "          const quickchartButtonEl =\n",
              "            document.querySelector('#' + key + ' button');\n",
              "          quickchartButtonEl.disabled = true;  // To prevent multiple clicks.\n",
              "          quickchartButtonEl.classList.add('colab-df-spinner');\n",
              "          try {\n",
              "            const charts = await google.colab.kernel.invokeFunction(\n",
              "                'suggestCharts', [key], {});\n",
              "          } catch (error) {\n",
              "            console.error('Error during call to suggestCharts:', error);\n",
              "          }\n",
              "          quickchartButtonEl.classList.remove('colab-df-spinner');\n",
              "          quickchartButtonEl.classList.add('colab-df-quickchart-complete');\n",
              "        }\n",
              "        (() => {\n",
              "          let quickchartButtonEl =\n",
              "            document.querySelector('#df-aca09797-7e8e-437b-a21a-7a08925fe087 button');\n",
              "          quickchartButtonEl.style.display =\n",
              "            google.colab.kernel.accessAllowed ? 'block' : 'none';\n",
              "        })();\n",
              "      </script>\n",
              "    </div>\n",
              "\n",
              "    </div>\n",
              "  </div>\n"
            ],
            "application/vnd.google.colaboratory.intrinsic+json": {
              "type": "dataframe",
              "summary": "{\n  \"name\": \"basketball[['Player', 'FG%']]\",\n  \"rows\": 3,\n  \"fields\": [\n    {\n      \"column\": \"Player\",\n      \"properties\": {\n        \"dtype\": \"string\",\n        \"num_unique_values\": 3,\n        \"samples\": [\n          \"Precious Achiuwa\",\n          \"Nickeil Alexander-Walker\",\n          \"Isaiah Hartenstein\"\n        ],\n        \"semantic_type\": \"\",\n        \"description\": \"\"\n      }\n    },\n    {\n      \"column\": \"FG%\",\n      \"properties\": {\n        \"dtype\": \"number\",\n        \"std\": 0.10513324878457814,\n        \"min\": 0.439,\n        \"max\": 0.644,\n        \"num_unique_values\": 3,\n        \"samples\": [\n          0.501,\n          0.439,\n          0.644\n        ],\n        \"semantic_type\": \"\",\n        \"description\": \"\"\n      }\n    }\n  ]\n}"
            }
          },
          "metadata": {},
          "execution_count": 277
        }
      ]
    },
    {
      "cell_type": "markdown",
      "source": [
        "**Task9**:\n",
        "\n",
        "Find the names of the Players, feild goal attempts (FGA) and total points (PTS) of the players in the 87th and  94th row."
      ],
      "metadata": {
        "id": "tmUPcmYoSifQ"
      }
    },
    {
      "cell_type": "code",
      "source": [
        "#ANSWER9\n",
        "basketball[['Player','FGA','PTS']].loc[[87,94]]\n"
      ],
      "metadata": {
        "id": "-J9tKk5mTFzz",
        "colab": {
          "base_uri": "https://localhost:8080/",
          "height": 112
        },
        "outputId": "fb9c52fc-0fd9-4858-cc31-6e43400eef7e"
      },
      "execution_count": null,
      "outputs": [
        {
          "output_type": "execute_result",
          "data": {
            "text/plain": [
              "                Player  FGA  PTS\n",
              "87  Wendell Carter Jr.  425  603\n",
              "94        Max Christie  241  284"
            ],
            "text/html": [
              "\n",
              "  <div id=\"df-4e8ef4a1-8440-4a3f-9e2c-cde56110a2f7\" class=\"colab-df-container\">\n",
              "    <div>\n",
              "<style scoped>\n",
              "    .dataframe tbody tr th:only-of-type {\n",
              "        vertical-align: middle;\n",
              "    }\n",
              "\n",
              "    .dataframe tbody tr th {\n",
              "        vertical-align: top;\n",
              "    }\n",
              "\n",
              "    .dataframe thead th {\n",
              "        text-align: right;\n",
              "    }\n",
              "</style>\n",
              "<table border=\"1\" class=\"dataframe\">\n",
              "  <thead>\n",
              "    <tr style=\"text-align: right;\">\n",
              "      <th></th>\n",
              "      <th>Player</th>\n",
              "      <th>FGA</th>\n",
              "      <th>PTS</th>\n",
              "    </tr>\n",
              "  </thead>\n",
              "  <tbody>\n",
              "    <tr>\n",
              "      <th>87</th>\n",
              "      <td>Wendell Carter Jr.</td>\n",
              "      <td>425</td>\n",
              "      <td>603</td>\n",
              "    </tr>\n",
              "    <tr>\n",
              "      <th>94</th>\n",
              "      <td>Max Christie</td>\n",
              "      <td>241</td>\n",
              "      <td>284</td>\n",
              "    </tr>\n",
              "  </tbody>\n",
              "</table>\n",
              "</div>\n",
              "    <div class=\"colab-df-buttons\">\n",
              "\n",
              "  <div class=\"colab-df-container\">\n",
              "    <button class=\"colab-df-convert\" onclick=\"convertToInteractive('df-4e8ef4a1-8440-4a3f-9e2c-cde56110a2f7')\"\n",
              "            title=\"Convert this dataframe to an interactive table.\"\n",
              "            style=\"display:none;\">\n",
              "\n",
              "  <svg xmlns=\"http://www.w3.org/2000/svg\" height=\"24px\" viewBox=\"0 -960 960 960\">\n",
              "    <path d=\"M120-120v-720h720v720H120Zm60-500h600v-160H180v160Zm220 220h160v-160H400v160Zm0 220h160v-160H400v160ZM180-400h160v-160H180v160Zm440 0h160v-160H620v160ZM180-180h160v-160H180v160Zm440 0h160v-160H620v160Z\"/>\n",
              "  </svg>\n",
              "    </button>\n",
              "\n",
              "  <style>\n",
              "    .colab-df-container {\n",
              "      display:flex;\n",
              "      gap: 12px;\n",
              "    }\n",
              "\n",
              "    .colab-df-convert {\n",
              "      background-color: #E8F0FE;\n",
              "      border: none;\n",
              "      border-radius: 50%;\n",
              "      cursor: pointer;\n",
              "      display: none;\n",
              "      fill: #1967D2;\n",
              "      height: 32px;\n",
              "      padding: 0 0 0 0;\n",
              "      width: 32px;\n",
              "    }\n",
              "\n",
              "    .colab-df-convert:hover {\n",
              "      background-color: #E2EBFA;\n",
              "      box-shadow: 0px 1px 2px rgba(60, 64, 67, 0.3), 0px 1px 3px 1px rgba(60, 64, 67, 0.15);\n",
              "      fill: #174EA6;\n",
              "    }\n",
              "\n",
              "    .colab-df-buttons div {\n",
              "      margin-bottom: 4px;\n",
              "    }\n",
              "\n",
              "    [theme=dark] .colab-df-convert {\n",
              "      background-color: #3B4455;\n",
              "      fill: #D2E3FC;\n",
              "    }\n",
              "\n",
              "    [theme=dark] .colab-df-convert:hover {\n",
              "      background-color: #434B5C;\n",
              "      box-shadow: 0px 1px 3px 1px rgba(0, 0, 0, 0.15);\n",
              "      filter: drop-shadow(0px 1px 2px rgba(0, 0, 0, 0.3));\n",
              "      fill: #FFFFFF;\n",
              "    }\n",
              "  </style>\n",
              "\n",
              "    <script>\n",
              "      const buttonEl =\n",
              "        document.querySelector('#df-4e8ef4a1-8440-4a3f-9e2c-cde56110a2f7 button.colab-df-convert');\n",
              "      buttonEl.style.display =\n",
              "        google.colab.kernel.accessAllowed ? 'block' : 'none';\n",
              "\n",
              "      async function convertToInteractive(key) {\n",
              "        const element = document.querySelector('#df-4e8ef4a1-8440-4a3f-9e2c-cde56110a2f7');\n",
              "        const dataTable =\n",
              "          await google.colab.kernel.invokeFunction('convertToInteractive',\n",
              "                                                    [key], {});\n",
              "        if (!dataTable) return;\n",
              "\n",
              "        const docLinkHtml = 'Like what you see? Visit the ' +\n",
              "          '<a target=\"_blank\" href=https://colab.research.google.com/notebooks/data_table.ipynb>data table notebook</a>'\n",
              "          + ' to learn more about interactive tables.';\n",
              "        element.innerHTML = '';\n",
              "        dataTable['output_type'] = 'display_data';\n",
              "        await google.colab.output.renderOutput(dataTable, element);\n",
              "        const docLink = document.createElement('div');\n",
              "        docLink.innerHTML = docLinkHtml;\n",
              "        element.appendChild(docLink);\n",
              "      }\n",
              "    </script>\n",
              "  </div>\n",
              "\n",
              "\n",
              "    <div id=\"df-5a5522bf-8cd4-4355-800e-32352a426262\">\n",
              "      <button class=\"colab-df-quickchart\" onclick=\"quickchart('df-5a5522bf-8cd4-4355-800e-32352a426262')\"\n",
              "                title=\"Suggest charts\"\n",
              "                style=\"display:none;\">\n",
              "\n",
              "<svg xmlns=\"http://www.w3.org/2000/svg\" height=\"24px\"viewBox=\"0 0 24 24\"\n",
              "     width=\"24px\">\n",
              "    <g>\n",
              "        <path d=\"M19 3H5c-1.1 0-2 .9-2 2v14c0 1.1.9 2 2 2h14c1.1 0 2-.9 2-2V5c0-1.1-.9-2-2-2zM9 17H7v-7h2v7zm4 0h-2V7h2v10zm4 0h-2v-4h2v4z\"/>\n",
              "    </g>\n",
              "</svg>\n",
              "      </button>\n",
              "\n",
              "<style>\n",
              "  .colab-df-quickchart {\n",
              "      --bg-color: #E8F0FE;\n",
              "      --fill-color: #1967D2;\n",
              "      --hover-bg-color: #E2EBFA;\n",
              "      --hover-fill-color: #174EA6;\n",
              "      --disabled-fill-color: #AAA;\n",
              "      --disabled-bg-color: #DDD;\n",
              "  }\n",
              "\n",
              "  [theme=dark] .colab-df-quickchart {\n",
              "      --bg-color: #3B4455;\n",
              "      --fill-color: #D2E3FC;\n",
              "      --hover-bg-color: #434B5C;\n",
              "      --hover-fill-color: #FFFFFF;\n",
              "      --disabled-bg-color: #3B4455;\n",
              "      --disabled-fill-color: #666;\n",
              "  }\n",
              "\n",
              "  .colab-df-quickchart {\n",
              "    background-color: var(--bg-color);\n",
              "    border: none;\n",
              "    border-radius: 50%;\n",
              "    cursor: pointer;\n",
              "    display: none;\n",
              "    fill: var(--fill-color);\n",
              "    height: 32px;\n",
              "    padding: 0;\n",
              "    width: 32px;\n",
              "  }\n",
              "\n",
              "  .colab-df-quickchart:hover {\n",
              "    background-color: var(--hover-bg-color);\n",
              "    box-shadow: 0 1px 2px rgba(60, 64, 67, 0.3), 0 1px 3px 1px rgba(60, 64, 67, 0.15);\n",
              "    fill: var(--button-hover-fill-color);\n",
              "  }\n",
              "\n",
              "  .colab-df-quickchart-complete:disabled,\n",
              "  .colab-df-quickchart-complete:disabled:hover {\n",
              "    background-color: var(--disabled-bg-color);\n",
              "    fill: var(--disabled-fill-color);\n",
              "    box-shadow: none;\n",
              "  }\n",
              "\n",
              "  .colab-df-spinner {\n",
              "    border: 2px solid var(--fill-color);\n",
              "    border-color: transparent;\n",
              "    border-bottom-color: var(--fill-color);\n",
              "    animation:\n",
              "      spin 1s steps(1) infinite;\n",
              "  }\n",
              "\n",
              "  @keyframes spin {\n",
              "    0% {\n",
              "      border-color: transparent;\n",
              "      border-bottom-color: var(--fill-color);\n",
              "      border-left-color: var(--fill-color);\n",
              "    }\n",
              "    20% {\n",
              "      border-color: transparent;\n",
              "      border-left-color: var(--fill-color);\n",
              "      border-top-color: var(--fill-color);\n",
              "    }\n",
              "    30% {\n",
              "      border-color: transparent;\n",
              "      border-left-color: var(--fill-color);\n",
              "      border-top-color: var(--fill-color);\n",
              "      border-right-color: var(--fill-color);\n",
              "    }\n",
              "    40% {\n",
              "      border-color: transparent;\n",
              "      border-right-color: var(--fill-color);\n",
              "      border-top-color: var(--fill-color);\n",
              "    }\n",
              "    60% {\n",
              "      border-color: transparent;\n",
              "      border-right-color: var(--fill-color);\n",
              "    }\n",
              "    80% {\n",
              "      border-color: transparent;\n",
              "      border-right-color: var(--fill-color);\n",
              "      border-bottom-color: var(--fill-color);\n",
              "    }\n",
              "    90% {\n",
              "      border-color: transparent;\n",
              "      border-bottom-color: var(--fill-color);\n",
              "    }\n",
              "  }\n",
              "</style>\n",
              "\n",
              "      <script>\n",
              "        async function quickchart(key) {\n",
              "          const quickchartButtonEl =\n",
              "            document.querySelector('#' + key + ' button');\n",
              "          quickchartButtonEl.disabled = true;  // To prevent multiple clicks.\n",
              "          quickchartButtonEl.classList.add('colab-df-spinner');\n",
              "          try {\n",
              "            const charts = await google.colab.kernel.invokeFunction(\n",
              "                'suggestCharts', [key], {});\n",
              "          } catch (error) {\n",
              "            console.error('Error during call to suggestCharts:', error);\n",
              "          }\n",
              "          quickchartButtonEl.classList.remove('colab-df-spinner');\n",
              "          quickchartButtonEl.classList.add('colab-df-quickchart-complete');\n",
              "        }\n",
              "        (() => {\n",
              "          let quickchartButtonEl =\n",
              "            document.querySelector('#df-5a5522bf-8cd4-4355-800e-32352a426262 button');\n",
              "          quickchartButtonEl.style.display =\n",
              "            google.colab.kernel.accessAllowed ? 'block' : 'none';\n",
              "        })();\n",
              "      </script>\n",
              "    </div>\n",
              "\n",
              "    </div>\n",
              "  </div>\n"
            ],
            "application/vnd.google.colaboratory.intrinsic+json": {
              "type": "dataframe",
              "summary": "{\n  \"name\": \"basketball[['Player','FGA','PTS']]\",\n  \"rows\": 2,\n  \"fields\": [\n    {\n      \"column\": \"Player\",\n      \"properties\": {\n        \"dtype\": \"string\",\n        \"num_unique_values\": 2,\n        \"samples\": [\n          \"Max Christie\",\n          \"Wendell Carter Jr.\"\n        ],\n        \"semantic_type\": \"\",\n        \"description\": \"\"\n      }\n    },\n    {\n      \"column\": \"FGA\",\n      \"properties\": {\n        \"dtype\": \"number\",\n        \"std\": 130,\n        \"min\": 241,\n        \"max\": 425,\n        \"num_unique_values\": 2,\n        \"samples\": [\n          241,\n          425\n        ],\n        \"semantic_type\": \"\",\n        \"description\": \"\"\n      }\n    },\n    {\n      \"column\": \"PTS\",\n      \"properties\": {\n        \"dtype\": \"number\",\n        \"std\": 225,\n        \"min\": 284,\n        \"max\": 603,\n        \"num_unique_values\": 2,\n        \"samples\": [\n          284,\n          603\n        ],\n        \"semantic_type\": \"\",\n        \"description\": \"\"\n      }\n    }\n  ]\n}"
            }
          },
          "metadata": {},
          "execution_count": 278
        }
      ]
    },
    {
      "cell_type": "markdown",
      "source": [
        "### Query and Bools\n",
        "\n",
        "Because I provide clean, moderate to small sized data sets in this course, most of our data wrangling problems can be solved with query.\n",
        "\n",
        "Query makes use of a built in data type we haven't mentioned yet, called a bool."
      ],
      "metadata": {
        "id": "s8178kjoBtyU"
      }
    },
    {
      "cell_type": "markdown",
      "source": [
        "I'll give you an example of query, and then I'll define bools."
      ],
      "metadata": {
        "id": "-xwLw819HN_g"
      }
    },
    {
      "cell_type": "code",
      "source": [
        "#finds all players with more offensive rebounds than defensive rebounds\n",
        "#and who have also played more than 100 minutes\n",
        "hustle_players = basketball.query('ORB >= DRB and MP >= 100')\n",
        "hustle_players"
      ],
      "metadata": {
        "id": "NixyQgeYCPXf",
        "colab": {
          "base_uri": "https://localhost:8080/",
          "height": 361
        },
        "outputId": "00b7d062-f73e-44c2-85a3-d8d404d26458"
      },
      "execution_count": null,
      "outputs": [
        {
          "output_type": "execute_result",
          "data": {
            "text/plain": [
              "                     Player Pos  Age   Tm   G  GS   MP   FG  FGA    FG%  ...  \\\n",
              "11   Thanasis Antetokounmpo  PF   31  MIL  34   0  155   16   30  0.533  ...   \n",
              "164              Luka Garza   C   25  MIN  25   0  122   36   75  0.480  ...   \n",
              "191        Mouhamadou Gueye  PF   25  TOR  11   0  120   11   38  0.289  ...   \n",
              "234            Matthew Hurt  PF   23  MEM   8   0  113   12   34  0.353  ...   \n",
              "286            Jock Landale   C   28  HOU  56   3  763  106  206  0.515  ...   \n",
              "295           Maxwell Lewis  SF   21  LAL  34   0  103    4   21  0.190  ...   \n",
              "346           Justin Minaya  SF   24  POR  34   1  381   22   74  0.297  ...   \n",
              "433       Mitchell Robinson   C   25  NYK  31  21  768   73  127  0.575  ...   \n",
              "551      Jeenathan Williams  SG   24  HOU  22   0  129   27   50  0.540  ...   \n",
              "\n",
              "     ORB  DRB  TRB  AST  STL  BLK  TOV  PF  PTS  Player-additional  \n",
              "11     7    6   13   17    7    4   14  24   32          antetth01  \n",
              "164   19   12   31    4    4    1    6  24   99          garzalu01  \n",
              "191   12   11   23    5    3   18   12  15   26          gueyemo01  \n",
              "234    9    7   16    4    3    3    2   8   32           hurtma01  \n",
              "286   88   84  172   65   20   33   31  74  274          landajo01  \n",
              "295    2    2    4    6    2    1   10   5   11          lewisma05  \n",
              "346   30   26   56   21    9   10    9  35   61          minayju01  \n",
              "433  142  121  263   18   37   35   25  55  173          robinmi01  \n",
              "551   12   11   23    7    4    1    4  10   63          willije02  \n",
              "\n",
              "[9 rows x 30 columns]"
            ],
            "text/html": [
              "\n",
              "  <div id=\"df-efb0b8e4-80cc-41cd-bfad-9081489db598\" class=\"colab-df-container\">\n",
              "    <div>\n",
              "<style scoped>\n",
              "    .dataframe tbody tr th:only-of-type {\n",
              "        vertical-align: middle;\n",
              "    }\n",
              "\n",
              "    .dataframe tbody tr th {\n",
              "        vertical-align: top;\n",
              "    }\n",
              "\n",
              "    .dataframe thead th {\n",
              "        text-align: right;\n",
              "    }\n",
              "</style>\n",
              "<table border=\"1\" class=\"dataframe\">\n",
              "  <thead>\n",
              "    <tr style=\"text-align: right;\">\n",
              "      <th></th>\n",
              "      <th>Player</th>\n",
              "      <th>Pos</th>\n",
              "      <th>Age</th>\n",
              "      <th>Tm</th>\n",
              "      <th>G</th>\n",
              "      <th>GS</th>\n",
              "      <th>MP</th>\n",
              "      <th>FG</th>\n",
              "      <th>FGA</th>\n",
              "      <th>FG%</th>\n",
              "      <th>...</th>\n",
              "      <th>ORB</th>\n",
              "      <th>DRB</th>\n",
              "      <th>TRB</th>\n",
              "      <th>AST</th>\n",
              "      <th>STL</th>\n",
              "      <th>BLK</th>\n",
              "      <th>TOV</th>\n",
              "      <th>PF</th>\n",
              "      <th>PTS</th>\n",
              "      <th>Player-additional</th>\n",
              "    </tr>\n",
              "  </thead>\n",
              "  <tbody>\n",
              "    <tr>\n",
              "      <th>11</th>\n",
              "      <td>Thanasis Antetokounmpo</td>\n",
              "      <td>PF</td>\n",
              "      <td>31</td>\n",
              "      <td>MIL</td>\n",
              "      <td>34</td>\n",
              "      <td>0</td>\n",
              "      <td>155</td>\n",
              "      <td>16</td>\n",
              "      <td>30</td>\n",
              "      <td>0.533</td>\n",
              "      <td>...</td>\n",
              "      <td>7</td>\n",
              "      <td>6</td>\n",
              "      <td>13</td>\n",
              "      <td>17</td>\n",
              "      <td>7</td>\n",
              "      <td>4</td>\n",
              "      <td>14</td>\n",
              "      <td>24</td>\n",
              "      <td>32</td>\n",
              "      <td>antetth01</td>\n",
              "    </tr>\n",
              "    <tr>\n",
              "      <th>164</th>\n",
              "      <td>Luka Garza</td>\n",
              "      <td>C</td>\n",
              "      <td>25</td>\n",
              "      <td>MIN</td>\n",
              "      <td>25</td>\n",
              "      <td>0</td>\n",
              "      <td>122</td>\n",
              "      <td>36</td>\n",
              "      <td>75</td>\n",
              "      <td>0.480</td>\n",
              "      <td>...</td>\n",
              "      <td>19</td>\n",
              "      <td>12</td>\n",
              "      <td>31</td>\n",
              "      <td>4</td>\n",
              "      <td>4</td>\n",
              "      <td>1</td>\n",
              "      <td>6</td>\n",
              "      <td>24</td>\n",
              "      <td>99</td>\n",
              "      <td>garzalu01</td>\n",
              "    </tr>\n",
              "    <tr>\n",
              "      <th>191</th>\n",
              "      <td>Mouhamadou Gueye</td>\n",
              "      <td>PF</td>\n",
              "      <td>25</td>\n",
              "      <td>TOR</td>\n",
              "      <td>11</td>\n",
              "      <td>0</td>\n",
              "      <td>120</td>\n",
              "      <td>11</td>\n",
              "      <td>38</td>\n",
              "      <td>0.289</td>\n",
              "      <td>...</td>\n",
              "      <td>12</td>\n",
              "      <td>11</td>\n",
              "      <td>23</td>\n",
              "      <td>5</td>\n",
              "      <td>3</td>\n",
              "      <td>18</td>\n",
              "      <td>12</td>\n",
              "      <td>15</td>\n",
              "      <td>26</td>\n",
              "      <td>gueyemo01</td>\n",
              "    </tr>\n",
              "    <tr>\n",
              "      <th>234</th>\n",
              "      <td>Matthew Hurt</td>\n",
              "      <td>PF</td>\n",
              "      <td>23</td>\n",
              "      <td>MEM</td>\n",
              "      <td>8</td>\n",
              "      <td>0</td>\n",
              "      <td>113</td>\n",
              "      <td>12</td>\n",
              "      <td>34</td>\n",
              "      <td>0.353</td>\n",
              "      <td>...</td>\n",
              "      <td>9</td>\n",
              "      <td>7</td>\n",
              "      <td>16</td>\n",
              "      <td>4</td>\n",
              "      <td>3</td>\n",
              "      <td>3</td>\n",
              "      <td>2</td>\n",
              "      <td>8</td>\n",
              "      <td>32</td>\n",
              "      <td>hurtma01</td>\n",
              "    </tr>\n",
              "    <tr>\n",
              "      <th>286</th>\n",
              "      <td>Jock Landale</td>\n",
              "      <td>C</td>\n",
              "      <td>28</td>\n",
              "      <td>HOU</td>\n",
              "      <td>56</td>\n",
              "      <td>3</td>\n",
              "      <td>763</td>\n",
              "      <td>106</td>\n",
              "      <td>206</td>\n",
              "      <td>0.515</td>\n",
              "      <td>...</td>\n",
              "      <td>88</td>\n",
              "      <td>84</td>\n",
              "      <td>172</td>\n",
              "      <td>65</td>\n",
              "      <td>20</td>\n",
              "      <td>33</td>\n",
              "      <td>31</td>\n",
              "      <td>74</td>\n",
              "      <td>274</td>\n",
              "      <td>landajo01</td>\n",
              "    </tr>\n",
              "    <tr>\n",
              "      <th>295</th>\n",
              "      <td>Maxwell Lewis</td>\n",
              "      <td>SF</td>\n",
              "      <td>21</td>\n",
              "      <td>LAL</td>\n",
              "      <td>34</td>\n",
              "      <td>0</td>\n",
              "      <td>103</td>\n",
              "      <td>4</td>\n",
              "      <td>21</td>\n",
              "      <td>0.190</td>\n",
              "      <td>...</td>\n",
              "      <td>2</td>\n",
              "      <td>2</td>\n",
              "      <td>4</td>\n",
              "      <td>6</td>\n",
              "      <td>2</td>\n",
              "      <td>1</td>\n",
              "      <td>10</td>\n",
              "      <td>5</td>\n",
              "      <td>11</td>\n",
              "      <td>lewisma05</td>\n",
              "    </tr>\n",
              "    <tr>\n",
              "      <th>346</th>\n",
              "      <td>Justin Minaya</td>\n",
              "      <td>SF</td>\n",
              "      <td>24</td>\n",
              "      <td>POR</td>\n",
              "      <td>34</td>\n",
              "      <td>1</td>\n",
              "      <td>381</td>\n",
              "      <td>22</td>\n",
              "      <td>74</td>\n",
              "      <td>0.297</td>\n",
              "      <td>...</td>\n",
              "      <td>30</td>\n",
              "      <td>26</td>\n",
              "      <td>56</td>\n",
              "      <td>21</td>\n",
              "      <td>9</td>\n",
              "      <td>10</td>\n",
              "      <td>9</td>\n",
              "      <td>35</td>\n",
              "      <td>61</td>\n",
              "      <td>minayju01</td>\n",
              "    </tr>\n",
              "    <tr>\n",
              "      <th>433</th>\n",
              "      <td>Mitchell Robinson</td>\n",
              "      <td>C</td>\n",
              "      <td>25</td>\n",
              "      <td>NYK</td>\n",
              "      <td>31</td>\n",
              "      <td>21</td>\n",
              "      <td>768</td>\n",
              "      <td>73</td>\n",
              "      <td>127</td>\n",
              "      <td>0.575</td>\n",
              "      <td>...</td>\n",
              "      <td>142</td>\n",
              "      <td>121</td>\n",
              "      <td>263</td>\n",
              "      <td>18</td>\n",
              "      <td>37</td>\n",
              "      <td>35</td>\n",
              "      <td>25</td>\n",
              "      <td>55</td>\n",
              "      <td>173</td>\n",
              "      <td>robinmi01</td>\n",
              "    </tr>\n",
              "    <tr>\n",
              "      <th>551</th>\n",
              "      <td>Jeenathan Williams</td>\n",
              "      <td>SG</td>\n",
              "      <td>24</td>\n",
              "      <td>HOU</td>\n",
              "      <td>22</td>\n",
              "      <td>0</td>\n",
              "      <td>129</td>\n",
              "      <td>27</td>\n",
              "      <td>50</td>\n",
              "      <td>0.540</td>\n",
              "      <td>...</td>\n",
              "      <td>12</td>\n",
              "      <td>11</td>\n",
              "      <td>23</td>\n",
              "      <td>7</td>\n",
              "      <td>4</td>\n",
              "      <td>1</td>\n",
              "      <td>4</td>\n",
              "      <td>10</td>\n",
              "      <td>63</td>\n",
              "      <td>willije02</td>\n",
              "    </tr>\n",
              "  </tbody>\n",
              "</table>\n",
              "<p>9 rows × 30 columns</p>\n",
              "</div>\n",
              "    <div class=\"colab-df-buttons\">\n",
              "\n",
              "  <div class=\"colab-df-container\">\n",
              "    <button class=\"colab-df-convert\" onclick=\"convertToInteractive('df-efb0b8e4-80cc-41cd-bfad-9081489db598')\"\n",
              "            title=\"Convert this dataframe to an interactive table.\"\n",
              "            style=\"display:none;\">\n",
              "\n",
              "  <svg xmlns=\"http://www.w3.org/2000/svg\" height=\"24px\" viewBox=\"0 -960 960 960\">\n",
              "    <path d=\"M120-120v-720h720v720H120Zm60-500h600v-160H180v160Zm220 220h160v-160H400v160Zm0 220h160v-160H400v160ZM180-400h160v-160H180v160Zm440 0h160v-160H620v160ZM180-180h160v-160H180v160Zm440 0h160v-160H620v160Z\"/>\n",
              "  </svg>\n",
              "    </button>\n",
              "\n",
              "  <style>\n",
              "    .colab-df-container {\n",
              "      display:flex;\n",
              "      gap: 12px;\n",
              "    }\n",
              "\n",
              "    .colab-df-convert {\n",
              "      background-color: #E8F0FE;\n",
              "      border: none;\n",
              "      border-radius: 50%;\n",
              "      cursor: pointer;\n",
              "      display: none;\n",
              "      fill: #1967D2;\n",
              "      height: 32px;\n",
              "      padding: 0 0 0 0;\n",
              "      width: 32px;\n",
              "    }\n",
              "\n",
              "    .colab-df-convert:hover {\n",
              "      background-color: #E2EBFA;\n",
              "      box-shadow: 0px 1px 2px rgba(60, 64, 67, 0.3), 0px 1px 3px 1px rgba(60, 64, 67, 0.15);\n",
              "      fill: #174EA6;\n",
              "    }\n",
              "\n",
              "    .colab-df-buttons div {\n",
              "      margin-bottom: 4px;\n",
              "    }\n",
              "\n",
              "    [theme=dark] .colab-df-convert {\n",
              "      background-color: #3B4455;\n",
              "      fill: #D2E3FC;\n",
              "    }\n",
              "\n",
              "    [theme=dark] .colab-df-convert:hover {\n",
              "      background-color: #434B5C;\n",
              "      box-shadow: 0px 1px 3px 1px rgba(0, 0, 0, 0.15);\n",
              "      filter: drop-shadow(0px 1px 2px rgba(0, 0, 0, 0.3));\n",
              "      fill: #FFFFFF;\n",
              "    }\n",
              "  </style>\n",
              "\n",
              "    <script>\n",
              "      const buttonEl =\n",
              "        document.querySelector('#df-efb0b8e4-80cc-41cd-bfad-9081489db598 button.colab-df-convert');\n",
              "      buttonEl.style.display =\n",
              "        google.colab.kernel.accessAllowed ? 'block' : 'none';\n",
              "\n",
              "      async function convertToInteractive(key) {\n",
              "        const element = document.querySelector('#df-efb0b8e4-80cc-41cd-bfad-9081489db598');\n",
              "        const dataTable =\n",
              "          await google.colab.kernel.invokeFunction('convertToInteractive',\n",
              "                                                    [key], {});\n",
              "        if (!dataTable) return;\n",
              "\n",
              "        const docLinkHtml = 'Like what you see? Visit the ' +\n",
              "          '<a target=\"_blank\" href=https://colab.research.google.com/notebooks/data_table.ipynb>data table notebook</a>'\n",
              "          + ' to learn more about interactive tables.';\n",
              "        element.innerHTML = '';\n",
              "        dataTable['output_type'] = 'display_data';\n",
              "        await google.colab.output.renderOutput(dataTable, element);\n",
              "        const docLink = document.createElement('div');\n",
              "        docLink.innerHTML = docLinkHtml;\n",
              "        element.appendChild(docLink);\n",
              "      }\n",
              "    </script>\n",
              "  </div>\n",
              "\n",
              "\n",
              "    <div id=\"df-f912cb71-96e6-4c02-a559-768d946ea2df\">\n",
              "      <button class=\"colab-df-quickchart\" onclick=\"quickchart('df-f912cb71-96e6-4c02-a559-768d946ea2df')\"\n",
              "                title=\"Suggest charts\"\n",
              "                style=\"display:none;\">\n",
              "\n",
              "<svg xmlns=\"http://www.w3.org/2000/svg\" height=\"24px\"viewBox=\"0 0 24 24\"\n",
              "     width=\"24px\">\n",
              "    <g>\n",
              "        <path d=\"M19 3H5c-1.1 0-2 .9-2 2v14c0 1.1.9 2 2 2h14c1.1 0 2-.9 2-2V5c0-1.1-.9-2-2-2zM9 17H7v-7h2v7zm4 0h-2V7h2v10zm4 0h-2v-4h2v4z\"/>\n",
              "    </g>\n",
              "</svg>\n",
              "      </button>\n",
              "\n",
              "<style>\n",
              "  .colab-df-quickchart {\n",
              "      --bg-color: #E8F0FE;\n",
              "      --fill-color: #1967D2;\n",
              "      --hover-bg-color: #E2EBFA;\n",
              "      --hover-fill-color: #174EA6;\n",
              "      --disabled-fill-color: #AAA;\n",
              "      --disabled-bg-color: #DDD;\n",
              "  }\n",
              "\n",
              "  [theme=dark] .colab-df-quickchart {\n",
              "      --bg-color: #3B4455;\n",
              "      --fill-color: #D2E3FC;\n",
              "      --hover-bg-color: #434B5C;\n",
              "      --hover-fill-color: #FFFFFF;\n",
              "      --disabled-bg-color: #3B4455;\n",
              "      --disabled-fill-color: #666;\n",
              "  }\n",
              "\n",
              "  .colab-df-quickchart {\n",
              "    background-color: var(--bg-color);\n",
              "    border: none;\n",
              "    border-radius: 50%;\n",
              "    cursor: pointer;\n",
              "    display: none;\n",
              "    fill: var(--fill-color);\n",
              "    height: 32px;\n",
              "    padding: 0;\n",
              "    width: 32px;\n",
              "  }\n",
              "\n",
              "  .colab-df-quickchart:hover {\n",
              "    background-color: var(--hover-bg-color);\n",
              "    box-shadow: 0 1px 2px rgba(60, 64, 67, 0.3), 0 1px 3px 1px rgba(60, 64, 67, 0.15);\n",
              "    fill: var(--button-hover-fill-color);\n",
              "  }\n",
              "\n",
              "  .colab-df-quickchart-complete:disabled,\n",
              "  .colab-df-quickchart-complete:disabled:hover {\n",
              "    background-color: var(--disabled-bg-color);\n",
              "    fill: var(--disabled-fill-color);\n",
              "    box-shadow: none;\n",
              "  }\n",
              "\n",
              "  .colab-df-spinner {\n",
              "    border: 2px solid var(--fill-color);\n",
              "    border-color: transparent;\n",
              "    border-bottom-color: var(--fill-color);\n",
              "    animation:\n",
              "      spin 1s steps(1) infinite;\n",
              "  }\n",
              "\n",
              "  @keyframes spin {\n",
              "    0% {\n",
              "      border-color: transparent;\n",
              "      border-bottom-color: var(--fill-color);\n",
              "      border-left-color: var(--fill-color);\n",
              "    }\n",
              "    20% {\n",
              "      border-color: transparent;\n",
              "      border-left-color: var(--fill-color);\n",
              "      border-top-color: var(--fill-color);\n",
              "    }\n",
              "    30% {\n",
              "      border-color: transparent;\n",
              "      border-left-color: var(--fill-color);\n",
              "      border-top-color: var(--fill-color);\n",
              "      border-right-color: var(--fill-color);\n",
              "    }\n",
              "    40% {\n",
              "      border-color: transparent;\n",
              "      border-right-color: var(--fill-color);\n",
              "      border-top-color: var(--fill-color);\n",
              "    }\n",
              "    60% {\n",
              "      border-color: transparent;\n",
              "      border-right-color: var(--fill-color);\n",
              "    }\n",
              "    80% {\n",
              "      border-color: transparent;\n",
              "      border-right-color: var(--fill-color);\n",
              "      border-bottom-color: var(--fill-color);\n",
              "    }\n",
              "    90% {\n",
              "      border-color: transparent;\n",
              "      border-bottom-color: var(--fill-color);\n",
              "    }\n",
              "  }\n",
              "</style>\n",
              "\n",
              "      <script>\n",
              "        async function quickchart(key) {\n",
              "          const quickchartButtonEl =\n",
              "            document.querySelector('#' + key + ' button');\n",
              "          quickchartButtonEl.disabled = true;  // To prevent multiple clicks.\n",
              "          quickchartButtonEl.classList.add('colab-df-spinner');\n",
              "          try {\n",
              "            const charts = await google.colab.kernel.invokeFunction(\n",
              "                'suggestCharts', [key], {});\n",
              "          } catch (error) {\n",
              "            console.error('Error during call to suggestCharts:', error);\n",
              "          }\n",
              "          quickchartButtonEl.classList.remove('colab-df-spinner');\n",
              "          quickchartButtonEl.classList.add('colab-df-quickchart-complete');\n",
              "        }\n",
              "        (() => {\n",
              "          let quickchartButtonEl =\n",
              "            document.querySelector('#df-f912cb71-96e6-4c02-a559-768d946ea2df button');\n",
              "          quickchartButtonEl.style.display =\n",
              "            google.colab.kernel.accessAllowed ? 'block' : 'none';\n",
              "        })();\n",
              "      </script>\n",
              "    </div>\n",
              "\n",
              "  <div id=\"id_a74978f4-3ce6-49e7-a702-d4d9a540aa99\">\n",
              "    <style>\n",
              "      .colab-df-generate {\n",
              "        background-color: #E8F0FE;\n",
              "        border: none;\n",
              "        border-radius: 50%;\n",
              "        cursor: pointer;\n",
              "        display: none;\n",
              "        fill: #1967D2;\n",
              "        height: 32px;\n",
              "        padding: 0 0 0 0;\n",
              "        width: 32px;\n",
              "      }\n",
              "\n",
              "      .colab-df-generate:hover {\n",
              "        background-color: #E2EBFA;\n",
              "        box-shadow: 0px 1px 2px rgba(60, 64, 67, 0.3), 0px 1px 3px 1px rgba(60, 64, 67, 0.15);\n",
              "        fill: #174EA6;\n",
              "      }\n",
              "\n",
              "      [theme=dark] .colab-df-generate {\n",
              "        background-color: #3B4455;\n",
              "        fill: #D2E3FC;\n",
              "      }\n",
              "\n",
              "      [theme=dark] .colab-df-generate:hover {\n",
              "        background-color: #434B5C;\n",
              "        box-shadow: 0px 1px 3px 1px rgba(0, 0, 0, 0.15);\n",
              "        filter: drop-shadow(0px 1px 2px rgba(0, 0, 0, 0.3));\n",
              "        fill: #FFFFFF;\n",
              "      }\n",
              "    </style>\n",
              "    <button class=\"colab-df-generate\" onclick=\"generateWithVariable('hustle_players')\"\n",
              "            title=\"Generate code using this dataframe.\"\n",
              "            style=\"display:none;\">\n",
              "\n",
              "  <svg xmlns=\"http://www.w3.org/2000/svg\" height=\"24px\"viewBox=\"0 0 24 24\"\n",
              "       width=\"24px\">\n",
              "    <path d=\"M7,19H8.4L18.45,9,17,7.55,7,17.6ZM5,21V16.75L18.45,3.32a2,2,0,0,1,2.83,0l1.4,1.43a1.91,1.91,0,0,1,.58,1.4,1.91,1.91,0,0,1-.58,1.4L9.25,21ZM18.45,9,17,7.55Zm-12,3A5.31,5.31,0,0,0,4.9,8.1,5.31,5.31,0,0,0,1,6.5,5.31,5.31,0,0,0,4.9,4.9,5.31,5.31,0,0,0,6.5,1,5.31,5.31,0,0,0,8.1,4.9,5.31,5.31,0,0,0,12,6.5,5.46,5.46,0,0,0,6.5,12Z\"/>\n",
              "  </svg>\n",
              "    </button>\n",
              "    <script>\n",
              "      (() => {\n",
              "      const buttonEl =\n",
              "        document.querySelector('#id_a74978f4-3ce6-49e7-a702-d4d9a540aa99 button.colab-df-generate');\n",
              "      buttonEl.style.display =\n",
              "        google.colab.kernel.accessAllowed ? 'block' : 'none';\n",
              "\n",
              "      buttonEl.onclick = () => {\n",
              "        google.colab.notebook.generateWithVariable('hustle_players');\n",
              "      }\n",
              "      })();\n",
              "    </script>\n",
              "  </div>\n",
              "\n",
              "    </div>\n",
              "  </div>\n"
            ],
            "application/vnd.google.colaboratory.intrinsic+json": {
              "type": "dataframe",
              "variable_name": "hustle_players"
            }
          },
          "metadata": {},
          "execution_count": 279
        }
      ]
    },
    {
      "cell_type": "markdown",
      "source": [
        "Bools are True or False. True is 1, and False is 0. The key words True and False cannot be variables"
      ],
      "metadata": {
        "id": "cqNSRXlKLjzY"
      }
    },
    {
      "cell_type": "code",
      "source": [
        "#True = 2"
      ],
      "metadata": {
        "id": "IMkoHCnxNBlT",
        "colab": {
          "base_uri": "https://localhost:8080/",
          "height": 106
        },
        "outputId": "4cb8648b-8f63-4cc9-a060-9a10edbe50cc"
      },
      "execution_count": null,
      "outputs": [
        {
          "output_type": "error",
          "ename": "SyntaxError",
          "evalue": "cannot assign to True (ipython-input-210365840.py, line 1)",
          "traceback": [
            "\u001b[0;36m  File \u001b[0;32m\"/tmp/ipython-input-210365840.py\"\u001b[0;36m, line \u001b[0;32m1\u001b[0m\n\u001b[0;31m    True = 2\u001b[0m\n\u001b[0m    ^\u001b[0m\n\u001b[0;31mSyntaxError\u001b[0m\u001b[0;31m:\u001b[0m cannot assign to True\n"
          ]
        }
      ]
    },
    {
      "cell_type": "markdown",
      "source": [
        "They come into play when I apply boolean operators. For example, if I want to know if 5 equals 5."
      ],
      "metadata": {
        "id": "CAm_sVCKNjhj"
      }
    },
    {
      "cell_type": "code",
      "source": [
        "#does 5 equal 5?\n",
        "5 == 5"
      ],
      "metadata": {
        "id": "pHII6IpJNsqH",
        "colab": {
          "base_uri": "https://localhost:8080/"
        },
        "outputId": "4bab4ed3-fb7b-497d-bda2-872534a7ae50"
      },
      "execution_count": null,
      "outputs": [
        {
          "output_type": "execute_result",
          "data": {
            "text/plain": [
              "True"
            ]
          },
          "metadata": {},
          "execution_count": 281
        }
      ]
    },
    {
      "cell_type": "code",
      "source": [
        "#does 5 equal 'five'?\n",
        "5 == 'five'"
      ],
      "metadata": {
        "id": "tJc4gWaEN1NC",
        "colab": {
          "base_uri": "https://localhost:8080/"
        },
        "outputId": "4acf98a8-8d3b-4095-b050-888078d6cbd8"
      },
      "execution_count": null,
      "outputs": [
        {
          "output_type": "execute_result",
          "data": {
            "text/plain": [
              "False"
            ]
          },
          "metadata": {},
          "execution_count": 282
        }
      ]
    },
    {
      "cell_type": "markdown",
      "source": [
        "True and False are also the numbers 1 and 0 respectively. This can come in handy"
      ],
      "metadata": {
        "id": "vhEu9RJ6N-0P"
      }
    },
    {
      "cell_type": "code",
      "source": [
        "#True equals 1\n",
        "True == 1"
      ],
      "metadata": {
        "id": "0lX5v4HsOFsr",
        "colab": {
          "base_uri": "https://localhost:8080/"
        },
        "outputId": "31cff135-47dc-4536-af42-145e287391df"
      },
      "execution_count": null,
      "outputs": [
        {
          "output_type": "execute_result",
          "data": {
            "text/plain": [
              "True"
            ]
          },
          "metadata": {},
          "execution_count": 283
        }
      ]
    },
    {
      "cell_type": "code",
      "source": [
        "#True not equaling 1 is False\n",
        "True != 1"
      ],
      "metadata": {
        "id": "ZaXQGv0xOMST",
        "colab": {
          "base_uri": "https://localhost:8080/"
        },
        "outputId": "88df65e2-f5a7-4c25-abb2-8527c8898ac2"
      },
      "execution_count": null,
      "outputs": [
        {
          "output_type": "execute_result",
          "data": {
            "text/plain": [
              "False"
            ]
          },
          "metadata": {},
          "execution_count": 284
        }
      ]
    },
    {
      "cell_type": "code",
      "source": [
        "#Adding bools counts the number of trues\n",
        "False + True + True + False + False"
      ],
      "metadata": {
        "id": "VZLlermvOqPf",
        "colab": {
          "base_uri": "https://localhost:8080/"
        },
        "outputId": "029041cc-0627-4856-b958-9316417e670e"
      },
      "execution_count": null,
      "outputs": [
        {
          "output_type": "execute_result",
          "data": {
            "text/plain": [
              "2"
            ]
          },
          "metadata": {},
          "execution_count": 285
        }
      ]
    },
    {
      "cell_type": "markdown",
      "source": [
        "Here's an example each of *and*, *or*, and *not*."
      ],
      "metadata": {
        "id": "nyoZmvB0O8ap"
      }
    },
    {
      "cell_type": "code",
      "source": [
        "#both sides must be true for and\n",
        "(True == 1) and (False != 0)"
      ],
      "metadata": {
        "id": "P9d-EEnyPBrx",
        "colab": {
          "base_uri": "https://localhost:8080/"
        },
        "outputId": "2ca41b65-2425-4f4d-f732-fad2810e64eb"
      },
      "execution_count": null,
      "outputs": [
        {
          "output_type": "execute_result",
          "data": {
            "text/plain": [
              "False"
            ]
          },
          "metadata": {},
          "execution_count": 286
        }
      ]
    },
    {
      "cell_type": "code",
      "source": [
        "#only one side (or more) needs to be true for or\n",
        "(True == 1) or (False != 0)"
      ],
      "metadata": {
        "id": "Ukyk9iqwPWbI",
        "colab": {
          "base_uri": "https://localhost:8080/"
        },
        "outputId": "84d0cbd8-54f5-4002-ee9e-1ae4f2da02c7"
      },
      "execution_count": null,
      "outputs": [
        {
          "output_type": "execute_result",
          "data": {
            "text/plain": [
              "True"
            ]
          },
          "metadata": {},
          "execution_count": 287
        }
      ]
    },
    {
      "cell_type": "code",
      "source": [
        "#not swaps True for False, and False for True\n",
        "not 0, not False"
      ],
      "metadata": {
        "id": "B86v6IJXPc9n",
        "colab": {
          "base_uri": "https://localhost:8080/"
        },
        "outputId": "738713a1-890f-4dd2-b39b-9a2afffdd960"
      },
      "execution_count": null,
      "outputs": [
        {
          "output_type": "execute_result",
          "data": {
            "text/plain": [
              "(True, True)"
            ]
          },
          "metadata": {},
          "execution_count": 288
        }
      ]
    },
    {
      "cell_type": "markdown",
      "source": [
        "Here are the other four boolean operations."
      ],
      "metadata": {
        "id": "yT-aKlvBQCD-"
      }
    },
    {
      "cell_type": "code",
      "source": [
        "#strictly less than, and strickly greater than\n",
        "0 < 0, 4 > 5"
      ],
      "metadata": {
        "id": "6gbLhA01QGO4",
        "colab": {
          "base_uri": "https://localhost:8080/"
        },
        "outputId": "063f1ed8-eb31-4d6e-ef3a-fb4ca3657852"
      },
      "execution_count": null,
      "outputs": [
        {
          "output_type": "execute_result",
          "data": {
            "text/plain": [
              "(False, False)"
            ]
          },
          "metadata": {},
          "execution_count": 289
        }
      ]
    },
    {
      "cell_type": "code",
      "source": [
        "#less than or equal to, and greater than or equal to\n",
        "5 <= 5, 6 >= 5"
      ],
      "metadata": {
        "id": "315B_UvnQVsl",
        "colab": {
          "base_uri": "https://localhost:8080/"
        },
        "outputId": "9aa702e2-fd06-4f54-edba-1e528555c3e5"
      },
      "execution_count": null,
      "outputs": [
        {
          "output_type": "execute_result",
          "data": {
            "text/plain": [
              "(True, True)"
            ]
          },
          "metadata": {},
          "execution_count": 290
        }
      ]
    },
    {
      "cell_type": "markdown",
      "source": [
        "Now that you know what bools are, use my example query from above to complete the task below."
      ],
      "metadata": {
        "id": "jBzfaRgISPH-"
      }
    },
    {
      "cell_type": "markdown",
      "source": [
        "**Task10**:\n",
        "\n",
        "Find all the players that have played more than 41 games (G), and have more turn overs (TOV) than assists (AST)."
      ],
      "metadata": {
        "id": "cofxFtMVXVEq"
      }
    },
    {
      "cell_type": "code",
      "source": [
        "#ANSWER10\n",
        "basketball.query('G>41 and TOV>AST')\n"
      ],
      "metadata": {
        "id": "R-6NsnAaYTge",
        "colab": {
          "base_uri": "https://localhost:8080/",
          "height": 800
        },
        "outputId": "acfa10d2-4f51-427d-8299-ac66ae5925a6"
      },
      "execution_count": null,
      "outputs": [
        {
          "output_type": "execute_result",
          "data": {
            "text/plain": [
              "                Player    Pos  Age   Tm   G  GS    MP   FG   FGA    FG%  ...  \\\n",
              "16       Deandre Ayton      C   25  POR  55  55  1784  427   749  0.570  ...   \n",
              "19   Marvin Bagley III      C   24  TOT  50  25  1053  239   408  0.586  ...   \n",
              "50    Bojan Bogdanović  SF-PF   34  TOT  57  27  1478  309   681  0.454  ...   \n",
              "51             Bol Bol     PF   24  PHO  43   0   469   93   151  0.616  ...   \n",
              "55       Chris Boucher     PF   31  TOR  50   0   705  110   217  0.507  ...   \n",
              "101       John Collins     PF   26  UTA  68  66  1901  397   746  0.532  ...   \n",
              "132     Andre Drummond      C   30  CHI  79  10  1351  267   480  0.556  ...   \n",
              "175        Rudy Gobert      C   31  MIN  76  76  2593  406   614  0.661  ...   \n",
              "210       Jaxson Hayes      C   23  LAL  70   5   877  126   175  0.720  ...   \n",
              "242      GG Jackson II     PF   19  MEM  48  18  1233  241   563  0.428  ...   \n",
              "244  Jaren Jackson Jr.      C   24  MEM  66  66  2124  516  1162  0.444  ...   \n",
              "275     Walker Kessler      C   22  UTA  64  22  1493  229   350  0.654  ...   \n",
              "331       JaVale McGee      C   36  SAC  46   0   339   79   132  0.598  ...   \n",
              "337      Chimezie Metu      C   26  TOT  51  12   859  123   244  0.504  ...   \n",
              "427           Naz Reid      C   24  MIN  81  14  1964  406   851  0.477  ...   \n",
              "429      Nick Richards      C   26  CHO  67  51  1759  260   376  0.691  ...   \n",
              "444       Luka Šamanić     PF   24  UTA  43   7   404   60   158  0.380  ...   \n",
              "509       Myles Turner      C   27  IND  77  77  2076  476   909  0.524  ...   \n",
              "522      Moritz Wagner      C   26  ORL  80   1  1415  332   552  0.601  ...   \n",
              "542       Cam Whitmore     SF   19  HOU  47   2   880  212   467  0.454  ...   \n",
              "563      James Wiseman      C   22  DET  63   6  1091  187   305  0.613  ...   \n",
              "565     Christian Wood     PF   28  LAL  50   1   872  123   264  0.466  ...   \n",
              "569     Omer Yurtseven      C   25  UTA  48  12   545   99   184  0.538  ...   \n",
              "\n",
              "     ORB  DRB  TRB  AST  STL  BLK  TOV   PF   PTS  Player-additional  \n",
              "16   176  433  609   90   56   42   99  109   920          aytonde01  \n",
              "19   130  182  312   55   20   33   59   81   583          baglema01  \n",
              "50    22  130  152   97   30    5  101   95   868          bogdabo02  \n",
              "51    32  105  137   17   10   25   19   42   223            bolbo01  \n",
              "55    62  145  207   23   14   24   28   68   322          bouchch01  \n",
              "101  157  418  575   77   40   61   98  191  1027          collijo01  \n",
              "132  265  443  708   37   73   48   81  140   663          drumman01  \n",
              "175  285  697  982  102   52  162  118  238  1061          goberru01  \n",
              "210   69  142  211   33   34   29   43  123   303          hayesja02  \n",
              "242   53  143  196   59   28   24   65   64   699          jacksgg01  \n",
              "244   85  280  365  154   80  106  160  235  1486          jacksja02  \n",
              "275  165  316  481   60   30  154   66  132   518          kesslwa01  \n",
              "331   42   84  126   17   14   20   34   46   185          mcgeeja01  \n",
              "337   41  153  194   46   43   16   52   71   332           metuch01  \n",
              "427   73  350  423  106   63   73  111  172  1090           reidna01  \n",
              "429  172  367  539   54   26   74   73  176   652          richani01  \n",
              "444   22   80  102   19    5    7   28   32   177          samanlu01  \n",
              "509  113  420  533  100   39  144  109  232  1313          turnemy01  \n",
              "522  117  230  347   96   39   21   97  160   868          wagnemo01  \n",
              "542   44  136  180   33   30   17   46   64   579          whitmca01  \n",
              "563  110  226  336   54   12   39   66  141   446          wisemja01  \n",
              "565   39  215  254   49   16   33   50   72   347           woodch01  \n",
              "569   72  136  208   29    8   18   37   52   222          yurtsom01  \n",
              "\n",
              "[23 rows x 30 columns]"
            ],
            "text/html": [
              "\n",
              "  <div id=\"df-e21737ca-d369-42df-803f-0c3b8f98d8f1\" class=\"colab-df-container\">\n",
              "    <div>\n",
              "<style scoped>\n",
              "    .dataframe tbody tr th:only-of-type {\n",
              "        vertical-align: middle;\n",
              "    }\n",
              "\n",
              "    .dataframe tbody tr th {\n",
              "        vertical-align: top;\n",
              "    }\n",
              "\n",
              "    .dataframe thead th {\n",
              "        text-align: right;\n",
              "    }\n",
              "</style>\n",
              "<table border=\"1\" class=\"dataframe\">\n",
              "  <thead>\n",
              "    <tr style=\"text-align: right;\">\n",
              "      <th></th>\n",
              "      <th>Player</th>\n",
              "      <th>Pos</th>\n",
              "      <th>Age</th>\n",
              "      <th>Tm</th>\n",
              "      <th>G</th>\n",
              "      <th>GS</th>\n",
              "      <th>MP</th>\n",
              "      <th>FG</th>\n",
              "      <th>FGA</th>\n",
              "      <th>FG%</th>\n",
              "      <th>...</th>\n",
              "      <th>ORB</th>\n",
              "      <th>DRB</th>\n",
              "      <th>TRB</th>\n",
              "      <th>AST</th>\n",
              "      <th>STL</th>\n",
              "      <th>BLK</th>\n",
              "      <th>TOV</th>\n",
              "      <th>PF</th>\n",
              "      <th>PTS</th>\n",
              "      <th>Player-additional</th>\n",
              "    </tr>\n",
              "  </thead>\n",
              "  <tbody>\n",
              "    <tr>\n",
              "      <th>16</th>\n",
              "      <td>Deandre Ayton</td>\n",
              "      <td>C</td>\n",
              "      <td>25</td>\n",
              "      <td>POR</td>\n",
              "      <td>55</td>\n",
              "      <td>55</td>\n",
              "      <td>1784</td>\n",
              "      <td>427</td>\n",
              "      <td>749</td>\n",
              "      <td>0.570</td>\n",
              "      <td>...</td>\n",
              "      <td>176</td>\n",
              "      <td>433</td>\n",
              "      <td>609</td>\n",
              "      <td>90</td>\n",
              "      <td>56</td>\n",
              "      <td>42</td>\n",
              "      <td>99</td>\n",
              "      <td>109</td>\n",
              "      <td>920</td>\n",
              "      <td>aytonde01</td>\n",
              "    </tr>\n",
              "    <tr>\n",
              "      <th>19</th>\n",
              "      <td>Marvin Bagley III</td>\n",
              "      <td>C</td>\n",
              "      <td>24</td>\n",
              "      <td>TOT</td>\n",
              "      <td>50</td>\n",
              "      <td>25</td>\n",
              "      <td>1053</td>\n",
              "      <td>239</td>\n",
              "      <td>408</td>\n",
              "      <td>0.586</td>\n",
              "      <td>...</td>\n",
              "      <td>130</td>\n",
              "      <td>182</td>\n",
              "      <td>312</td>\n",
              "      <td>55</td>\n",
              "      <td>20</td>\n",
              "      <td>33</td>\n",
              "      <td>59</td>\n",
              "      <td>81</td>\n",
              "      <td>583</td>\n",
              "      <td>baglema01</td>\n",
              "    </tr>\n",
              "    <tr>\n",
              "      <th>50</th>\n",
              "      <td>Bojan Bogdanović</td>\n",
              "      <td>SF-PF</td>\n",
              "      <td>34</td>\n",
              "      <td>TOT</td>\n",
              "      <td>57</td>\n",
              "      <td>27</td>\n",
              "      <td>1478</td>\n",
              "      <td>309</td>\n",
              "      <td>681</td>\n",
              "      <td>0.454</td>\n",
              "      <td>...</td>\n",
              "      <td>22</td>\n",
              "      <td>130</td>\n",
              "      <td>152</td>\n",
              "      <td>97</td>\n",
              "      <td>30</td>\n",
              "      <td>5</td>\n",
              "      <td>101</td>\n",
              "      <td>95</td>\n",
              "      <td>868</td>\n",
              "      <td>bogdabo02</td>\n",
              "    </tr>\n",
              "    <tr>\n",
              "      <th>51</th>\n",
              "      <td>Bol Bol</td>\n",
              "      <td>PF</td>\n",
              "      <td>24</td>\n",
              "      <td>PHO</td>\n",
              "      <td>43</td>\n",
              "      <td>0</td>\n",
              "      <td>469</td>\n",
              "      <td>93</td>\n",
              "      <td>151</td>\n",
              "      <td>0.616</td>\n",
              "      <td>...</td>\n",
              "      <td>32</td>\n",
              "      <td>105</td>\n",
              "      <td>137</td>\n",
              "      <td>17</td>\n",
              "      <td>10</td>\n",
              "      <td>25</td>\n",
              "      <td>19</td>\n",
              "      <td>42</td>\n",
              "      <td>223</td>\n",
              "      <td>bolbo01</td>\n",
              "    </tr>\n",
              "    <tr>\n",
              "      <th>55</th>\n",
              "      <td>Chris Boucher</td>\n",
              "      <td>PF</td>\n",
              "      <td>31</td>\n",
              "      <td>TOR</td>\n",
              "      <td>50</td>\n",
              "      <td>0</td>\n",
              "      <td>705</td>\n",
              "      <td>110</td>\n",
              "      <td>217</td>\n",
              "      <td>0.507</td>\n",
              "      <td>...</td>\n",
              "      <td>62</td>\n",
              "      <td>145</td>\n",
              "      <td>207</td>\n",
              "      <td>23</td>\n",
              "      <td>14</td>\n",
              "      <td>24</td>\n",
              "      <td>28</td>\n",
              "      <td>68</td>\n",
              "      <td>322</td>\n",
              "      <td>bouchch01</td>\n",
              "    </tr>\n",
              "    <tr>\n",
              "      <th>101</th>\n",
              "      <td>John Collins</td>\n",
              "      <td>PF</td>\n",
              "      <td>26</td>\n",
              "      <td>UTA</td>\n",
              "      <td>68</td>\n",
              "      <td>66</td>\n",
              "      <td>1901</td>\n",
              "      <td>397</td>\n",
              "      <td>746</td>\n",
              "      <td>0.532</td>\n",
              "      <td>...</td>\n",
              "      <td>157</td>\n",
              "      <td>418</td>\n",
              "      <td>575</td>\n",
              "      <td>77</td>\n",
              "      <td>40</td>\n",
              "      <td>61</td>\n",
              "      <td>98</td>\n",
              "      <td>191</td>\n",
              "      <td>1027</td>\n",
              "      <td>collijo01</td>\n",
              "    </tr>\n",
              "    <tr>\n",
              "      <th>132</th>\n",
              "      <td>Andre Drummond</td>\n",
              "      <td>C</td>\n",
              "      <td>30</td>\n",
              "      <td>CHI</td>\n",
              "      <td>79</td>\n",
              "      <td>10</td>\n",
              "      <td>1351</td>\n",
              "      <td>267</td>\n",
              "      <td>480</td>\n",
              "      <td>0.556</td>\n",
              "      <td>...</td>\n",
              "      <td>265</td>\n",
              "      <td>443</td>\n",
              "      <td>708</td>\n",
              "      <td>37</td>\n",
              "      <td>73</td>\n",
              "      <td>48</td>\n",
              "      <td>81</td>\n",
              "      <td>140</td>\n",
              "      <td>663</td>\n",
              "      <td>drumman01</td>\n",
              "    </tr>\n",
              "    <tr>\n",
              "      <th>175</th>\n",
              "      <td>Rudy Gobert</td>\n",
              "      <td>C</td>\n",
              "      <td>31</td>\n",
              "      <td>MIN</td>\n",
              "      <td>76</td>\n",
              "      <td>76</td>\n",
              "      <td>2593</td>\n",
              "      <td>406</td>\n",
              "      <td>614</td>\n",
              "      <td>0.661</td>\n",
              "      <td>...</td>\n",
              "      <td>285</td>\n",
              "      <td>697</td>\n",
              "      <td>982</td>\n",
              "      <td>102</td>\n",
              "      <td>52</td>\n",
              "      <td>162</td>\n",
              "      <td>118</td>\n",
              "      <td>238</td>\n",
              "      <td>1061</td>\n",
              "      <td>goberru01</td>\n",
              "    </tr>\n",
              "    <tr>\n",
              "      <th>210</th>\n",
              "      <td>Jaxson Hayes</td>\n",
              "      <td>C</td>\n",
              "      <td>23</td>\n",
              "      <td>LAL</td>\n",
              "      <td>70</td>\n",
              "      <td>5</td>\n",
              "      <td>877</td>\n",
              "      <td>126</td>\n",
              "      <td>175</td>\n",
              "      <td>0.720</td>\n",
              "      <td>...</td>\n",
              "      <td>69</td>\n",
              "      <td>142</td>\n",
              "      <td>211</td>\n",
              "      <td>33</td>\n",
              "      <td>34</td>\n",
              "      <td>29</td>\n",
              "      <td>43</td>\n",
              "      <td>123</td>\n",
              "      <td>303</td>\n",
              "      <td>hayesja02</td>\n",
              "    </tr>\n",
              "    <tr>\n",
              "      <th>242</th>\n",
              "      <td>GG Jackson II</td>\n",
              "      <td>PF</td>\n",
              "      <td>19</td>\n",
              "      <td>MEM</td>\n",
              "      <td>48</td>\n",
              "      <td>18</td>\n",
              "      <td>1233</td>\n",
              "      <td>241</td>\n",
              "      <td>563</td>\n",
              "      <td>0.428</td>\n",
              "      <td>...</td>\n",
              "      <td>53</td>\n",
              "      <td>143</td>\n",
              "      <td>196</td>\n",
              "      <td>59</td>\n",
              "      <td>28</td>\n",
              "      <td>24</td>\n",
              "      <td>65</td>\n",
              "      <td>64</td>\n",
              "      <td>699</td>\n",
              "      <td>jacksgg01</td>\n",
              "    </tr>\n",
              "    <tr>\n",
              "      <th>244</th>\n",
              "      <td>Jaren Jackson Jr.</td>\n",
              "      <td>C</td>\n",
              "      <td>24</td>\n",
              "      <td>MEM</td>\n",
              "      <td>66</td>\n",
              "      <td>66</td>\n",
              "      <td>2124</td>\n",
              "      <td>516</td>\n",
              "      <td>1162</td>\n",
              "      <td>0.444</td>\n",
              "      <td>...</td>\n",
              "      <td>85</td>\n",
              "      <td>280</td>\n",
              "      <td>365</td>\n",
              "      <td>154</td>\n",
              "      <td>80</td>\n",
              "      <td>106</td>\n",
              "      <td>160</td>\n",
              "      <td>235</td>\n",
              "      <td>1486</td>\n",
              "      <td>jacksja02</td>\n",
              "    </tr>\n",
              "    <tr>\n",
              "      <th>275</th>\n",
              "      <td>Walker Kessler</td>\n",
              "      <td>C</td>\n",
              "      <td>22</td>\n",
              "      <td>UTA</td>\n",
              "      <td>64</td>\n",
              "      <td>22</td>\n",
              "      <td>1493</td>\n",
              "      <td>229</td>\n",
              "      <td>350</td>\n",
              "      <td>0.654</td>\n",
              "      <td>...</td>\n",
              "      <td>165</td>\n",
              "      <td>316</td>\n",
              "      <td>481</td>\n",
              "      <td>60</td>\n",
              "      <td>30</td>\n",
              "      <td>154</td>\n",
              "      <td>66</td>\n",
              "      <td>132</td>\n",
              "      <td>518</td>\n",
              "      <td>kesslwa01</td>\n",
              "    </tr>\n",
              "    <tr>\n",
              "      <th>331</th>\n",
              "      <td>JaVale McGee</td>\n",
              "      <td>C</td>\n",
              "      <td>36</td>\n",
              "      <td>SAC</td>\n",
              "      <td>46</td>\n",
              "      <td>0</td>\n",
              "      <td>339</td>\n",
              "      <td>79</td>\n",
              "      <td>132</td>\n",
              "      <td>0.598</td>\n",
              "      <td>...</td>\n",
              "      <td>42</td>\n",
              "      <td>84</td>\n",
              "      <td>126</td>\n",
              "      <td>17</td>\n",
              "      <td>14</td>\n",
              "      <td>20</td>\n",
              "      <td>34</td>\n",
              "      <td>46</td>\n",
              "      <td>185</td>\n",
              "      <td>mcgeeja01</td>\n",
              "    </tr>\n",
              "    <tr>\n",
              "      <th>337</th>\n",
              "      <td>Chimezie Metu</td>\n",
              "      <td>C</td>\n",
              "      <td>26</td>\n",
              "      <td>TOT</td>\n",
              "      <td>51</td>\n",
              "      <td>12</td>\n",
              "      <td>859</td>\n",
              "      <td>123</td>\n",
              "      <td>244</td>\n",
              "      <td>0.504</td>\n",
              "      <td>...</td>\n",
              "      <td>41</td>\n",
              "      <td>153</td>\n",
              "      <td>194</td>\n",
              "      <td>46</td>\n",
              "      <td>43</td>\n",
              "      <td>16</td>\n",
              "      <td>52</td>\n",
              "      <td>71</td>\n",
              "      <td>332</td>\n",
              "      <td>metuch01</td>\n",
              "    </tr>\n",
              "    <tr>\n",
              "      <th>427</th>\n",
              "      <td>Naz Reid</td>\n",
              "      <td>C</td>\n",
              "      <td>24</td>\n",
              "      <td>MIN</td>\n",
              "      <td>81</td>\n",
              "      <td>14</td>\n",
              "      <td>1964</td>\n",
              "      <td>406</td>\n",
              "      <td>851</td>\n",
              "      <td>0.477</td>\n",
              "      <td>...</td>\n",
              "      <td>73</td>\n",
              "      <td>350</td>\n",
              "      <td>423</td>\n",
              "      <td>106</td>\n",
              "      <td>63</td>\n",
              "      <td>73</td>\n",
              "      <td>111</td>\n",
              "      <td>172</td>\n",
              "      <td>1090</td>\n",
              "      <td>reidna01</td>\n",
              "    </tr>\n",
              "    <tr>\n",
              "      <th>429</th>\n",
              "      <td>Nick Richards</td>\n",
              "      <td>C</td>\n",
              "      <td>26</td>\n",
              "      <td>CHO</td>\n",
              "      <td>67</td>\n",
              "      <td>51</td>\n",
              "      <td>1759</td>\n",
              "      <td>260</td>\n",
              "      <td>376</td>\n",
              "      <td>0.691</td>\n",
              "      <td>...</td>\n",
              "      <td>172</td>\n",
              "      <td>367</td>\n",
              "      <td>539</td>\n",
              "      <td>54</td>\n",
              "      <td>26</td>\n",
              "      <td>74</td>\n",
              "      <td>73</td>\n",
              "      <td>176</td>\n",
              "      <td>652</td>\n",
              "      <td>richani01</td>\n",
              "    </tr>\n",
              "    <tr>\n",
              "      <th>444</th>\n",
              "      <td>Luka Šamanić</td>\n",
              "      <td>PF</td>\n",
              "      <td>24</td>\n",
              "      <td>UTA</td>\n",
              "      <td>43</td>\n",
              "      <td>7</td>\n",
              "      <td>404</td>\n",
              "      <td>60</td>\n",
              "      <td>158</td>\n",
              "      <td>0.380</td>\n",
              "      <td>...</td>\n",
              "      <td>22</td>\n",
              "      <td>80</td>\n",
              "      <td>102</td>\n",
              "      <td>19</td>\n",
              "      <td>5</td>\n",
              "      <td>7</td>\n",
              "      <td>28</td>\n",
              "      <td>32</td>\n",
              "      <td>177</td>\n",
              "      <td>samanlu01</td>\n",
              "    </tr>\n",
              "    <tr>\n",
              "      <th>509</th>\n",
              "      <td>Myles Turner</td>\n",
              "      <td>C</td>\n",
              "      <td>27</td>\n",
              "      <td>IND</td>\n",
              "      <td>77</td>\n",
              "      <td>77</td>\n",
              "      <td>2076</td>\n",
              "      <td>476</td>\n",
              "      <td>909</td>\n",
              "      <td>0.524</td>\n",
              "      <td>...</td>\n",
              "      <td>113</td>\n",
              "      <td>420</td>\n",
              "      <td>533</td>\n",
              "      <td>100</td>\n",
              "      <td>39</td>\n",
              "      <td>144</td>\n",
              "      <td>109</td>\n",
              "      <td>232</td>\n",
              "      <td>1313</td>\n",
              "      <td>turnemy01</td>\n",
              "    </tr>\n",
              "    <tr>\n",
              "      <th>522</th>\n",
              "      <td>Moritz Wagner</td>\n",
              "      <td>C</td>\n",
              "      <td>26</td>\n",
              "      <td>ORL</td>\n",
              "      <td>80</td>\n",
              "      <td>1</td>\n",
              "      <td>1415</td>\n",
              "      <td>332</td>\n",
              "      <td>552</td>\n",
              "      <td>0.601</td>\n",
              "      <td>...</td>\n",
              "      <td>117</td>\n",
              "      <td>230</td>\n",
              "      <td>347</td>\n",
              "      <td>96</td>\n",
              "      <td>39</td>\n",
              "      <td>21</td>\n",
              "      <td>97</td>\n",
              "      <td>160</td>\n",
              "      <td>868</td>\n",
              "      <td>wagnemo01</td>\n",
              "    </tr>\n",
              "    <tr>\n",
              "      <th>542</th>\n",
              "      <td>Cam Whitmore</td>\n",
              "      <td>SF</td>\n",
              "      <td>19</td>\n",
              "      <td>HOU</td>\n",
              "      <td>47</td>\n",
              "      <td>2</td>\n",
              "      <td>880</td>\n",
              "      <td>212</td>\n",
              "      <td>467</td>\n",
              "      <td>0.454</td>\n",
              "      <td>...</td>\n",
              "      <td>44</td>\n",
              "      <td>136</td>\n",
              "      <td>180</td>\n",
              "      <td>33</td>\n",
              "      <td>30</td>\n",
              "      <td>17</td>\n",
              "      <td>46</td>\n",
              "      <td>64</td>\n",
              "      <td>579</td>\n",
              "      <td>whitmca01</td>\n",
              "    </tr>\n",
              "    <tr>\n",
              "      <th>563</th>\n",
              "      <td>James Wiseman</td>\n",
              "      <td>C</td>\n",
              "      <td>22</td>\n",
              "      <td>DET</td>\n",
              "      <td>63</td>\n",
              "      <td>6</td>\n",
              "      <td>1091</td>\n",
              "      <td>187</td>\n",
              "      <td>305</td>\n",
              "      <td>0.613</td>\n",
              "      <td>...</td>\n",
              "      <td>110</td>\n",
              "      <td>226</td>\n",
              "      <td>336</td>\n",
              "      <td>54</td>\n",
              "      <td>12</td>\n",
              "      <td>39</td>\n",
              "      <td>66</td>\n",
              "      <td>141</td>\n",
              "      <td>446</td>\n",
              "      <td>wisemja01</td>\n",
              "    </tr>\n",
              "    <tr>\n",
              "      <th>565</th>\n",
              "      <td>Christian Wood</td>\n",
              "      <td>PF</td>\n",
              "      <td>28</td>\n",
              "      <td>LAL</td>\n",
              "      <td>50</td>\n",
              "      <td>1</td>\n",
              "      <td>872</td>\n",
              "      <td>123</td>\n",
              "      <td>264</td>\n",
              "      <td>0.466</td>\n",
              "      <td>...</td>\n",
              "      <td>39</td>\n",
              "      <td>215</td>\n",
              "      <td>254</td>\n",
              "      <td>49</td>\n",
              "      <td>16</td>\n",
              "      <td>33</td>\n",
              "      <td>50</td>\n",
              "      <td>72</td>\n",
              "      <td>347</td>\n",
              "      <td>woodch01</td>\n",
              "    </tr>\n",
              "    <tr>\n",
              "      <th>569</th>\n",
              "      <td>Omer Yurtseven</td>\n",
              "      <td>C</td>\n",
              "      <td>25</td>\n",
              "      <td>UTA</td>\n",
              "      <td>48</td>\n",
              "      <td>12</td>\n",
              "      <td>545</td>\n",
              "      <td>99</td>\n",
              "      <td>184</td>\n",
              "      <td>0.538</td>\n",
              "      <td>...</td>\n",
              "      <td>72</td>\n",
              "      <td>136</td>\n",
              "      <td>208</td>\n",
              "      <td>29</td>\n",
              "      <td>8</td>\n",
              "      <td>18</td>\n",
              "      <td>37</td>\n",
              "      <td>52</td>\n",
              "      <td>222</td>\n",
              "      <td>yurtsom01</td>\n",
              "    </tr>\n",
              "  </tbody>\n",
              "</table>\n",
              "<p>23 rows × 30 columns</p>\n",
              "</div>\n",
              "    <div class=\"colab-df-buttons\">\n",
              "\n",
              "  <div class=\"colab-df-container\">\n",
              "    <button class=\"colab-df-convert\" onclick=\"convertToInteractive('df-e21737ca-d369-42df-803f-0c3b8f98d8f1')\"\n",
              "            title=\"Convert this dataframe to an interactive table.\"\n",
              "            style=\"display:none;\">\n",
              "\n",
              "  <svg xmlns=\"http://www.w3.org/2000/svg\" height=\"24px\" viewBox=\"0 -960 960 960\">\n",
              "    <path d=\"M120-120v-720h720v720H120Zm60-500h600v-160H180v160Zm220 220h160v-160H400v160Zm0 220h160v-160H400v160ZM180-400h160v-160H180v160Zm440 0h160v-160H620v160ZM180-180h160v-160H180v160Zm440 0h160v-160H620v160Z\"/>\n",
              "  </svg>\n",
              "    </button>\n",
              "\n",
              "  <style>\n",
              "    .colab-df-container {\n",
              "      display:flex;\n",
              "      gap: 12px;\n",
              "    }\n",
              "\n",
              "    .colab-df-convert {\n",
              "      background-color: #E8F0FE;\n",
              "      border: none;\n",
              "      border-radius: 50%;\n",
              "      cursor: pointer;\n",
              "      display: none;\n",
              "      fill: #1967D2;\n",
              "      height: 32px;\n",
              "      padding: 0 0 0 0;\n",
              "      width: 32px;\n",
              "    }\n",
              "\n",
              "    .colab-df-convert:hover {\n",
              "      background-color: #E2EBFA;\n",
              "      box-shadow: 0px 1px 2px rgba(60, 64, 67, 0.3), 0px 1px 3px 1px rgba(60, 64, 67, 0.15);\n",
              "      fill: #174EA6;\n",
              "    }\n",
              "\n",
              "    .colab-df-buttons div {\n",
              "      margin-bottom: 4px;\n",
              "    }\n",
              "\n",
              "    [theme=dark] .colab-df-convert {\n",
              "      background-color: #3B4455;\n",
              "      fill: #D2E3FC;\n",
              "    }\n",
              "\n",
              "    [theme=dark] .colab-df-convert:hover {\n",
              "      background-color: #434B5C;\n",
              "      box-shadow: 0px 1px 3px 1px rgba(0, 0, 0, 0.15);\n",
              "      filter: drop-shadow(0px 1px 2px rgba(0, 0, 0, 0.3));\n",
              "      fill: #FFFFFF;\n",
              "    }\n",
              "  </style>\n",
              "\n",
              "    <script>\n",
              "      const buttonEl =\n",
              "        document.querySelector('#df-e21737ca-d369-42df-803f-0c3b8f98d8f1 button.colab-df-convert');\n",
              "      buttonEl.style.display =\n",
              "        google.colab.kernel.accessAllowed ? 'block' : 'none';\n",
              "\n",
              "      async function convertToInteractive(key) {\n",
              "        const element = document.querySelector('#df-e21737ca-d369-42df-803f-0c3b8f98d8f1');\n",
              "        const dataTable =\n",
              "          await google.colab.kernel.invokeFunction('convertToInteractive',\n",
              "                                                    [key], {});\n",
              "        if (!dataTable) return;\n",
              "\n",
              "        const docLinkHtml = 'Like what you see? Visit the ' +\n",
              "          '<a target=\"_blank\" href=https://colab.research.google.com/notebooks/data_table.ipynb>data table notebook</a>'\n",
              "          + ' to learn more about interactive tables.';\n",
              "        element.innerHTML = '';\n",
              "        dataTable['output_type'] = 'display_data';\n",
              "        await google.colab.output.renderOutput(dataTable, element);\n",
              "        const docLink = document.createElement('div');\n",
              "        docLink.innerHTML = docLinkHtml;\n",
              "        element.appendChild(docLink);\n",
              "      }\n",
              "    </script>\n",
              "  </div>\n",
              "\n",
              "\n",
              "    <div id=\"df-df5b52ec-6320-44d7-a781-d5833d36be30\">\n",
              "      <button class=\"colab-df-quickchart\" onclick=\"quickchart('df-df5b52ec-6320-44d7-a781-d5833d36be30')\"\n",
              "                title=\"Suggest charts\"\n",
              "                style=\"display:none;\">\n",
              "\n",
              "<svg xmlns=\"http://www.w3.org/2000/svg\" height=\"24px\"viewBox=\"0 0 24 24\"\n",
              "     width=\"24px\">\n",
              "    <g>\n",
              "        <path d=\"M19 3H5c-1.1 0-2 .9-2 2v14c0 1.1.9 2 2 2h14c1.1 0 2-.9 2-2V5c0-1.1-.9-2-2-2zM9 17H7v-7h2v7zm4 0h-2V7h2v10zm4 0h-2v-4h2v4z\"/>\n",
              "    </g>\n",
              "</svg>\n",
              "      </button>\n",
              "\n",
              "<style>\n",
              "  .colab-df-quickchart {\n",
              "      --bg-color: #E8F0FE;\n",
              "      --fill-color: #1967D2;\n",
              "      --hover-bg-color: #E2EBFA;\n",
              "      --hover-fill-color: #174EA6;\n",
              "      --disabled-fill-color: #AAA;\n",
              "      --disabled-bg-color: #DDD;\n",
              "  }\n",
              "\n",
              "  [theme=dark] .colab-df-quickchart {\n",
              "      --bg-color: #3B4455;\n",
              "      --fill-color: #D2E3FC;\n",
              "      --hover-bg-color: #434B5C;\n",
              "      --hover-fill-color: #FFFFFF;\n",
              "      --disabled-bg-color: #3B4455;\n",
              "      --disabled-fill-color: #666;\n",
              "  }\n",
              "\n",
              "  .colab-df-quickchart {\n",
              "    background-color: var(--bg-color);\n",
              "    border: none;\n",
              "    border-radius: 50%;\n",
              "    cursor: pointer;\n",
              "    display: none;\n",
              "    fill: var(--fill-color);\n",
              "    height: 32px;\n",
              "    padding: 0;\n",
              "    width: 32px;\n",
              "  }\n",
              "\n",
              "  .colab-df-quickchart:hover {\n",
              "    background-color: var(--hover-bg-color);\n",
              "    box-shadow: 0 1px 2px rgba(60, 64, 67, 0.3), 0 1px 3px 1px rgba(60, 64, 67, 0.15);\n",
              "    fill: var(--button-hover-fill-color);\n",
              "  }\n",
              "\n",
              "  .colab-df-quickchart-complete:disabled,\n",
              "  .colab-df-quickchart-complete:disabled:hover {\n",
              "    background-color: var(--disabled-bg-color);\n",
              "    fill: var(--disabled-fill-color);\n",
              "    box-shadow: none;\n",
              "  }\n",
              "\n",
              "  .colab-df-spinner {\n",
              "    border: 2px solid var(--fill-color);\n",
              "    border-color: transparent;\n",
              "    border-bottom-color: var(--fill-color);\n",
              "    animation:\n",
              "      spin 1s steps(1) infinite;\n",
              "  }\n",
              "\n",
              "  @keyframes spin {\n",
              "    0% {\n",
              "      border-color: transparent;\n",
              "      border-bottom-color: var(--fill-color);\n",
              "      border-left-color: var(--fill-color);\n",
              "    }\n",
              "    20% {\n",
              "      border-color: transparent;\n",
              "      border-left-color: var(--fill-color);\n",
              "      border-top-color: var(--fill-color);\n",
              "    }\n",
              "    30% {\n",
              "      border-color: transparent;\n",
              "      border-left-color: var(--fill-color);\n",
              "      border-top-color: var(--fill-color);\n",
              "      border-right-color: var(--fill-color);\n",
              "    }\n",
              "    40% {\n",
              "      border-color: transparent;\n",
              "      border-right-color: var(--fill-color);\n",
              "      border-top-color: var(--fill-color);\n",
              "    }\n",
              "    60% {\n",
              "      border-color: transparent;\n",
              "      border-right-color: var(--fill-color);\n",
              "    }\n",
              "    80% {\n",
              "      border-color: transparent;\n",
              "      border-right-color: var(--fill-color);\n",
              "      border-bottom-color: var(--fill-color);\n",
              "    }\n",
              "    90% {\n",
              "      border-color: transparent;\n",
              "      border-bottom-color: var(--fill-color);\n",
              "    }\n",
              "  }\n",
              "</style>\n",
              "\n",
              "      <script>\n",
              "        async function quickchart(key) {\n",
              "          const quickchartButtonEl =\n",
              "            document.querySelector('#' + key + ' button');\n",
              "          quickchartButtonEl.disabled = true;  // To prevent multiple clicks.\n",
              "          quickchartButtonEl.classList.add('colab-df-spinner');\n",
              "          try {\n",
              "            const charts = await google.colab.kernel.invokeFunction(\n",
              "                'suggestCharts', [key], {});\n",
              "          } catch (error) {\n",
              "            console.error('Error during call to suggestCharts:', error);\n",
              "          }\n",
              "          quickchartButtonEl.classList.remove('colab-df-spinner');\n",
              "          quickchartButtonEl.classList.add('colab-df-quickchart-complete');\n",
              "        }\n",
              "        (() => {\n",
              "          let quickchartButtonEl =\n",
              "            document.querySelector('#df-df5b52ec-6320-44d7-a781-d5833d36be30 button');\n",
              "          quickchartButtonEl.style.display =\n",
              "            google.colab.kernel.accessAllowed ? 'block' : 'none';\n",
              "        })();\n",
              "      </script>\n",
              "    </div>\n",
              "\n",
              "    </div>\n",
              "  </div>\n"
            ],
            "application/vnd.google.colaboratory.intrinsic+json": {
              "type": "dataframe"
            }
          },
          "metadata": {},
          "execution_count": 291
        }
      ]
    },
    {
      "cell_type": "markdown",
      "source": [
        "## For loops\n",
        "\n",
        "Most of the time, there is some [dataframe method](https://pandas.pydata.org/docs/reference/frame.html) that does whatever we want, in terms of data wrangling.\n",
        "\n",
        "Occasionally, there will be no built in method that quite does what we need.\n",
        "\n",
        "In those cases, we will use a for loop. For loops often involve if statements, so we'll introduce those as well."
      ],
      "metadata": {
        "id": "xihD6cs1qugo"
      }
    },
    {
      "cell_type": "markdown",
      "source": [
        "I'll start with a simple example that isn't all that useful."
      ],
      "metadata": {
        "id": "21bkIGlpkARj"
      }
    },
    {
      "cell_type": "code",
      "source": [
        "for i in range(3):\n",
        "  print(i)"
      ],
      "metadata": {
        "colab": {
          "base_uri": "https://localhost:8080/"
        },
        "id": "DKbctxa7m7pF",
        "outputId": "db7f5c7c-78f4-4f84-bb6e-e209ba0a8bf8"
      },
      "execution_count": null,
      "outputs": [
        {
          "output_type": "stream",
          "name": "stdout",
          "text": [
            "0\n",
            "1\n",
            "2\n"
          ]
        }
      ]
    },
    {
      "cell_type": "code",
      "source": [
        "#initialize a variable to update during the for loop\n",
        "x = 0\n",
        "\n",
        "#initialize an iterable to run our for loop over\n",
        "onetoten = np.arange(1,11)\n",
        "\n",
        "#the actual for loop\n",
        "for i in onetoten:\n",
        "    x = x + i"
      ],
      "metadata": {
        "id": "flrWiOtLkJyl"
      },
      "execution_count": null,
      "outputs": []
    },
    {
      "cell_type": "code",
      "source": [
        "#the sum of the numbers from one to ten\n",
        "x"
      ],
      "metadata": {
        "id": "4SvTFnAjluSn",
        "colab": {
          "base_uri": "https://localhost:8080/"
        },
        "outputId": "950bbb94-fafe-4346-e9af-1b8935f7ab0c"
      },
      "execution_count": null,
      "outputs": [
        {
          "output_type": "execute_result",
          "data": {
            "text/plain": [
              "np.int64(55)"
            ]
          },
          "metadata": {},
          "execution_count": 293
        }
      ]
    },
    {
      "cell_type": "markdown",
      "source": [
        "Most of the time, we'll avoid for loops for anything but plotting, because their are often better vectorized solutions available."
      ],
      "metadata": {
        "id": "nlsNqVjsmYOx"
      }
    },
    {
      "cell_type": "code",
      "source": [
        "#could have just used the vectroized solution\n",
        "onetoten.sum()"
      ],
      "metadata": {
        "id": "xU0F_V8AmL98",
        "colab": {
          "base_uri": "https://localhost:8080/"
        },
        "outputId": "d119a2dd-ddf9-4975-b4f1-1436c3d2bdb0"
      },
      "execution_count": null,
      "outputs": [
        {
          "output_type": "execute_result",
          "data": {
            "text/plain": [
              "np.int64(55)"
            ]
          },
          "metadata": {},
          "execution_count": 294
        }
      ]
    },
    {
      "cell_type": "markdown",
      "source": [
        "Here's a more relevant example:\n",
        "\n",
        "While playing with the 2023/2024 NBA basketball data, I wanted to pull up Lebron James' stats. And I figured I might as well pull all the other players with James in their name, since there couldn't be that many.\n",
        "\n",
        "I searched for a while, and couldn't find a nice vectorized solution that uses the pandas methods.\n",
        "\n",
        "So I wrote this for loop. It has too new things from the previous loop:\n",
        "\n",
        "- a function, enumerate, which allows me to grab the item in my iterable and the index of that item.\n",
        "- an if statement. They work like this: if the condition in them is met, execute the indented code. If not, then continue with the rest of the for loop.\n",
        "\n",
        "Most for loops we need in this class will be at least this complicated. Usually more so."
      ],
      "metadata": {
        "id": "x0tdMXhxuaJ_"
      }
    },
    {
      "cell_type": "code",
      "source": [
        "#create an array of all zeros the same length as one of the columns in basketball\n",
        "james_index = np.zeros_like(basketball.Player)\n",
        "\n",
        "#index is the number of the row, name is the string that represents player name\n",
        "#enumerate is a function that breaks basketball.Player into index and name\n",
        "for index, name in enumerate(basketball.Player):\n",
        "\n",
        "    #if the string 'James' is in the string of player name\n",
        "    if 'James' in name:\n",
        "\n",
        "        #then put a True value, or 1, in the corresponding James index tracker\n",
        "        james_index[index] = 1\n",
        "\n",
        "#adds up the array elements of james_index\n",
        "#this helps me know if my loop went awry or not\n",
        "#but otherwise has nothing to do with the for loop.\n",
        "james_index.sum()"
      ],
      "metadata": {
        "id": "lv7xrz2xrllT",
        "colab": {
          "base_uri": "https://localhost:8080/"
        },
        "outputId": "1dcb9abf-2825-4862-eff3-203d12757907"
      },
      "execution_count": null,
      "outputs": [
        {
          "output_type": "execute_result",
          "data": {
            "text/plain": [
              "5"
            ]
          },
          "metadata": {},
          "execution_count": 295
        }
      ]
    },
    {
      "cell_type": "code",
      "source": [
        "#always a good idea to print out any data set you've created\n",
        "#even if you're expecting it to be uninteresting\n",
        "james_index"
      ],
      "metadata": {
        "id": "pyusseuFzHyl",
        "colab": {
          "base_uri": "https://localhost:8080/"
        },
        "outputId": "1733a117-5bf0-4552-b6f8-51ed99796294"
      },
      "execution_count": null,
      "outputs": [
        {
          "output_type": "execute_result",
          "data": {
            "text/plain": [
              "array([0, 0, 0, 0, 0, 0, 0, 0, 0, 0, 0, 0, 0, 0, 0, 0, 0, 0, 0, 0, 0, 0,\n",
              "       0, 0, 0, 0, 0, 0, 0, 0, 0, 0, 0, 0, 0, 0, 0, 0, 0, 0, 0, 0, 0, 0,\n",
              "       0, 0, 0, 0, 0, 0, 0, 0, 0, 0, 0, 0, 1, 0, 0, 0, 0, 0, 0, 0, 0, 0,\n",
              "       0, 0, 0, 0, 0, 0, 0, 0, 0, 0, 0, 0, 0, 0, 0, 0, 0, 0, 0, 0, 0, 0,\n",
              "       0, 0, 0, 0, 0, 0, 0, 0, 0, 0, 0, 0, 0, 0, 0, 0, 0, 0, 0, 0, 0, 0,\n",
              "       0, 0, 0, 0, 0, 0, 0, 0, 0, 0, 0, 0, 0, 0, 0, 0, 0, 0, 0, 0, 0, 0,\n",
              "       0, 0, 0, 0, 0, 0, 0, 0, 0, 0, 0, 0, 0, 0, 0, 0, 0, 0, 0, 0, 0, 0,\n",
              "       0, 0, 0, 0, 0, 0, 0, 0, 0, 0, 0, 0, 0, 0, 0, 0, 0, 0, 0, 0, 0, 0,\n",
              "       0, 0, 0, 0, 0, 0, 0, 0, 0, 0, 0, 0, 0, 0, 0, 0, 0, 0, 0, 0, 0, 0,\n",
              "       1, 0, 0, 0, 0, 0, 0, 0, 0, 0, 0, 0, 0, 0, 0, 0, 0, 0, 0, 0, 0, 0,\n",
              "       0, 0, 0, 0, 0, 0, 0, 0, 0, 0, 0, 0, 0, 0, 0, 0, 0, 0, 0, 0, 0, 0,\n",
              "       0, 0, 0, 0, 0, 0, 0, 1, 0, 0, 0, 0, 0, 0, 0, 0, 1, 0, 0, 0, 0, 0,\n",
              "       0, 0, 0, 0, 0, 0, 0, 0, 0, 0, 0, 0, 0, 0, 0, 0, 0, 0, 0, 0, 0, 0,\n",
              "       0, 0, 0, 0, 0, 0, 0, 0, 0, 0, 0, 0, 0, 0, 0, 0, 0, 0, 0, 0, 0, 0,\n",
              "       0, 0, 0, 0, 0, 0, 0, 0, 0, 0, 0, 0, 0, 0, 0, 0, 0, 0, 0, 0, 0, 0,\n",
              "       0, 0, 0, 0, 0, 0, 0, 0, 0, 0, 0, 0, 0, 0, 0, 0, 0, 0, 0, 0, 0, 0,\n",
              "       0, 0, 0, 0, 0, 0, 0, 0, 0, 0, 0, 0, 0, 0, 0, 0, 0, 0, 0, 0, 0, 0,\n",
              "       0, 0, 0, 0, 0, 0, 0, 0, 0, 0, 0, 0, 0, 0, 0, 0, 0, 0, 0, 0, 0, 0,\n",
              "       0, 0, 0, 0, 0, 0, 0, 0, 0, 0, 0, 0, 0, 0, 0, 0, 0, 0, 0, 0, 0, 0,\n",
              "       0, 0, 0, 0, 0, 0, 0, 0, 0, 0, 0, 0, 0, 0, 0, 0, 0, 0, 0, 0, 0, 0,\n",
              "       0, 0, 0, 0, 0, 0, 0, 0, 0, 0, 0, 0, 0, 0, 0, 0, 0, 0, 0, 0, 0, 0,\n",
              "       0, 0, 0, 0, 0, 0, 0, 0, 0, 0, 0, 0, 0, 0, 0, 0, 0, 0, 0, 0, 0, 0,\n",
              "       0, 0, 0, 0, 0, 0, 0, 0, 0, 0, 0, 0, 0, 0, 0, 0, 0, 0, 0, 0, 0, 0,\n",
              "       0, 0, 0, 0, 0, 0, 0, 0, 0, 0, 0, 0, 0, 0, 0, 0, 0, 0, 0, 0, 0, 0,\n",
              "       0, 0, 0, 0, 0, 0, 0, 0, 0, 0, 0, 0, 0, 0, 0, 0, 0, 0, 0, 0, 0, 0,\n",
              "       0, 0, 0, 0, 0, 0, 0, 0, 0, 0, 0, 0, 0, 1, 0, 0, 0, 0, 0, 0, 0, 0],\n",
              "      dtype=object)"
            ]
          },
          "metadata": {},
          "execution_count": 296
        }
      ]
    },
    {
      "cell_type": "code",
      "source": [
        "#this grabs all the rows/players with James in their name\n",
        "basketball.loc[james_index == True]"
      ],
      "metadata": {
        "id": "alSwKExExd_p",
        "colab": {
          "base_uri": "https://localhost:8080/",
          "height": 236
        },
        "outputId": "6df781d7-7a77-4bd7-89eb-62bc021f1703"
      },
      "execution_count": null,
      "outputs": [
        {
          "output_type": "execute_result",
          "data": {
            "text/plain": [
              "              Player Pos  Age   Tm   G  GS    MP   FG   FGA    FG%  ...  ORB  \\\n",
              "56   James Bouknight  SG   23  CHO  14   0    81   18    41  0.439  ...    1   \n",
              "198     James Harden  PG   34  LAC  72  72  2470  352   822  0.428  ...   34   \n",
              "249     LeBron James  PF   39  LAL  71  71  2504  685  1269  0.540  ...   61   \n",
              "258    James Johnson  PF   36  IND   9   0    47    3    10  0.300  ...    1   \n",
              "563    James Wiseman   C   22  DET  63   6  1091  187   305  0.613  ...  110   \n",
              "\n",
              "     DRB  TRB  AST  STL  BLK  TOV   PF   PTS  Player-additional  \n",
              "56     8    9    6    1    1    2    3    50          bouknja01  \n",
              "198  335  369  614   77   57  185  127  1192          hardeja01  \n",
              "249  457  518  589   89   38  245   78  1822          jamesle01  \n",
              "258    3    4    8    5    1    5    9     8          johnsja01  \n",
              "563  226  336   54   12   39   66  141   446          wisemja01  \n",
              "\n",
              "[5 rows x 30 columns]"
            ],
            "text/html": [
              "\n",
              "  <div id=\"df-958c777c-9ffd-4e72-9ac0-b1224935c764\" class=\"colab-df-container\">\n",
              "    <div>\n",
              "<style scoped>\n",
              "    .dataframe tbody tr th:only-of-type {\n",
              "        vertical-align: middle;\n",
              "    }\n",
              "\n",
              "    .dataframe tbody tr th {\n",
              "        vertical-align: top;\n",
              "    }\n",
              "\n",
              "    .dataframe thead th {\n",
              "        text-align: right;\n",
              "    }\n",
              "</style>\n",
              "<table border=\"1\" class=\"dataframe\">\n",
              "  <thead>\n",
              "    <tr style=\"text-align: right;\">\n",
              "      <th></th>\n",
              "      <th>Player</th>\n",
              "      <th>Pos</th>\n",
              "      <th>Age</th>\n",
              "      <th>Tm</th>\n",
              "      <th>G</th>\n",
              "      <th>GS</th>\n",
              "      <th>MP</th>\n",
              "      <th>FG</th>\n",
              "      <th>FGA</th>\n",
              "      <th>FG%</th>\n",
              "      <th>...</th>\n",
              "      <th>ORB</th>\n",
              "      <th>DRB</th>\n",
              "      <th>TRB</th>\n",
              "      <th>AST</th>\n",
              "      <th>STL</th>\n",
              "      <th>BLK</th>\n",
              "      <th>TOV</th>\n",
              "      <th>PF</th>\n",
              "      <th>PTS</th>\n",
              "      <th>Player-additional</th>\n",
              "    </tr>\n",
              "  </thead>\n",
              "  <tbody>\n",
              "    <tr>\n",
              "      <th>56</th>\n",
              "      <td>James Bouknight</td>\n",
              "      <td>SG</td>\n",
              "      <td>23</td>\n",
              "      <td>CHO</td>\n",
              "      <td>14</td>\n",
              "      <td>0</td>\n",
              "      <td>81</td>\n",
              "      <td>18</td>\n",
              "      <td>41</td>\n",
              "      <td>0.439</td>\n",
              "      <td>...</td>\n",
              "      <td>1</td>\n",
              "      <td>8</td>\n",
              "      <td>9</td>\n",
              "      <td>6</td>\n",
              "      <td>1</td>\n",
              "      <td>1</td>\n",
              "      <td>2</td>\n",
              "      <td>3</td>\n",
              "      <td>50</td>\n",
              "      <td>bouknja01</td>\n",
              "    </tr>\n",
              "    <tr>\n",
              "      <th>198</th>\n",
              "      <td>James Harden</td>\n",
              "      <td>PG</td>\n",
              "      <td>34</td>\n",
              "      <td>LAC</td>\n",
              "      <td>72</td>\n",
              "      <td>72</td>\n",
              "      <td>2470</td>\n",
              "      <td>352</td>\n",
              "      <td>822</td>\n",
              "      <td>0.428</td>\n",
              "      <td>...</td>\n",
              "      <td>34</td>\n",
              "      <td>335</td>\n",
              "      <td>369</td>\n",
              "      <td>614</td>\n",
              "      <td>77</td>\n",
              "      <td>57</td>\n",
              "      <td>185</td>\n",
              "      <td>127</td>\n",
              "      <td>1192</td>\n",
              "      <td>hardeja01</td>\n",
              "    </tr>\n",
              "    <tr>\n",
              "      <th>249</th>\n",
              "      <td>LeBron James</td>\n",
              "      <td>PF</td>\n",
              "      <td>39</td>\n",
              "      <td>LAL</td>\n",
              "      <td>71</td>\n",
              "      <td>71</td>\n",
              "      <td>2504</td>\n",
              "      <td>685</td>\n",
              "      <td>1269</td>\n",
              "      <td>0.540</td>\n",
              "      <td>...</td>\n",
              "      <td>61</td>\n",
              "      <td>457</td>\n",
              "      <td>518</td>\n",
              "      <td>589</td>\n",
              "      <td>89</td>\n",
              "      <td>38</td>\n",
              "      <td>245</td>\n",
              "      <td>78</td>\n",
              "      <td>1822</td>\n",
              "      <td>jamesle01</td>\n",
              "    </tr>\n",
              "    <tr>\n",
              "      <th>258</th>\n",
              "      <td>James Johnson</td>\n",
              "      <td>PF</td>\n",
              "      <td>36</td>\n",
              "      <td>IND</td>\n",
              "      <td>9</td>\n",
              "      <td>0</td>\n",
              "      <td>47</td>\n",
              "      <td>3</td>\n",
              "      <td>10</td>\n",
              "      <td>0.300</td>\n",
              "      <td>...</td>\n",
              "      <td>1</td>\n",
              "      <td>3</td>\n",
              "      <td>4</td>\n",
              "      <td>8</td>\n",
              "      <td>5</td>\n",
              "      <td>1</td>\n",
              "      <td>5</td>\n",
              "      <td>9</td>\n",
              "      <td>8</td>\n",
              "      <td>johnsja01</td>\n",
              "    </tr>\n",
              "    <tr>\n",
              "      <th>563</th>\n",
              "      <td>James Wiseman</td>\n",
              "      <td>C</td>\n",
              "      <td>22</td>\n",
              "      <td>DET</td>\n",
              "      <td>63</td>\n",
              "      <td>6</td>\n",
              "      <td>1091</td>\n",
              "      <td>187</td>\n",
              "      <td>305</td>\n",
              "      <td>0.613</td>\n",
              "      <td>...</td>\n",
              "      <td>110</td>\n",
              "      <td>226</td>\n",
              "      <td>336</td>\n",
              "      <td>54</td>\n",
              "      <td>12</td>\n",
              "      <td>39</td>\n",
              "      <td>66</td>\n",
              "      <td>141</td>\n",
              "      <td>446</td>\n",
              "      <td>wisemja01</td>\n",
              "    </tr>\n",
              "  </tbody>\n",
              "</table>\n",
              "<p>5 rows × 30 columns</p>\n",
              "</div>\n",
              "    <div class=\"colab-df-buttons\">\n",
              "\n",
              "  <div class=\"colab-df-container\">\n",
              "    <button class=\"colab-df-convert\" onclick=\"convertToInteractive('df-958c777c-9ffd-4e72-9ac0-b1224935c764')\"\n",
              "            title=\"Convert this dataframe to an interactive table.\"\n",
              "            style=\"display:none;\">\n",
              "\n",
              "  <svg xmlns=\"http://www.w3.org/2000/svg\" height=\"24px\" viewBox=\"0 -960 960 960\">\n",
              "    <path d=\"M120-120v-720h720v720H120Zm60-500h600v-160H180v160Zm220 220h160v-160H400v160Zm0 220h160v-160H400v160ZM180-400h160v-160H180v160Zm440 0h160v-160H620v160ZM180-180h160v-160H180v160Zm440 0h160v-160H620v160Z\"/>\n",
              "  </svg>\n",
              "    </button>\n",
              "\n",
              "  <style>\n",
              "    .colab-df-container {\n",
              "      display:flex;\n",
              "      gap: 12px;\n",
              "    }\n",
              "\n",
              "    .colab-df-convert {\n",
              "      background-color: #E8F0FE;\n",
              "      border: none;\n",
              "      border-radius: 50%;\n",
              "      cursor: pointer;\n",
              "      display: none;\n",
              "      fill: #1967D2;\n",
              "      height: 32px;\n",
              "      padding: 0 0 0 0;\n",
              "      width: 32px;\n",
              "    }\n",
              "\n",
              "    .colab-df-convert:hover {\n",
              "      background-color: #E2EBFA;\n",
              "      box-shadow: 0px 1px 2px rgba(60, 64, 67, 0.3), 0px 1px 3px 1px rgba(60, 64, 67, 0.15);\n",
              "      fill: #174EA6;\n",
              "    }\n",
              "\n",
              "    .colab-df-buttons div {\n",
              "      margin-bottom: 4px;\n",
              "    }\n",
              "\n",
              "    [theme=dark] .colab-df-convert {\n",
              "      background-color: #3B4455;\n",
              "      fill: #D2E3FC;\n",
              "    }\n",
              "\n",
              "    [theme=dark] .colab-df-convert:hover {\n",
              "      background-color: #434B5C;\n",
              "      box-shadow: 0px 1px 3px 1px rgba(0, 0, 0, 0.15);\n",
              "      filter: drop-shadow(0px 1px 2px rgba(0, 0, 0, 0.3));\n",
              "      fill: #FFFFFF;\n",
              "    }\n",
              "  </style>\n",
              "\n",
              "    <script>\n",
              "      const buttonEl =\n",
              "        document.querySelector('#df-958c777c-9ffd-4e72-9ac0-b1224935c764 button.colab-df-convert');\n",
              "      buttonEl.style.display =\n",
              "        google.colab.kernel.accessAllowed ? 'block' : 'none';\n",
              "\n",
              "      async function convertToInteractive(key) {\n",
              "        const element = document.querySelector('#df-958c777c-9ffd-4e72-9ac0-b1224935c764');\n",
              "        const dataTable =\n",
              "          await google.colab.kernel.invokeFunction('convertToInteractive',\n",
              "                                                    [key], {});\n",
              "        if (!dataTable) return;\n",
              "\n",
              "        const docLinkHtml = 'Like what you see? Visit the ' +\n",
              "          '<a target=\"_blank\" href=https://colab.research.google.com/notebooks/data_table.ipynb>data table notebook</a>'\n",
              "          + ' to learn more about interactive tables.';\n",
              "        element.innerHTML = '';\n",
              "        dataTable['output_type'] = 'display_data';\n",
              "        await google.colab.output.renderOutput(dataTable, element);\n",
              "        const docLink = document.createElement('div');\n",
              "        docLink.innerHTML = docLinkHtml;\n",
              "        element.appendChild(docLink);\n",
              "      }\n",
              "    </script>\n",
              "  </div>\n",
              "\n",
              "\n",
              "    <div id=\"df-ecd06d1d-ce54-4e8a-a0a8-87b304c65340\">\n",
              "      <button class=\"colab-df-quickchart\" onclick=\"quickchart('df-ecd06d1d-ce54-4e8a-a0a8-87b304c65340')\"\n",
              "                title=\"Suggest charts\"\n",
              "                style=\"display:none;\">\n",
              "\n",
              "<svg xmlns=\"http://www.w3.org/2000/svg\" height=\"24px\"viewBox=\"0 0 24 24\"\n",
              "     width=\"24px\">\n",
              "    <g>\n",
              "        <path d=\"M19 3H5c-1.1 0-2 .9-2 2v14c0 1.1.9 2 2 2h14c1.1 0 2-.9 2-2V5c0-1.1-.9-2-2-2zM9 17H7v-7h2v7zm4 0h-2V7h2v10zm4 0h-2v-4h2v4z\"/>\n",
              "    </g>\n",
              "</svg>\n",
              "      </button>\n",
              "\n",
              "<style>\n",
              "  .colab-df-quickchart {\n",
              "      --bg-color: #E8F0FE;\n",
              "      --fill-color: #1967D2;\n",
              "      --hover-bg-color: #E2EBFA;\n",
              "      --hover-fill-color: #174EA6;\n",
              "      --disabled-fill-color: #AAA;\n",
              "      --disabled-bg-color: #DDD;\n",
              "  }\n",
              "\n",
              "  [theme=dark] .colab-df-quickchart {\n",
              "      --bg-color: #3B4455;\n",
              "      --fill-color: #D2E3FC;\n",
              "      --hover-bg-color: #434B5C;\n",
              "      --hover-fill-color: #FFFFFF;\n",
              "      --disabled-bg-color: #3B4455;\n",
              "      --disabled-fill-color: #666;\n",
              "  }\n",
              "\n",
              "  .colab-df-quickchart {\n",
              "    background-color: var(--bg-color);\n",
              "    border: none;\n",
              "    border-radius: 50%;\n",
              "    cursor: pointer;\n",
              "    display: none;\n",
              "    fill: var(--fill-color);\n",
              "    height: 32px;\n",
              "    padding: 0;\n",
              "    width: 32px;\n",
              "  }\n",
              "\n",
              "  .colab-df-quickchart:hover {\n",
              "    background-color: var(--hover-bg-color);\n",
              "    box-shadow: 0 1px 2px rgba(60, 64, 67, 0.3), 0 1px 3px 1px rgba(60, 64, 67, 0.15);\n",
              "    fill: var(--button-hover-fill-color);\n",
              "  }\n",
              "\n",
              "  .colab-df-quickchart-complete:disabled,\n",
              "  .colab-df-quickchart-complete:disabled:hover {\n",
              "    background-color: var(--disabled-bg-color);\n",
              "    fill: var(--disabled-fill-color);\n",
              "    box-shadow: none;\n",
              "  }\n",
              "\n",
              "  .colab-df-spinner {\n",
              "    border: 2px solid var(--fill-color);\n",
              "    border-color: transparent;\n",
              "    border-bottom-color: var(--fill-color);\n",
              "    animation:\n",
              "      spin 1s steps(1) infinite;\n",
              "  }\n",
              "\n",
              "  @keyframes spin {\n",
              "    0% {\n",
              "      border-color: transparent;\n",
              "      border-bottom-color: var(--fill-color);\n",
              "      border-left-color: var(--fill-color);\n",
              "    }\n",
              "    20% {\n",
              "      border-color: transparent;\n",
              "      border-left-color: var(--fill-color);\n",
              "      border-top-color: var(--fill-color);\n",
              "    }\n",
              "    30% {\n",
              "      border-color: transparent;\n",
              "      border-left-color: var(--fill-color);\n",
              "      border-top-color: var(--fill-color);\n",
              "      border-right-color: var(--fill-color);\n",
              "    }\n",
              "    40% {\n",
              "      border-color: transparent;\n",
              "      border-right-color: var(--fill-color);\n",
              "      border-top-color: var(--fill-color);\n",
              "    }\n",
              "    60% {\n",
              "      border-color: transparent;\n",
              "      border-right-color: var(--fill-color);\n",
              "    }\n",
              "    80% {\n",
              "      border-color: transparent;\n",
              "      border-right-color: var(--fill-color);\n",
              "      border-bottom-color: var(--fill-color);\n",
              "    }\n",
              "    90% {\n",
              "      border-color: transparent;\n",
              "      border-bottom-color: var(--fill-color);\n",
              "    }\n",
              "  }\n",
              "</style>\n",
              "\n",
              "      <script>\n",
              "        async function quickchart(key) {\n",
              "          const quickchartButtonEl =\n",
              "            document.querySelector('#' + key + ' button');\n",
              "          quickchartButtonEl.disabled = true;  // To prevent multiple clicks.\n",
              "          quickchartButtonEl.classList.add('colab-df-spinner');\n",
              "          try {\n",
              "            const charts = await google.colab.kernel.invokeFunction(\n",
              "                'suggestCharts', [key], {});\n",
              "          } catch (error) {\n",
              "            console.error('Error during call to suggestCharts:', error);\n",
              "          }\n",
              "          quickchartButtonEl.classList.remove('colab-df-spinner');\n",
              "          quickchartButtonEl.classList.add('colab-df-quickchart-complete');\n",
              "        }\n",
              "        (() => {\n",
              "          let quickchartButtonEl =\n",
              "            document.querySelector('#df-ecd06d1d-ce54-4e8a-a0a8-87b304c65340 button');\n",
              "          quickchartButtonEl.style.display =\n",
              "            google.colab.kernel.accessAllowed ? 'block' : 'none';\n",
              "        })();\n",
              "      </script>\n",
              "    </div>\n",
              "\n",
              "    </div>\n",
              "  </div>\n"
            ],
            "application/vnd.google.colaboratory.intrinsic+json": {
              "type": "dataframe"
            }
          },
          "metadata": {},
          "execution_count": 297
        }
      ]
    },
    {
      "cell_type": "markdown",
      "source": [
        "This next task was supposed to require you to make a for loop, but I underestimated how powerful pandas' query function is. So, although my answer key does have a soultion that works, its better to use only query.\n",
        "\n",
        "Also, to make 'FT%' work in query, write '\\`FT%\\`' instead."
      ],
      "metadata": {
        "id": "l9PkQ4E19gPZ"
      }
    },
    {
      "cell_type": "markdown",
      "source": [
        "**Task11**:\n",
        "\n",
        "Display all players--and their stats-- from the 2023/2024 NBA season, who are PG (point guards), have a 0.9 FG% (free throw percentage) or higher,  and have more than 40 FTA (free throw attempts)."
      ],
      "metadata": {
        "id": "8vMSBRIj2MzA"
      }
    },
    {
      "cell_type": "code",
      "source": [
        "#ANSWER11\n",
        "#basketball.query('Pos == \"PG\" and `FT%`>=.9 and FTA>40')\n",
        "\n",
        "#ANSWER11\n",
        "\n",
        "#create an array of all zeros the same length as one of the columns in basketball\n",
        "gudPGFT_index = np.zeros_like(basketball.Player)\n",
        "\n",
        "#index is the number of the row, name is the string that represents position\n",
        "#enumerate is a function that breaks basketball.Pos into index and name\n",
        "for index, position in enumerate(basketball.Pos):\n",
        "\n",
        "    #if the string 'PG' is in the string of player position\n",
        "    if 'PG' in position and basketball.loc[index].Pos == \"PG\" and basketball.loc[index].F >=  .9 and basketball.loc[index].FTA>40 :\n",
        "\n",
        "        #then put a True value, or 1, in the corresponding index tracker\n",
        "        gudPGFT_index[index] = 1\n",
        "\n",
        "#adds up the array elements\n",
        "#this helps me know if my loop went awry or not\n",
        "gudPGFT = basketball.loc[gudPGFT_index == 1]\n",
        "gudPGFT"
      ],
      "metadata": {
        "id": "y4ccY05_2wmT",
        "colab": {
          "base_uri": "https://localhost:8080/",
          "height": 332
        },
        "outputId": "3a1dc58d-f059-47d3-9fec-366dd2802a5e"
      },
      "execution_count": null,
      "outputs": [
        {
          "output_type": "error",
          "ename": "AttributeError",
          "evalue": "'Series' object has no attribute 'F'",
          "traceback": [
            "\u001b[0;31m---------------------------------------------------------------------------\u001b[0m",
            "\u001b[0;31mAttributeError\u001b[0m                            Traceback (most recent call last)",
            "\u001b[0;32m/tmp/ipython-input-1250967571.py\u001b[0m in \u001b[0;36m<cell line: 0>\u001b[0;34m()\u001b[0m\n\u001b[1;32m     12\u001b[0m \u001b[0;34m\u001b[0m\u001b[0m\n\u001b[1;32m     13\u001b[0m     \u001b[0;31m#if the string 'PG' is in the string of player position\u001b[0m\u001b[0;34m\u001b[0m\u001b[0;34m\u001b[0m\u001b[0m\n\u001b[0;32m---> 14\u001b[0;31m     \u001b[0;32mif\u001b[0m \u001b[0;34m'PG'\u001b[0m \u001b[0;32min\u001b[0m \u001b[0mposition\u001b[0m \u001b[0;32mand\u001b[0m \u001b[0mbasketball\u001b[0m\u001b[0;34m.\u001b[0m\u001b[0mloc\u001b[0m\u001b[0;34m[\u001b[0m\u001b[0mindex\u001b[0m\u001b[0;34m]\u001b[0m\u001b[0;34m.\u001b[0m\u001b[0mPos\u001b[0m \u001b[0;34m==\u001b[0m \u001b[0;34m\"PG\"\u001b[0m \u001b[0;32mand\u001b[0m \u001b[0mbasketball\u001b[0m\u001b[0;34m.\u001b[0m\u001b[0mloc\u001b[0m\u001b[0;34m[\u001b[0m\u001b[0mindex\u001b[0m\u001b[0;34m]\u001b[0m\u001b[0;34m.\u001b[0m\u001b[0mF\u001b[0m \u001b[0;34m>=\u001b[0m  \u001b[0;36m.9\u001b[0m \u001b[0;32mand\u001b[0m \u001b[0mbasketball\u001b[0m\u001b[0;34m.\u001b[0m\u001b[0mloc\u001b[0m\u001b[0;34m[\u001b[0m\u001b[0mindex\u001b[0m\u001b[0;34m]\u001b[0m\u001b[0;34m.\u001b[0m\u001b[0mFTA\u001b[0m\u001b[0;34m>\u001b[0m\u001b[0;36m40\u001b[0m \u001b[0;34m:\u001b[0m\u001b[0;34m\u001b[0m\u001b[0;34m\u001b[0m\u001b[0m\n\u001b[0m\u001b[1;32m     15\u001b[0m \u001b[0;34m\u001b[0m\u001b[0m\n\u001b[1;32m     16\u001b[0m         \u001b[0;31m#then put a True value, or 1, in the corresponding index tracker\u001b[0m\u001b[0;34m\u001b[0m\u001b[0;34m\u001b[0m\u001b[0m\n",
            "\u001b[0;32m/usr/local/lib/python3.12/dist-packages/pandas/core/generic.py\u001b[0m in \u001b[0;36m__getattr__\u001b[0;34m(self, name)\u001b[0m\n\u001b[1;32m   6297\u001b[0m         ):\n\u001b[1;32m   6298\u001b[0m             \u001b[0;32mreturn\u001b[0m \u001b[0mself\u001b[0m\u001b[0;34m[\u001b[0m\u001b[0mname\u001b[0m\u001b[0;34m]\u001b[0m\u001b[0;34m\u001b[0m\u001b[0;34m\u001b[0m\u001b[0m\n\u001b[0;32m-> 6299\u001b[0;31m         \u001b[0;32mreturn\u001b[0m \u001b[0mobject\u001b[0m\u001b[0;34m.\u001b[0m\u001b[0m__getattribute__\u001b[0m\u001b[0;34m(\u001b[0m\u001b[0mself\u001b[0m\u001b[0;34m,\u001b[0m \u001b[0mname\u001b[0m\u001b[0;34m)\u001b[0m\u001b[0;34m\u001b[0m\u001b[0;34m\u001b[0m\u001b[0m\n\u001b[0m\u001b[1;32m   6300\u001b[0m \u001b[0;34m\u001b[0m\u001b[0m\n\u001b[1;32m   6301\u001b[0m     \u001b[0;34m@\u001b[0m\u001b[0mfinal\u001b[0m\u001b[0;34m\u001b[0m\u001b[0;34m\u001b[0m\u001b[0m\n",
            "\u001b[0;31mAttributeError\u001b[0m: 'Series' object has no attribute 'F'"
          ]
        }
      ]
    },
    {
      "cell_type": "markdown",
      "source": [
        "## Exporting Data from Colab\n",
        "\n",
        "I don't plan on making you do this as part of the course, but this is still a skill I want you to have.\n",
        "\n",
        "As usual, I'm only covering a tiny bit of what's available. For more info, see: [Importing/Exporting files using pandas](https://pandas.pydata.org/docs/reference/io.html)"
      ],
      "metadata": {
        "id": "Eecz-8LBCA5i"
      }
    },
    {
      "cell_type": "markdown",
      "source": [
        "Let's say I have a colleague for who doesn't know how to code and will not ever learn how, but they still need the data I've manipulated/generated in order to do their job.\n",
        "\n",
        "In this case, the path of least resistance is to export the data from Colab to my local machine, and then put it in a shared cloud folder (like google drive) and/or send it to them in an email.\n",
        "\n",
        "Let's practice this with the James data, shown below."
      ],
      "metadata": {
        "id": "p-yKIjDmCndi"
      }
    },
    {
      "cell_type": "code",
      "source": [
        "james_df = basketball.loc[james_index == True]\n",
        "james_df"
      ],
      "metadata": {
        "id": "1KkXOA39EbQz",
        "colab": {
          "base_uri": "https://localhost:8080/",
          "height": 236
        },
        "outputId": "0ba8b3c0-c3c0-4926-d603-d8ccc38a7b12"
      },
      "execution_count": null,
      "outputs": [
        {
          "output_type": "execute_result",
          "data": {
            "text/plain": [
              "              Player Pos  Age   Tm   G  GS    MP   FG   FGA    FG%  ...  ORB  \\\n",
              "56   James Bouknight  SG   23  CHO  14   0    81   18    41  0.439  ...    1   \n",
              "198     James Harden  PG   34  LAC  72  72  2470  352   822  0.428  ...   34   \n",
              "249     LeBron James  PF   39  LAL  71  71  2504  685  1269  0.540  ...   61   \n",
              "258    James Johnson  PF   36  IND   9   0    47    3    10  0.300  ...    1   \n",
              "563    James Wiseman   C   22  DET  63   6  1091  187   305  0.613  ...  110   \n",
              "\n",
              "     DRB  TRB  AST  STL  BLK  TOV   PF   PTS  Player-additional  \n",
              "56     8    9    6    1    1    2    3    50          bouknja01  \n",
              "198  335  369  614   77   57  185  127  1192          hardeja01  \n",
              "249  457  518  589   89   38  245   78  1822          jamesle01  \n",
              "258    3    4    8    5    1    5    9     8          johnsja01  \n",
              "563  226  336   54   12   39   66  141   446          wisemja01  \n",
              "\n",
              "[5 rows x 30 columns]"
            ],
            "text/html": [
              "\n",
              "  <div id=\"df-b6c5f885-42eb-4778-ae15-84c2baa7e39c\" class=\"colab-df-container\">\n",
              "    <div>\n",
              "<style scoped>\n",
              "    .dataframe tbody tr th:only-of-type {\n",
              "        vertical-align: middle;\n",
              "    }\n",
              "\n",
              "    .dataframe tbody tr th {\n",
              "        vertical-align: top;\n",
              "    }\n",
              "\n",
              "    .dataframe thead th {\n",
              "        text-align: right;\n",
              "    }\n",
              "</style>\n",
              "<table border=\"1\" class=\"dataframe\">\n",
              "  <thead>\n",
              "    <tr style=\"text-align: right;\">\n",
              "      <th></th>\n",
              "      <th>Player</th>\n",
              "      <th>Pos</th>\n",
              "      <th>Age</th>\n",
              "      <th>Tm</th>\n",
              "      <th>G</th>\n",
              "      <th>GS</th>\n",
              "      <th>MP</th>\n",
              "      <th>FG</th>\n",
              "      <th>FGA</th>\n",
              "      <th>FG%</th>\n",
              "      <th>...</th>\n",
              "      <th>ORB</th>\n",
              "      <th>DRB</th>\n",
              "      <th>TRB</th>\n",
              "      <th>AST</th>\n",
              "      <th>STL</th>\n",
              "      <th>BLK</th>\n",
              "      <th>TOV</th>\n",
              "      <th>PF</th>\n",
              "      <th>PTS</th>\n",
              "      <th>Player-additional</th>\n",
              "    </tr>\n",
              "  </thead>\n",
              "  <tbody>\n",
              "    <tr>\n",
              "      <th>56</th>\n",
              "      <td>James Bouknight</td>\n",
              "      <td>SG</td>\n",
              "      <td>23</td>\n",
              "      <td>CHO</td>\n",
              "      <td>14</td>\n",
              "      <td>0</td>\n",
              "      <td>81</td>\n",
              "      <td>18</td>\n",
              "      <td>41</td>\n",
              "      <td>0.439</td>\n",
              "      <td>...</td>\n",
              "      <td>1</td>\n",
              "      <td>8</td>\n",
              "      <td>9</td>\n",
              "      <td>6</td>\n",
              "      <td>1</td>\n",
              "      <td>1</td>\n",
              "      <td>2</td>\n",
              "      <td>3</td>\n",
              "      <td>50</td>\n",
              "      <td>bouknja01</td>\n",
              "    </tr>\n",
              "    <tr>\n",
              "      <th>198</th>\n",
              "      <td>James Harden</td>\n",
              "      <td>PG</td>\n",
              "      <td>34</td>\n",
              "      <td>LAC</td>\n",
              "      <td>72</td>\n",
              "      <td>72</td>\n",
              "      <td>2470</td>\n",
              "      <td>352</td>\n",
              "      <td>822</td>\n",
              "      <td>0.428</td>\n",
              "      <td>...</td>\n",
              "      <td>34</td>\n",
              "      <td>335</td>\n",
              "      <td>369</td>\n",
              "      <td>614</td>\n",
              "      <td>77</td>\n",
              "      <td>57</td>\n",
              "      <td>185</td>\n",
              "      <td>127</td>\n",
              "      <td>1192</td>\n",
              "      <td>hardeja01</td>\n",
              "    </tr>\n",
              "    <tr>\n",
              "      <th>249</th>\n",
              "      <td>LeBron James</td>\n",
              "      <td>PF</td>\n",
              "      <td>39</td>\n",
              "      <td>LAL</td>\n",
              "      <td>71</td>\n",
              "      <td>71</td>\n",
              "      <td>2504</td>\n",
              "      <td>685</td>\n",
              "      <td>1269</td>\n",
              "      <td>0.540</td>\n",
              "      <td>...</td>\n",
              "      <td>61</td>\n",
              "      <td>457</td>\n",
              "      <td>518</td>\n",
              "      <td>589</td>\n",
              "      <td>89</td>\n",
              "      <td>38</td>\n",
              "      <td>245</td>\n",
              "      <td>78</td>\n",
              "      <td>1822</td>\n",
              "      <td>jamesle01</td>\n",
              "    </tr>\n",
              "    <tr>\n",
              "      <th>258</th>\n",
              "      <td>James Johnson</td>\n",
              "      <td>PF</td>\n",
              "      <td>36</td>\n",
              "      <td>IND</td>\n",
              "      <td>9</td>\n",
              "      <td>0</td>\n",
              "      <td>47</td>\n",
              "      <td>3</td>\n",
              "      <td>10</td>\n",
              "      <td>0.300</td>\n",
              "      <td>...</td>\n",
              "      <td>1</td>\n",
              "      <td>3</td>\n",
              "      <td>4</td>\n",
              "      <td>8</td>\n",
              "      <td>5</td>\n",
              "      <td>1</td>\n",
              "      <td>5</td>\n",
              "      <td>9</td>\n",
              "      <td>8</td>\n",
              "      <td>johnsja01</td>\n",
              "    </tr>\n",
              "    <tr>\n",
              "      <th>563</th>\n",
              "      <td>James Wiseman</td>\n",
              "      <td>C</td>\n",
              "      <td>22</td>\n",
              "      <td>DET</td>\n",
              "      <td>63</td>\n",
              "      <td>6</td>\n",
              "      <td>1091</td>\n",
              "      <td>187</td>\n",
              "      <td>305</td>\n",
              "      <td>0.613</td>\n",
              "      <td>...</td>\n",
              "      <td>110</td>\n",
              "      <td>226</td>\n",
              "      <td>336</td>\n",
              "      <td>54</td>\n",
              "      <td>12</td>\n",
              "      <td>39</td>\n",
              "      <td>66</td>\n",
              "      <td>141</td>\n",
              "      <td>446</td>\n",
              "      <td>wisemja01</td>\n",
              "    </tr>\n",
              "  </tbody>\n",
              "</table>\n",
              "<p>5 rows × 30 columns</p>\n",
              "</div>\n",
              "    <div class=\"colab-df-buttons\">\n",
              "\n",
              "  <div class=\"colab-df-container\">\n",
              "    <button class=\"colab-df-convert\" onclick=\"convertToInteractive('df-b6c5f885-42eb-4778-ae15-84c2baa7e39c')\"\n",
              "            title=\"Convert this dataframe to an interactive table.\"\n",
              "            style=\"display:none;\">\n",
              "\n",
              "  <svg xmlns=\"http://www.w3.org/2000/svg\" height=\"24px\" viewBox=\"0 -960 960 960\">\n",
              "    <path d=\"M120-120v-720h720v720H120Zm60-500h600v-160H180v160Zm220 220h160v-160H400v160Zm0 220h160v-160H400v160ZM180-400h160v-160H180v160Zm440 0h160v-160H620v160ZM180-180h160v-160H180v160Zm440 0h160v-160H620v160Z\"/>\n",
              "  </svg>\n",
              "    </button>\n",
              "\n",
              "  <style>\n",
              "    .colab-df-container {\n",
              "      display:flex;\n",
              "      gap: 12px;\n",
              "    }\n",
              "\n",
              "    .colab-df-convert {\n",
              "      background-color: #E8F0FE;\n",
              "      border: none;\n",
              "      border-radius: 50%;\n",
              "      cursor: pointer;\n",
              "      display: none;\n",
              "      fill: #1967D2;\n",
              "      height: 32px;\n",
              "      padding: 0 0 0 0;\n",
              "      width: 32px;\n",
              "    }\n",
              "\n",
              "    .colab-df-convert:hover {\n",
              "      background-color: #E2EBFA;\n",
              "      box-shadow: 0px 1px 2px rgba(60, 64, 67, 0.3), 0px 1px 3px 1px rgba(60, 64, 67, 0.15);\n",
              "      fill: #174EA6;\n",
              "    }\n",
              "\n",
              "    .colab-df-buttons div {\n",
              "      margin-bottom: 4px;\n",
              "    }\n",
              "\n",
              "    [theme=dark] .colab-df-convert {\n",
              "      background-color: #3B4455;\n",
              "      fill: #D2E3FC;\n",
              "    }\n",
              "\n",
              "    [theme=dark] .colab-df-convert:hover {\n",
              "      background-color: #434B5C;\n",
              "      box-shadow: 0px 1px 3px 1px rgba(0, 0, 0, 0.15);\n",
              "      filter: drop-shadow(0px 1px 2px rgba(0, 0, 0, 0.3));\n",
              "      fill: #FFFFFF;\n",
              "    }\n",
              "  </style>\n",
              "\n",
              "    <script>\n",
              "      const buttonEl =\n",
              "        document.querySelector('#df-b6c5f885-42eb-4778-ae15-84c2baa7e39c button.colab-df-convert');\n",
              "      buttonEl.style.display =\n",
              "        google.colab.kernel.accessAllowed ? 'block' : 'none';\n",
              "\n",
              "      async function convertToInteractive(key) {\n",
              "        const element = document.querySelector('#df-b6c5f885-42eb-4778-ae15-84c2baa7e39c');\n",
              "        const dataTable =\n",
              "          await google.colab.kernel.invokeFunction('convertToInteractive',\n",
              "                                                    [key], {});\n",
              "        if (!dataTable) return;\n",
              "\n",
              "        const docLinkHtml = 'Like what you see? Visit the ' +\n",
              "          '<a target=\"_blank\" href=https://colab.research.google.com/notebooks/data_table.ipynb>data table notebook</a>'\n",
              "          + ' to learn more about interactive tables.';\n",
              "        element.innerHTML = '';\n",
              "        dataTable['output_type'] = 'display_data';\n",
              "        await google.colab.output.renderOutput(dataTable, element);\n",
              "        const docLink = document.createElement('div');\n",
              "        docLink.innerHTML = docLinkHtml;\n",
              "        element.appendChild(docLink);\n",
              "      }\n",
              "    </script>\n",
              "  </div>\n",
              "\n",
              "\n",
              "    <div id=\"df-43be5a68-c089-43f1-bd28-5e43cec571cc\">\n",
              "      <button class=\"colab-df-quickchart\" onclick=\"quickchart('df-43be5a68-c089-43f1-bd28-5e43cec571cc')\"\n",
              "                title=\"Suggest charts\"\n",
              "                style=\"display:none;\">\n",
              "\n",
              "<svg xmlns=\"http://www.w3.org/2000/svg\" height=\"24px\"viewBox=\"0 0 24 24\"\n",
              "     width=\"24px\">\n",
              "    <g>\n",
              "        <path d=\"M19 3H5c-1.1 0-2 .9-2 2v14c0 1.1.9 2 2 2h14c1.1 0 2-.9 2-2V5c0-1.1-.9-2-2-2zM9 17H7v-7h2v7zm4 0h-2V7h2v10zm4 0h-2v-4h2v4z\"/>\n",
              "    </g>\n",
              "</svg>\n",
              "      </button>\n",
              "\n",
              "<style>\n",
              "  .colab-df-quickchart {\n",
              "      --bg-color: #E8F0FE;\n",
              "      --fill-color: #1967D2;\n",
              "      --hover-bg-color: #E2EBFA;\n",
              "      --hover-fill-color: #174EA6;\n",
              "      --disabled-fill-color: #AAA;\n",
              "      --disabled-bg-color: #DDD;\n",
              "  }\n",
              "\n",
              "  [theme=dark] .colab-df-quickchart {\n",
              "      --bg-color: #3B4455;\n",
              "      --fill-color: #D2E3FC;\n",
              "      --hover-bg-color: #434B5C;\n",
              "      --hover-fill-color: #FFFFFF;\n",
              "      --disabled-bg-color: #3B4455;\n",
              "      --disabled-fill-color: #666;\n",
              "  }\n",
              "\n",
              "  .colab-df-quickchart {\n",
              "    background-color: var(--bg-color);\n",
              "    border: none;\n",
              "    border-radius: 50%;\n",
              "    cursor: pointer;\n",
              "    display: none;\n",
              "    fill: var(--fill-color);\n",
              "    height: 32px;\n",
              "    padding: 0;\n",
              "    width: 32px;\n",
              "  }\n",
              "\n",
              "  .colab-df-quickchart:hover {\n",
              "    background-color: var(--hover-bg-color);\n",
              "    box-shadow: 0 1px 2px rgba(60, 64, 67, 0.3), 0 1px 3px 1px rgba(60, 64, 67, 0.15);\n",
              "    fill: var(--button-hover-fill-color);\n",
              "  }\n",
              "\n",
              "  .colab-df-quickchart-complete:disabled,\n",
              "  .colab-df-quickchart-complete:disabled:hover {\n",
              "    background-color: var(--disabled-bg-color);\n",
              "    fill: var(--disabled-fill-color);\n",
              "    box-shadow: none;\n",
              "  }\n",
              "\n",
              "  .colab-df-spinner {\n",
              "    border: 2px solid var(--fill-color);\n",
              "    border-color: transparent;\n",
              "    border-bottom-color: var(--fill-color);\n",
              "    animation:\n",
              "      spin 1s steps(1) infinite;\n",
              "  }\n",
              "\n",
              "  @keyframes spin {\n",
              "    0% {\n",
              "      border-color: transparent;\n",
              "      border-bottom-color: var(--fill-color);\n",
              "      border-left-color: var(--fill-color);\n",
              "    }\n",
              "    20% {\n",
              "      border-color: transparent;\n",
              "      border-left-color: var(--fill-color);\n",
              "      border-top-color: var(--fill-color);\n",
              "    }\n",
              "    30% {\n",
              "      border-color: transparent;\n",
              "      border-left-color: var(--fill-color);\n",
              "      border-top-color: var(--fill-color);\n",
              "      border-right-color: var(--fill-color);\n",
              "    }\n",
              "    40% {\n",
              "      border-color: transparent;\n",
              "      border-right-color: var(--fill-color);\n",
              "      border-top-color: var(--fill-color);\n",
              "    }\n",
              "    60% {\n",
              "      border-color: transparent;\n",
              "      border-right-color: var(--fill-color);\n",
              "    }\n",
              "    80% {\n",
              "      border-color: transparent;\n",
              "      border-right-color: var(--fill-color);\n",
              "      border-bottom-color: var(--fill-color);\n",
              "    }\n",
              "    90% {\n",
              "      border-color: transparent;\n",
              "      border-bottom-color: var(--fill-color);\n",
              "    }\n",
              "  }\n",
              "</style>\n",
              "\n",
              "      <script>\n",
              "        async function quickchart(key) {\n",
              "          const quickchartButtonEl =\n",
              "            document.querySelector('#' + key + ' button');\n",
              "          quickchartButtonEl.disabled = true;  // To prevent multiple clicks.\n",
              "          quickchartButtonEl.classList.add('colab-df-spinner');\n",
              "          try {\n",
              "            const charts = await google.colab.kernel.invokeFunction(\n",
              "                'suggestCharts', [key], {});\n",
              "          } catch (error) {\n",
              "            console.error('Error during call to suggestCharts:', error);\n",
              "          }\n",
              "          quickchartButtonEl.classList.remove('colab-df-spinner');\n",
              "          quickchartButtonEl.classList.add('colab-df-quickchart-complete');\n",
              "        }\n",
              "        (() => {\n",
              "          let quickchartButtonEl =\n",
              "            document.querySelector('#df-43be5a68-c089-43f1-bd28-5e43cec571cc button');\n",
              "          quickchartButtonEl.style.display =\n",
              "            google.colab.kernel.accessAllowed ? 'block' : 'none';\n",
              "        })();\n",
              "      </script>\n",
              "    </div>\n",
              "\n",
              "  <div id=\"id_aa7fb9dc-c677-40d9-8dec-1af7459b3a03\">\n",
              "    <style>\n",
              "      .colab-df-generate {\n",
              "        background-color: #E8F0FE;\n",
              "        border: none;\n",
              "        border-radius: 50%;\n",
              "        cursor: pointer;\n",
              "        display: none;\n",
              "        fill: #1967D2;\n",
              "        height: 32px;\n",
              "        padding: 0 0 0 0;\n",
              "        width: 32px;\n",
              "      }\n",
              "\n",
              "      .colab-df-generate:hover {\n",
              "        background-color: #E2EBFA;\n",
              "        box-shadow: 0px 1px 2px rgba(60, 64, 67, 0.3), 0px 1px 3px 1px rgba(60, 64, 67, 0.15);\n",
              "        fill: #174EA6;\n",
              "      }\n",
              "\n",
              "      [theme=dark] .colab-df-generate {\n",
              "        background-color: #3B4455;\n",
              "        fill: #D2E3FC;\n",
              "      }\n",
              "\n",
              "      [theme=dark] .colab-df-generate:hover {\n",
              "        background-color: #434B5C;\n",
              "        box-shadow: 0px 1px 3px 1px rgba(0, 0, 0, 0.15);\n",
              "        filter: drop-shadow(0px 1px 2px rgba(0, 0, 0, 0.3));\n",
              "        fill: #FFFFFF;\n",
              "      }\n",
              "    </style>\n",
              "    <button class=\"colab-df-generate\" onclick=\"generateWithVariable('james_df')\"\n",
              "            title=\"Generate code using this dataframe.\"\n",
              "            style=\"display:none;\">\n",
              "\n",
              "  <svg xmlns=\"http://www.w3.org/2000/svg\" height=\"24px\"viewBox=\"0 0 24 24\"\n",
              "       width=\"24px\">\n",
              "    <path d=\"M7,19H8.4L18.45,9,17,7.55,7,17.6ZM5,21V16.75L18.45,3.32a2,2,0,0,1,2.83,0l1.4,1.43a1.91,1.91,0,0,1,.58,1.4,1.91,1.91,0,0,1-.58,1.4L9.25,21ZM18.45,9,17,7.55Zm-12,3A5.31,5.31,0,0,0,4.9,8.1,5.31,5.31,0,0,0,1,6.5,5.31,5.31,0,0,0,4.9,4.9,5.31,5.31,0,0,0,6.5,1,5.31,5.31,0,0,0,8.1,4.9,5.31,5.31,0,0,0,12,6.5,5.46,5.46,0,0,0,6.5,12Z\"/>\n",
              "  </svg>\n",
              "    </button>\n",
              "    <script>\n",
              "      (() => {\n",
              "      const buttonEl =\n",
              "        document.querySelector('#id_aa7fb9dc-c677-40d9-8dec-1af7459b3a03 button.colab-df-generate');\n",
              "      buttonEl.style.display =\n",
              "        google.colab.kernel.accessAllowed ? 'block' : 'none';\n",
              "\n",
              "      buttonEl.onclick = () => {\n",
              "        google.colab.notebook.generateWithVariable('james_df');\n",
              "      }\n",
              "      })();\n",
              "    </script>\n",
              "  </div>\n",
              "\n",
              "    </div>\n",
              "  </div>\n"
            ],
            "application/vnd.google.colaboratory.intrinsic+json": {
              "type": "dataframe",
              "variable_name": "james_df"
            }
          },
          "metadata": {},
          "execution_count": 299
        }
      ]
    },
    {
      "cell_type": "markdown",
      "source": [
        "Here's how I can turn this into a csv, a format most programs (like excel) can read:"
      ],
      "metadata": {
        "id": "tIXIvi_NEhuO"
      }
    },
    {
      "cell_type": "code",
      "source": [
        "#creates a csv file on whatver machine the code is run on.\n",
        "#I need to name the file as well.\n",
        "james_df.to_csv('NBA_Jameses.csv')"
      ],
      "metadata": {
        "id": "P0Gff6oyEsCj"
      },
      "execution_count": null,
      "outputs": []
    },
    {
      "cell_type": "markdown",
      "source": [
        "Next steps:\n",
        "\n",
        "1. Look at the side panel--to the left of all the code and text blocks.\n",
        "\n",
        "2. Click on the icon that looks like a tiny manilla folder.\n",
        "\n",
        "3. Find NBA_Jameses.csv, hover your mouse over it, and click on the three stacked dots to the right of it.\n",
        "\n",
        "4. Click download.\n",
        "\n",
        "From there, its the same as downloading any file from the internet onto your computer."
      ],
      "metadata": {
        "id": "sjErCHmpFTeA"
      }
    },
    {
      "cell_type": "markdown",
      "source": [
        "While you're there, notice that you can upload files to the google server where all your code is being run, and even mount your google drive account."
      ],
      "metadata": {
        "id": "3vZm9Q1SGBtV"
      }
    },
    {
      "cell_type": "markdown",
      "source": [
        "## Further Reading\n",
        "\n",
        "As promised, there is much I didn't cover. Here's lip service to some of that left out information.\n",
        "\n"
      ],
      "metadata": {
        "id": "ytvCHMghHAI3"
      }
    },
    {
      "cell_type": "markdown",
      "source": [
        "### Tensors and xarrays\n",
        "\n",
        "Notable datastructures I didn't cover, but that are relevant for modern machcine learning: tensors, and xarrays.\n",
        "\n",
        "Tensors are multi dimensional arrays; technically numpy can make them, but tensorflow and Pytorch are two libraries that implement tensors more optimized for statistical learning.\n",
        "\n",
        "xarray is its own python library, and it's basically what would happen if a dataframe and a dict had the perfect child.\n",
        "\n",
        "We use tensors for doing math with high dimensional data, and we use xarrays to keeping track of a lot of seperate, but related, datasets.\n",
        "\n",
        "We won't use tensors unless we get to neural networks, but we'll use xarrays all the time. We'll discuss them more as they come up.\n"
      ],
      "metadata": {
        "id": "WYTnGKxfI-2k"
      }
    },
    {
      "cell_type": "markdown",
      "source": [
        "### Polars\n",
        "\n",
        "You may have noticed that query is slow. In fact pandas itself--while way faster than using lists--is quite slow.\n",
        "\n",
        "There is a relatively new library called [polars](https://pola.rs/) that does everything pandas does, but much faster.\n",
        "\n",
        "The only reason I will use pandas in my examples is because I was too lazy to learn a new thing."
      ],
      "metadata": {
        "id": "TKqZYJ4TPXJK"
      }
    },
    {
      "cell_type": "markdown",
      "source": [
        "### Data Wrangling\n",
        "\n",
        "Data Wrangling is what happens when the data you're interested in is not a csv . That's a bit of a joke and an exaggeration . . . but its also not.\n",
        "\n",
        "When I say csv, I mean nice, neat rows and columns, with everything lined up and seperated by commas.\n",
        "\n",
        "Here are a few ways real world data can make us suffer:\n",
        "- it's not collected in rows and columns\n",
        "- it's collected in rows and columns, but so disorganized that the rows and columns don't actually mean anything.\n",
        "- it's collected in neat rows and columns, but the the entries into those rows and columns are inconsistent in format.\n",
        "- everything is in rows and columns, neat and consistent throughout--but our functions are still reading the data wrong (this happened to me with a csv file that wasn't actually seperated by commas, but by semi colons instead).\n",
        "- like the last point, except everything was read correctly, but now there are missing values.\n",
        "- any combination of the above.\n",
        "\n",
        "Even if everything is actually perfect--which does happen--data sets can be so large that doing anything with them at all is a chore.\n",
        "\n",
        "For class notes and exercises, I've limited my examples to perfectly clean, small to medium sized data.\n",
        "\n",
        "Projects, however, are open ended, and you will choose your your own data. So up to you if you want to choose a pre-cleaned data set or not."
      ],
      "metadata": {
        "id": "lpYgcE1hJXRf"
      }
    },
    {
      "cell_type": "markdown",
      "source": [
        "## Summary\n",
        "\n",
        "We covered quite a bit in our first unit.\n",
        "\n",
        "We:\n",
        "\n",
        "- learned the two main ways python deals with numbers, ints and floats\n",
        "- covered strings, lists, and dicts, which we can use to store multiple pieces of data linked together.\n",
        "- introduced the numpy array, the most common way to mathematically operate on collections of data of the same type in python\n",
        "- manipulated real world tabular data using pandas\n",
        "- learned how to import and export data from pandas.\n",
        "\n",
        "I expect most of y'all to feel overwhelmed and confused, especially if this is your first coding class. That's good! It means you're thinking about this material.\n",
        "\n",
        "Remember, I'm not asking or expecting you to become an expert data scientist. Our goal is to get vulnearble and expose ourselves to how data science/modern statistics is done. Feel good if you've done that!"
      ],
      "metadata": {
        "id": "9kayKzu5M8-N"
      }
    }
  ]
}
